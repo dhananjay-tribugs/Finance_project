{
 "cells": [
  {
   "cell_type": "code",
   "execution_count": 1,
   "metadata": {},
   "outputs": [],
   "source": [
    "import os\n",
    "os.chdir(\"..\")"
   ]
  },
  {
   "cell_type": "code",
   "execution_count": 3,
   "metadata": {},
   "outputs": [
    {
     "data": {
      "text/html": [
       "<div>\n",
       "<style scoped>\n",
       "    .dataframe tbody tr th:only-of-type {\n",
       "        vertical-align: middle;\n",
       "    }\n",
       "\n",
       "    .dataframe tbody tr th {\n",
       "        vertical-align: top;\n",
       "    }\n",
       "\n",
       "    .dataframe thead th {\n",
       "        text-align: right;\n",
       "    }\n",
       "</style>\n",
       "<table border=\"1\" class=\"dataframe\">\n",
       "  <thead>\n",
       "    <tr style=\"text-align: right;\">\n",
       "      <th></th>\n",
       "      <th>Customer ID</th>\n",
       "      <th>Occupation</th>\n",
       "      <th>Risk Appetite</th>\n",
       "    </tr>\n",
       "  </thead>\n",
       "  <tbody>\n",
       "    <tr>\n",
       "      <th>0</th>\n",
       "      <td>131015</td>\n",
       "      <td>Salaried</td>\n",
       "      <td>High</td>\n",
       "    </tr>\n",
       "    <tr>\n",
       "      <th>1</th>\n",
       "      <td>131006</td>\n",
       "      <td>Salaried</td>\n",
       "      <td>High</td>\n",
       "    </tr>\n",
       "    <tr>\n",
       "      <th>2</th>\n",
       "      <td>131005</td>\n",
       "      <td>Salaried</td>\n",
       "      <td>Low</td>\n",
       "    </tr>\n",
       "    <tr>\n",
       "      <th>3</th>\n",
       "      <td>130988</td>\n",
       "      <td>Salaried</td>\n",
       "      <td>Medium</td>\n",
       "    </tr>\n",
       "    <tr>\n",
       "      <th>4</th>\n",
       "      <td>130986</td>\n",
       "      <td>Salaried</td>\n",
       "      <td>Low</td>\n",
       "    </tr>\n",
       "  </tbody>\n",
       "</table>\n",
       "</div>"
      ],
      "text/plain": [
       "   Customer ID Occupation Risk Appetite\n",
       "0       131015   Salaried          High\n",
       "1       131006   Salaried          High\n",
       "2       131005   Salaried           Low\n",
       "3       130988   Salaried        Medium\n",
       "4       130986   Salaried           Low"
      ]
     },
     "execution_count": 3,
     "metadata": {},
     "output_type": "execute_result"
    }
   ],
   "source": [
    "import pandas as pd \n",
    "path = \"data\\MF Customer Details.xlsx\"\n",
    "\n",
    "cust_data =  pd.read_excel(path)\n",
    "\n",
    "cust_data.head()\n",
    "\n"
   ]
  },
  {
   "cell_type": "code",
   "execution_count": 17,
   "metadata": {},
   "outputs": [
    {
     "name": "stderr",
     "output_type": "stream",
     "text": [
      "C:\\Users\\arunk\\AppData\\Local\\Temp\\ipykernel_2156\\1581842844.py:1: DtypeWarning: Columns (11) have mixed types. Specify dtype option on import or set low_memory=False.\n",
      "  red_data = pd.read_csv(\"data\\MF_Model_base.csv\",\n"
     ]
    },
    {
     "name": "stdout",
     "output_type": "stream",
     "text": [
      "<class 'pandas.core.frame.DataFrame'>\n",
      "RangeIndex: 946207 entries, 0 to 946206\n",
      "Data columns (total 12 columns):\n",
      " #   Column           Non-Null Count   Dtype         \n",
      "---  ------           --------------   -----         \n",
      " 0   date             946207 non-null  datetime64[ns]\n",
      " 1   Customer ID      946207 non-null  int64         \n",
      " 2   FA ID            946207 non-null  int64         \n",
      " 3   Scheme Code      946207 non-null  int64         \n",
      " 4   Txn. No          946207 non-null  object        \n",
      " 5   Txn. Type        946207 non-null  object        \n",
      " 6   Txn. Sub Type    946207 non-null  object        \n",
      " 7   Units            946207 non-null  float64       \n",
      " 8   Purchase Amount  946207 non-null  float64       \n",
      " 9   City             943217 non-null  object        \n",
      " 10  Pin Code         945645 non-null  object        \n",
      " 11  Date of Birth    937774 non-null  object        \n",
      "dtypes: datetime64[ns](1), float64(2), int64(3), object(6)\n",
      "memory usage: 86.6+ MB\n"
     ]
    }
   ],
   "source": [
    "red_data = pd.read_csv(\"data\\MF_Model_base.csv\",\n",
    "                 parse_dates= {\"date\" : [\"Year\",\"Month\"]})\n",
    "red_data.info()"
   ]
  },
  {
   "cell_type": "code",
   "execution_count": 19,
   "metadata": {},
   "outputs": [
    {
     "name": "stdout",
     "output_type": "stream",
     "text": [
      "2013-12-01 00:00:00 2022-12-01 00:00:00\n"
     ]
    }
   ],
   "source": [
    "min_date = red_data[\"date\"].min()\n",
    "max_date = red_data[\"date\"].max()\n",
    "print(min_date,max_date)"
   ]
  },
  {
   "cell_type": "code",
   "execution_count": null,
   "metadata": {},
   "outputs": [],
   "source": []
  }
 ],
 "metadata": {
  "kernelspec": {
   "display_name": "Python 3",
   "language": "python",
   "name": "python3"
  },
  "language_info": {
   "codemirror_mode": {
    "name": "ipython",
    "version": 3
   },
   "file_extension": ".py",
   "mimetype": "text/x-python",
   "name": "python",
   "nbconvert_exporter": "python",
   "pygments_lexer": "ipython3",
   "version": "3.9.16"
  },
  "orig_nbformat": 4
 },
 "nbformat": 4,
 "nbformat_minor": 2
}

{
 "cells": [
  {
   "cell_type": "code",
   "execution_count": 1,
   "metadata": {},
<<<<<<< HEAD
   "outputs": [
    {
     "data": {
      "text/plain": [
       "'C:\\\\Users\\\\arunk\\\\Finance_project'"
      ]
     },
     "execution_count": 1,
     "metadata": {},
     "output_type": "execute_result"
    }
   ],
   "source": [
    "import os \n",
    "import pandas as pd\n",
    "os.chdir(r\"C:\\Users\\arunk\\Finance_project\")\n",
    "os.getcwd()\n"
   ]
  },
  {
   "cell_type": "code",
   "execution_count": 2,
   "metadata": {},
   "outputs": [
    {
     "name": "stderr",
     "output_type": "stream",
     "text": [
      "c:\\Users\\arunk\\Finance_project\\Finance_project\\lib\\site-packages\\IPython\\core\\interactiveshell.py:3552: DtypeWarning: Columns (11) have mixed types.Specify dtype option on import or set low_memory=False.\n",
      "  exec(code_obj, self.user_global_ns, self.user_ns)\n"
     ]
    },
    {
     "name": "stdout",
     "output_type": "stream",
     "text": [
      "<class 'pandas.core.frame.DataFrame'>\n",
      "RangeIndex: 946207 entries, 0 to 946206\n",
      "Data columns (total 12 columns):\n",
      " #   Column           Non-Null Count   Dtype         \n",
      "---  ------           --------------   -----         \n",
      " 0   date             946207 non-null  datetime64[ns]\n",
      " 1   Customer ID      946207 non-null  int64         \n",
      " 2   FA ID            946207 non-null  int64         \n",
      " 3   Scheme Code      946207 non-null  int64         \n",
      " 4   Txn. No          946207 non-null  object        \n",
      " 5   Txn. Type        946207 non-null  object        \n",
      " 6   Txn. Sub Type    946207 non-null  object        \n",
      " 7   Units            946207 non-null  float64       \n",
      " 8   Purchase Amount  946207 non-null  float64       \n",
      " 9   City             943217 non-null  object        \n",
      " 10  Pin Code         945645 non-null  object        \n",
      " 11  Date of Birth    937774 non-null  object        \n",
      "dtypes: datetime64[ns](1), float64(2), int64(3), object(6)\n",
      "memory usage: 86.6+ MB\n"
     ]
    }
   ],
   "source": [
    "redeem_data = pd.read_csv(\"data/MF_Model_base.csv\",\n",
    "                 parse_dates= {\"date\" : [\"Year\",\"Month\"]})\n",
    "redeem_data.info()"
=======
   "outputs": [],
   "source": [
    "import os\n",
    "os.chdir(\"..\")"
>>>>>>> ef51da1 (eda requirements added)
   ]
  },
  {
   "cell_type": "code",
   "execution_count": 3,
   "metadata": {},
   "outputs": [
    {
<<<<<<< HEAD
     "name": "stdout",
     "output_type": "stream",
     "text": [
      "2013-12-01 00:00:00 2022-12-01 00:00:00\n"
     ]
    }
   ],
   "source": [
    "min_date = redeem_data[\"date\"].min()\n",
    "max_date = redeem_data[\"date\"].max()\n",
    "print(min_date,max_date)\n",
    "from datetime import date, datetime"
   ]
  },
  {
   "cell_type": "code",
   "execution_count": 180,
   "metadata": {},
   "outputs": [
    {
     "data": {
      "text/html": [
       "<div>\n",
       "<style scoped>\n",
       "    .dataframe tbody tr th:only-of-type {\n",
       "        vertical-align: middle;\n",
       "    }\n",
       "\n",
       "    .dataframe tbody tr th {\n",
       "        vertical-align: top;\n",
       "    }\n",
       "\n",
       "    .dataframe thead th {\n",
       "        text-align: right;\n",
       "    }\n",
       "</style>\n",
       "<table border=\"1\" class=\"dataframe\">\n",
       "  <thead>\n",
       "    <tr style=\"text-align: right;\">\n",
       "      <th></th>\n",
       "      <th>Date</th>\n",
       "      <th>Open</th>\n",
       "      <th>High</th>\n",
       "      <th>Low</th>\n",
       "      <th>Close</th>\n",
       "    </tr>\n",
       "  </thead>\n",
       "  <tbody>\n",
       "    <tr>\n",
       "      <th>0</th>\n",
       "      <td>30 Dec 2022</td>\n",
       "      <td>19161.95</td>\n",
       "      <td>19166.70</td>\n",
       "      <td>18922.30</td>\n",
       "      <td>18981.20</td>\n",
       "    </tr>\n",
       "    <tr>\n",
       "      <th>1</th>\n",
       "      <td>29 Dec 2022</td>\n",
       "      <td>18903.15</td>\n",
       "      <td>19179.15</td>\n",
       "      <td>18796.95</td>\n",
       "      <td>19090.60</td>\n",
       "    </tr>\n",
       "    <tr>\n",
       "      <th>2</th>\n",
       "      <td>28 Dec 2022</td>\n",
       "      <td>18956.30</td>\n",
       "      <td>19042.60</td>\n",
       "      <td>18940.55</td>\n",
       "      <td>18982.85</td>\n",
       "    </tr>\n",
       "    <tr>\n",
       "      <th>3</th>\n",
       "      <td>27 Dec 2022</td>\n",
       "      <td>19002.05</td>\n",
       "      <td>19036.85</td>\n",
       "      <td>18838.30</td>\n",
       "      <td>19011.20</td>\n",
       "    </tr>\n",
       "    <tr>\n",
       "      <th>4</th>\n",
       "      <td>26 Dec 2022</td>\n",
       "      <td>18610.70</td>\n",
       "      <td>19010.65</td>\n",
       "      <td>18559.20</td>\n",
       "      <td>18928.65</td>\n",
       "    </tr>\n",
       "  </tbody>\n",
       "</table>\n",
       "</div>"
      ],
      "text/plain": [
       "          Date      Open      High       Low     Close\n",
       "0  30 Dec 2022  19161.95  19166.70  18922.30  18981.20\n",
       "1  29 Dec 2022  18903.15  19179.15  18796.95  19090.60\n",
       "2  28 Dec 2022  18956.30  19042.60  18940.55  18982.85\n",
       "3  27 Dec 2022  19002.05  19036.85  18838.30  19011.20\n",
       "4  26 Dec 2022  18610.70  19010.65  18559.20  18928.65"
      ]
     },
     "execution_count": 180,
     "metadata": {},
     "output_type": "execute_result"
    }
   ],
   "source": [
    "index_data = pd.read_csv(r\"data\\NIFTY FINANCIAL SERVICES_Data.csv\")\n",
    "index_data.head()"
   ]
  },
  {
   "cell_type": "code",
   "execution_count": 181,
   "metadata": {},
   "outputs": [
    {
=======
>>>>>>> ef51da1 (eda requirements added)
     "data": {
      "text/html": [
       "<div>\n",
       "<style scoped>\n",
       "    .dataframe tbody tr th:only-of-type {\n",
       "        vertical-align: middle;\n",
       "    }\n",
       "\n",
       "    .dataframe tbody tr th {\n",
       "        vertical-align: top;\n",
       "    }\n",
       "\n",
       "    .dataframe thead th {\n",
       "        text-align: right;\n",
       "    }\n",
       "</style>\n",
       "<table border=\"1\" class=\"dataframe\">\n",
       "  <thead>\n",
       "    <tr style=\"text-align: right;\">\n",
       "      <th></th>\n",
       "      <th>Customer ID</th>\n",
       "      <th>Occupation</th>\n",
       "      <th>Risk Appetite</th>\n",
       "    </tr>\n",
       "  </thead>\n",
       "  <tbody>\n",
       "    <tr>\n",
       "      <th>0</th>\n",
       "      <td>131015</td>\n",
       "      <td>Salaried</td>\n",
       "      <td>High</td>\n",
       "    </tr>\n",
       "    <tr>\n",
       "      <th>1</th>\n",
       "      <td>131006</td>\n",
       "      <td>Salaried</td>\n",
       "      <td>High</td>\n",
       "    </tr>\n",
       "    <tr>\n",
       "      <th>2</th>\n",
       "      <td>131005</td>\n",
       "      <td>Salaried</td>\n",
       "      <td>Low</td>\n",
       "    </tr>\n",
       "    <tr>\n",
       "      <th>3</th>\n",
       "      <td>130988</td>\n",
       "      <td>Salaried</td>\n",
       "      <td>Medium</td>\n",
       "    </tr>\n",
       "    <tr>\n",
       "      <th>4</th>\n",
       "      <td>130986</td>\n",
       "      <td>Salaried</td>\n",
       "      <td>Low</td>\n",
       "    </tr>\n",
       "  </tbody>\n",
       "</table>\n",
       "</div>"
      ],
      "text/plain": [
       "   Customer ID Occupation Risk Appetite\n",
       "0       131015   Salaried          High\n",
       "1       131006   Salaried          High\n",
       "2       131005   Salaried           Low\n",
       "3       130988   Salaried        Medium\n",
       "4       130986   Salaried           Low"
      ]
     },
<<<<<<< HEAD
     "execution_count": 181,
=======
     "execution_count": 3,
>>>>>>> ef51da1 (eda requirements added)
     "metadata": {},
     "output_type": "execute_result"
    }
   ],
   "source": [
<<<<<<< HEAD
    "cust_data = pd.read_excel(r\"data\\MF Customer Details.xlsx\")\n",
    "cust_data.head()"
=======
    "import pandas as pd \n",
    "path = \"data\\MF Customer Details.xlsx\"\n",
    "\n",
    "cust_data =  pd.read_excel(path)\n",
    "\n",
    "cust_data.head()\n",
    "\n"
>>>>>>> ef51da1 (eda requirements added)
   ]
  },
  {
   "cell_type": "code",
<<<<<<< HEAD
   "execution_count": 182,
   "metadata": {},
   "outputs": [
    {
     "name": "stdout",
     "output_type": "stream",
     "text": [
      "date           datetime64[ns]\n",
      "Customer ID             int64\n",
      "Txn. Type              object\n",
      "dtype: object\n"
     ]
    },
    {
     "data": {
      "text/html": [
       "<div>\n",
       "<style scoped>\n",
       "    .dataframe tbody tr th:only-of-type {\n",
       "        vertical-align: middle;\n",
       "    }\n",
       "\n",
       "    .dataframe tbody tr th {\n",
       "        vertical-align: top;\n",
       "    }\n",
       "\n",
       "    .dataframe thead th {\n",
       "        text-align: right;\n",
       "    }\n",
       "</style>\n",
       "<table border=\"1\" class=\"dataframe\">\n",
       "  <thead>\n",
       "    <tr style=\"text-align: right;\">\n",
       "      <th></th>\n",
       "      <th>date</th>\n",
       "      <th>Customer ID</th>\n",
       "      <th>Txn. Type</th>\n",
       "    </tr>\n",
       "  </thead>\n",
       "  <tbody>\n",
       "    <tr>\n",
       "      <th>0</th>\n",
       "      <td>2022-11-01</td>\n",
       "      <td>131015</td>\n",
       "      <td>P</td>\n",
       "    </tr>\n",
       "    <tr>\n",
       "      <th>1</th>\n",
       "      <td>2022-11-01</td>\n",
       "      <td>131006</td>\n",
       "      <td>P</td>\n",
       "    </tr>\n",
       "  </tbody>\n",
       "</table>\n",
       "</div>"
      ],
      "text/plain": [
       "        date  Customer ID Txn. Type\n",
       "0 2022-11-01       131015         P\n",
       "1 2022-11-01       131006         P"
      ]
     },
     "execution_count": 182,
     "metadata": {},
     "output_type": "execute_result"
    }
   ],
   "source": [
    "# print(cust_data.columns)\n",
    "# print(index_data.columns)\n",
    "# print(redeem_data.columns)\n",
    "print(redeem_data.dtypes)\n",
    "# print(index_data.dtypes)\n",
    "# print(cust_data.dtypes)\n",
    "redeem_data.head(2)"
   ]
  },
  {
   "cell_type": "code",
   "execution_count": 183,
   "metadata": {},
   "outputs": [],
   "source": [
    "index_data[\"Date\"] = pd.to_datetime(index_data[\"Date\"])\n",
    "redeem_data[\"Date\"] = pd.to_datetime(redeem_data[\"date\"])"
=======
   "execution_count": 17,
   "metadata": {},
   "outputs": [
    {
     "name": "stderr",
     "output_type": "stream",
     "text": [
      "C:\\Users\\arunk\\AppData\\Local\\Temp\\ipykernel_2156\\1581842844.py:1: DtypeWarning: Columns (11) have mixed types. Specify dtype option on import or set low_memory=False.\n",
      "  red_data = pd.read_csv(\"data\\MF_Model_base.csv\",\n"
     ]
    },
    {
     "name": "stdout",
     "output_type": "stream",
     "text": [
      "<class 'pandas.core.frame.DataFrame'>\n",
      "RangeIndex: 946207 entries, 0 to 946206\n",
      "Data columns (total 12 columns):\n",
      " #   Column           Non-Null Count   Dtype         \n",
      "---  ------           --------------   -----         \n",
      " 0   date             946207 non-null  datetime64[ns]\n",
      " 1   Customer ID      946207 non-null  int64         \n",
      " 2   FA ID            946207 non-null  int64         \n",
      " 3   Scheme Code      946207 non-null  int64         \n",
      " 4   Txn. No          946207 non-null  object        \n",
      " 5   Txn. Type        946207 non-null  object        \n",
      " 6   Txn. Sub Type    946207 non-null  object        \n",
      " 7   Units            946207 non-null  float64       \n",
      " 8   Purchase Amount  946207 non-null  float64       \n",
      " 9   City             943217 non-null  object        \n",
      " 10  Pin Code         945645 non-null  object        \n",
      " 11  Date of Birth    937774 non-null  object        \n",
      "dtypes: datetime64[ns](1), float64(2), int64(3), object(6)\n",
      "memory usage: 86.6+ MB\n"
     ]
    }
   ],
   "source": [
    "red_data = pd.read_csv(\"data\\MF_Model_base.csv\",\n",
    "                 parse_dates= {\"date\" : [\"Year\",\"Month\"]})\n",
    "red_data.info()"
>>>>>>> ef51da1 (eda requirements added)
   ]
  },
  {
   "cell_type": "code",
<<<<<<< HEAD
   "execution_count": 184,
   "metadata": {},
   "outputs": [
    {
     "data": {
      "text/plain": [
       "Index(['date', 'Customer ID', 'Txn. Type', 'Close'], dtype='object')"
      ]
     },
     "execution_count": 184,
     "metadata": {},
     "output_type": "execute_result"
    }
   ],
   "source": [
    "redeem_data = redeem_data[['date',\"Customer ID\",'Txn. Type',]]\n",
    "index_data = index_data[['Date','Close']]\n",
    "index_data.rename(columns={\"Date\":\"date\"},inplace=True)\n",
    "df_raw = pd.merge(redeem_data,index_data, how = 'inner', left_on= \"date\", right_on=\"date\")\n",
    "df_raw.columns"
   ]
  },
  {
   "cell_type": "code",
   "execution_count": 185,
   "metadata": {},
   "outputs": [
    {
     "data": {
      "text/html": [
       "<div>\n",
       "<style scoped>\n",
       "    .dataframe tbody tr th:only-of-type {\n",
       "        vertical-align: middle;\n",
       "    }\n",
       "\n",
       "    .dataframe tbody tr th {\n",
       "        vertical-align: top;\n",
       "    }\n",
       "\n",
       "    .dataframe thead th {\n",
       "        text-align: right;\n",
       "    }\n",
       "</style>\n",
       "<table border=\"1\" class=\"dataframe\">\n",
       "  <thead>\n",
       "    <tr style=\"text-align: right;\">\n",
       "      <th></th>\n",
       "      <th>date</th>\n",
       "      <th>Customer ID</th>\n",
       "      <th>Txn. Type</th>\n",
       "      <th>Close</th>\n",
       "      <th>Occupation</th>\n",
       "      <th>Risk Appetite</th>\n",
       "    </tr>\n",
       "  </thead>\n",
       "  <tbody>\n",
       "    <tr>\n",
       "      <th>0</th>\n",
       "      <td>2022-11-01</td>\n",
       "      <td>131015</td>\n",
       "      <td>P</td>\n",
       "      <td>18606.4</td>\n",
       "      <td>Salaried</td>\n",
       "      <td>High</td>\n",
       "    </tr>\n",
       "    <tr>\n",
       "      <th>1</th>\n",
       "      <td>2022-11-01</td>\n",
       "      <td>131006</td>\n",
       "      <td>P</td>\n",
       "      <td>18606.4</td>\n",
       "      <td>Salaried</td>\n",
       "      <td>High</td>\n",
       "    </tr>\n",
       "    <tr>\n",
       "      <th>2</th>\n",
       "      <td>2022-11-01</td>\n",
       "      <td>131005</td>\n",
       "      <td>P</td>\n",
       "      <td>18606.4</td>\n",
       "      <td>Salaried</td>\n",
       "      <td>Low</td>\n",
       "    </tr>\n",
       "    <tr>\n",
       "      <th>3</th>\n",
       "      <td>2022-11-01</td>\n",
       "      <td>130988</td>\n",
       "      <td>P</td>\n",
       "      <td>18606.4</td>\n",
       "      <td>Salaried</td>\n",
       "      <td>Medium</td>\n",
       "    </tr>\n",
       "    <tr>\n",
       "      <th>4</th>\n",
       "      <td>2022-11-01</td>\n",
       "      <td>130986</td>\n",
       "      <td>P</td>\n",
       "      <td>18606.4</td>\n",
       "      <td>Salaried</td>\n",
       "      <td>Low</td>\n",
       "    </tr>\n",
       "    <tr>\n",
       "      <th>...</th>\n",
       "      <td>...</td>\n",
       "      <td>...</td>\n",
       "      <td>...</td>\n",
       "      <td>...</td>\n",
       "      <td>...</td>\n",
       "      <td>...</td>\n",
       "    </tr>\n",
       "    <tr>\n",
       "      <th>639423</th>\n",
       "      <td>2014-10-01</td>\n",
       "      <td>22726</td>\n",
       "      <td>P</td>\n",
       "      <td>6298.8</td>\n",
       "      <td>Salaried</td>\n",
       "      <td>High</td>\n",
       "    </tr>\n",
       "    <tr>\n",
       "      <th>640082</th>\n",
       "      <td>2014-10-01</td>\n",
       "      <td>18359</td>\n",
       "      <td>P</td>\n",
       "      <td>6298.8</td>\n",
       "      <td>Self-Employed</td>\n",
       "      <td>Medium</td>\n",
       "    </tr>\n",
       "    <tr>\n",
       "      <th>641925</th>\n",
       "      <td>2014-10-01</td>\n",
       "      <td>8445</td>\n",
       "      <td>R</td>\n",
       "      <td>6298.8</td>\n",
       "      <td>Self-Employed</td>\n",
       "      <td>Medium</td>\n",
       "    </tr>\n",
       "    <tr>\n",
       "      <th>641960</th>\n",
       "      <td>2014-10-01</td>\n",
       "      <td>7361</td>\n",
       "      <td>P</td>\n",
       "      <td>6298.8</td>\n",
       "      <td>Self-Employed</td>\n",
       "      <td>Medium</td>\n",
       "    </tr>\n",
       "    <tr>\n",
       "      <th>642001</th>\n",
       "      <td>2014-10-01</td>\n",
       "      <td>5916</td>\n",
       "      <td>SI</td>\n",
       "      <td>6298.8</td>\n",
       "      <td>Self-Employed</td>\n",
       "      <td>Low</td>\n",
       "    </tr>\n",
       "  </tbody>\n",
       "</table>\n",
       "<p>642087 rows × 6 columns</p>\n",
       "</div>"
      ],
      "text/plain": [
       "             date  Customer ID Txn. Type    Close     Occupation Risk Appetite\n",
       "0      2022-11-01       131015         P  18606.4       Salaried          High\n",
       "1      2022-11-01       131006         P  18606.4       Salaried          High\n",
       "2      2022-11-01       131005         P  18606.4       Salaried           Low\n",
       "3      2022-11-01       130988         P  18606.4       Salaried        Medium\n",
       "4      2022-11-01       130986         P  18606.4       Salaried           Low\n",
       "...           ...          ...       ...      ...            ...           ...\n",
       "639423 2014-10-01        22726         P   6298.8       Salaried          High\n",
       "640082 2014-10-01        18359         P   6298.8  Self-Employed        Medium\n",
       "641925 2014-10-01         8445         R   6298.8  Self-Employed        Medium\n",
       "641960 2014-10-01         7361         P   6298.8  Self-Employed        Medium\n",
       "642001 2014-10-01         5916        SI   6298.8  Self-Employed           Low\n",
       "\n",
       "[642087 rows x 6 columns]"
      ]
     },
     "execution_count": 185,
     "metadata": {},
     "output_type": "execute_result"
    }
   ],
   "source": [
    "df_raw.join(cust_data.set_index(\"Customer ID\"),how='inner', on='Customer ID')"
   ]
  },
  {
   "cell_type": "code",
   "execution_count": 204,
   "metadata": {},
   "outputs": [],
   "source": [
    "\n",
    "df_raw.isnull().sum()\n",
    "df = df_raw.copy()\n",
    "\n",
    "# Renaming Columns as per fb conventions \n",
    "df.rename(columns={'date':'ds', \"Txn. Type\":'y'},inplace=True)\n",
    "transactions = ['R','P']\n",
    "\n",
    "df = df[df['y'].isin(transactions)]\n",
    "#  Cleaning\n",
    "df.drop(columns = \"Customer ID\", inplace=True)\n",
    "df.drop_duplicates()\n",
    "\n",
    "# encoding Target columns\n",
    "df.replace({'R':1,'P':0},inplace=True)"
   ]
  },
  {
   "cell_type": "code",
   "execution_count": 205,
   "metadata": {},
   "outputs": [
    {
     "data": {
      "text/html": [
       "<div>\n",
       "<style scoped>\n",
       "    .dataframe tbody tr th:only-of-type {\n",
       "        vertical-align: middle;\n",
       "    }\n",
       "\n",
       "    .dataframe tbody tr th {\n",
       "        vertical-align: top;\n",
       "    }\n",
       "\n",
       "    .dataframe thead th {\n",
       "        text-align: right;\n",
       "    }\n",
       "</style>\n",
       "<table border=\"1\" class=\"dataframe\">\n",
       "  <thead>\n",
       "    <tr style=\"text-align: right;\">\n",
       "      <th></th>\n",
       "      <th>ds</th>\n",
       "      <th>y</th>\n",
       "      <th>Close</th>\n",
       "    </tr>\n",
       "  </thead>\n",
       "  <tbody>\n",
       "    <tr>\n",
       "      <th>0</th>\n",
       "      <td>2022-11-01</td>\n",
       "      <td>0</td>\n",
       "      <td>0.947876</td>\n",
       "    </tr>\n",
       "    <tr>\n",
       "      <th>1</th>\n",
       "      <td>2022-11-01</td>\n",
       "      <td>0</td>\n",
       "      <td>0.947876</td>\n",
       "    </tr>\n",
       "    <tr>\n",
       "      <th>2</th>\n",
       "      <td>2022-11-01</td>\n",
       "      <td>0</td>\n",
       "      <td>0.947876</td>\n",
       "    </tr>\n",
       "    <tr>\n",
       "      <th>3</th>\n",
       "      <td>2022-11-01</td>\n",
       "      <td>0</td>\n",
       "      <td>0.947876</td>\n",
       "    </tr>\n",
       "    <tr>\n",
       "      <th>4</th>\n",
       "      <td>2022-11-01</td>\n",
       "      <td>0</td>\n",
       "      <td>0.947876</td>\n",
       "    </tr>\n",
       "    <tr>\n",
       "      <th>...</th>\n",
       "      <td>...</td>\n",
       "      <td>...</td>\n",
       "      <td>...</td>\n",
       "    </tr>\n",
       "    <tr>\n",
       "      <th>642080</th>\n",
       "      <td>2014-10-01</td>\n",
       "      <td>0</td>\n",
       "      <td>0.106702</td>\n",
       "    </tr>\n",
       "    <tr>\n",
       "      <th>642081</th>\n",
       "      <td>2014-10-01</td>\n",
       "      <td>0</td>\n",
       "      <td>0.106702</td>\n",
       "    </tr>\n",
       "    <tr>\n",
       "      <th>642082</th>\n",
       "      <td>2014-10-01</td>\n",
       "      <td>0</td>\n",
       "      <td>0.106702</td>\n",
       "    </tr>\n",
       "    <tr>\n",
       "      <th>642084</th>\n",
       "      <td>2014-10-01</td>\n",
       "      <td>0</td>\n",
       "      <td>0.106702</td>\n",
       "    </tr>\n",
       "    <tr>\n",
       "      <th>642085</th>\n",
       "      <td>2014-10-01</td>\n",
       "      <td>0</td>\n",
       "      <td>0.106702</td>\n",
       "    </tr>\n",
       "  </tbody>\n",
       "</table>\n",
       "<p>597971 rows × 3 columns</p>\n",
       "</div>"
      ],
      "text/plain": [
       "               ds  y     Close\n",
       "0      2022-11-01  0  0.947876\n",
       "1      2022-11-01  0  0.947876\n",
       "2      2022-11-01  0  0.947876\n",
       "3      2022-11-01  0  0.947876\n",
       "4      2022-11-01  0  0.947876\n",
       "...           ... ..       ...\n",
       "642080 2014-10-01  0  0.106702\n",
       "642081 2014-10-01  0  0.106702\n",
       "642082 2014-10-01  0  0.106702\n",
       "642084 2014-10-01  0  0.106702\n",
       "642085 2014-10-01  0  0.106702\n",
       "\n",
       "[597971 rows x 3 columns]"
      ]
     },
     "metadata": {},
     "output_type": "display_data"
    }
   ],
   "source": [
    "# copy the data\n",
    "df_min_max_scaled = df.copy()\n",
    "\n",
    "\n",
    "# Scaling\n",
    "# apply normalization techniques by Column\n",
    "column = 'Close'\n",
    "df_min_max_scaled[column] = (df_min_max_scaled[column] - df_min_max_scaled[column].min()) / (df_min_max_scaled[column].max() - df_min_max_scaled[column].min())\t\n",
    "\n",
    "# view normalized data\n",
    "display(df_min_max_scaled)\n",
    "\n",
    "# Copy df for fbprophet abd other models\n",
    "\n",
    "df_fb = df_min_max_scaled.copy()"
   ]
  },
  {
   "attachments": {},
   "cell_type": "markdown",
   "metadata": {},
   "source": [
    "## fbprophet"
   ]
  },
  {
   "cell_type": "code",
   "execution_count": 226,
   "metadata": {},
   "outputs": [],
   "source": [
    "df_fb2  = df_fb.copy(deep=True)\n",
    "df_fb2.drop(columns='Close', inplace=True)"
   ]
  },
  {
   "cell_type": "code",
   "execution_count": 228,
   "metadata": {},
   "outputs": [
    {
     "data": {
      "text/plain": [
       "ds       datetime64[ns]\n",
       "y                 int64\n",
       "Close           float64\n",
       "dtype: object"
      ]
     },
     "execution_count": 228,
     "metadata": {},
     "output_type": "execute_result"
    }
   ],
   "source": [
    "df_fb.dtypes"
   ]
  },
  {
   "cell_type": "code",
   "execution_count": 229,
   "metadata": {},
   "outputs": [],
   "source": [
    "from sklearn.model_selection import train_test_split\n",
    "X_train_fb, X_test_fb = train_test_split(df_fb, test_size=0.2)"
   ]
  },
  {
   "cell_type": "code",
   "execution_count": 224,
   "metadata": {},
   "outputs": [
    {
     "name": "stdout",
     "output_type": "stream",
     "text": [
      "(478376, 2)\n",
      "(119595, 2)\n",
      "ds    datetime64[ns]\n",
      "y              int64\n",
      "dtype: object\n",
      "[0 1]\n",
      "0    579253\n",
      "1     18718\n",
      "Name: y, dtype: int64\n"
     ]
    }
   ],
   "source": [
    "print(X_train_fb.shape)\n",
    "print(X_test_fb.shape)\n",
    "print(df_fb.dtypes)\n",
    "print(df_fb[\"y\"].unique())\n",
    "print(df_fb[\"y\"].value_counts())"
   ]
  },
  {
   "cell_type": "code",
   "execution_count": 230,
   "metadata": {},
   "outputs": [
    {
     "data": {
      "text/plain": [
       "ds       datetime64[ns]\n",
       "y                 int64\n",
       "Close           float64\n",
       "dtype: object"
      ]
     },
     "execution_count": 230,
     "metadata": {},
     "output_type": "execute_result"
    }
   ],
   "source": [
    "X_train_fb.dtypes"
   ]
  },
  {
   "cell_type": "markdown",
   "metadata": {},
   "source": [
    "##### Predict with no additional column"
   ]
  },
  {
   "cell_type": "code",
   "execution_count": 231,
   "metadata": {},
   "outputs": [
    {
     "name": "stderr",
     "output_type": "stream",
     "text": [
      "INFO:fbprophet:Disabling weekly seasonality. Run prophet with weekly_seasonality=True to override this.\n",
      "INFO:fbprophet:Disabling daily seasonality. Run prophet with daily_seasonality=True to override this.\n"
     ]
    },
    {
     "data": {
      "text/plain": [
       "<fbprophet.forecaster.Prophet at 0x1b7ab3e7a48>"
      ]
     },
     "execution_count": 231,
     "metadata": {},
     "output_type": "execute_result"
    }
   ],
   "source": [
    "from fbprophet import Prophet\n",
    "m = Prophet()\n",
    "m.fit(X_train_fb)"
   ]
  },
  {
   "cell_type": "code",
   "execution_count": 234,
   "metadata": {},
   "outputs": [
    {
     "name": "stdout",
     "output_type": "stream",
     "text": [
      "           ds      yhat  yhat_lower  yhat_upper\n",
      "0  2014-01-01  0.014656   -0.211073    0.237419\n",
      "1  2014-04-01  0.005525   -0.216286    0.225329\n",
      "2  2014-07-01  0.005147   -0.202258    0.237239\n",
      "3  2014-08-01  0.010539   -0.197719    0.226792\n",
      "4  2014-09-01  0.011746   -0.205964    0.233081\n",
      "..        ...       ...         ...         ...\n",
      "92 2022-12-22 -0.140467   -0.374919    0.094826\n",
      "93 2022-12-23 -0.126175   -0.337907    0.078854\n",
      "94 2022-12-24 -0.109645   -0.325874    0.098902\n",
      "95 2022-12-25 -0.091245   -0.313230    0.137513\n",
      "96 2022-12-26 -0.071390   -0.297555    0.144282\n",
      "\n",
      "[97 rows x 4 columns]\n"
     ]
    }
   ],
   "source": [
    "future_dates = m.make_future_dataframe(periods=25)\n",
    "future_dates['y'] = X_test_fb['y']\n",
    "forecast = m.predict(future_dates)\n",
    "print(forecast[['ds', 'yhat', 'yhat_lower', 'yhat_upper']])"
   ]
  },
  {
   "cell_type": "code",
   "execution_count": 233,
   "metadata": {},
   "outputs": [
    {
     "data": {
      "image/png": "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",
      "text/plain": [
       "<Figure size 640x480 with 1 Axes>"
      ]
     },
     "metadata": {},
     "output_type": "display_data"
    }
   ],
   "source": [
    "import matplotlib.pyplot as plt\n",
    "\n",
    "# Plot the actual data\n",
    "plt.plot(X_train_fb['ds'], X_train_fb['y'], label='Actual')\n",
    "\n",
    "# Plot the forecasted values\n",
    "plt.plot(forecast['ds'], forecast['yhat'], label='Forecast')\n",
    "\n",
    "# Plot the uncertainty interval\n",
    "plt.fill_between(forecast['ds'], forecast['yhat_upper'], forecast['yhat_lower'], alpha=0.2)\n",
    "\n",
    "# Add labels and legend\n",
    "plt.xlabel('Date')\n",
    "plt.ylabel('Value')\n",
    "plt.title('Forecast with Prophet')\n",
    "plt.legend()\n",
    "\n",
    "# Show the plot\n",
    "plt.show()\n"
   ]
  },
  {
   "cell_type": "markdown",
   "metadata": {},
   "source": [
    "##### Predict with additional feature"
   ]
  },
  {
   "cell_type": "code",
   "execution_count": null,
   "metadata": {},
   "outputs": [],
   "source": [
    "model = Prophet()\n",
    "\n",
    "# Add additional regressor columns to the model\n",
    "model.add_regressor('Close')\n",
    "\n",
    "# Fit the model to the data\n",
    "model.fit(X_train_fb)\n",
    "\n",
    "# Make a forecast for the next 30 days\n",
    "future_dates = model.make_future_dataframe(periods=30)\n"
   ]
  },
  {
   "cell_type": "code",
   "execution_count": 237,
   "metadata": {},
   "outputs": [
    {
     "name": "stdout",
     "output_type": "stream",
     "text": [
      "0.00686386447030099\n"
     ]
    }
   ],
   "source": [
    "#  Make a DataFrame with the date for which you want to predict the y value\n",
    "future_date = pd.DataFrame({'ds': X_test_fb[\"ds\"], 'Close': X_test_fb[\"Close\"]})\n",
    "\n",
    "# Predict the y value for the future date\n",
    "forecast = model.predict(future_date)\n",
    "\n",
    "# Print the predicted y value\n",
    "print(forecast['yhat'].values[0])\n"
   ]
  },
  {
   "cell_type": "code",
   "execution_count": 238,
   "metadata": {},
   "outputs": [
    {
     "name": "stdout",
     "output_type": "stream",
     "text": [
      "               ds      yhat  yhat_lower  yhat_upper\n",
      "0      2014-01-01  0.006864   -0.206611    0.239318\n",
      "1      2014-01-01  0.006864   -0.212320    0.229306\n",
      "2      2014-01-01  0.006864   -0.212011    0.225952\n",
      "3      2014-01-01  0.006864   -0.214920    0.219125\n",
      "4      2014-01-01  0.006864   -0.202191    0.224756\n",
      "...           ...       ...         ...         ...\n",
      "119590 2022-12-01  0.068316   -0.175216    0.300434\n",
      "119591 2022-12-01  0.068316   -0.148453    0.299889\n",
      "119592 2022-12-01  0.068316   -0.156512    0.290033\n",
      "119593 2022-12-01  0.068316   -0.160870    0.302420\n",
      "119594 2022-12-01  0.068316   -0.150729    0.288511\n",
      "\n",
      "[119595 rows x 4 columns]\n"
     ]
    }
   ],
   "source": [
    "print(forecast[['ds', 'yhat', 'yhat_lower', 'yhat_upper']])"
   ]
  },
  {
   "cell_type": "code",
   "execution_count": null,
   "metadata": {},
   "outputs": [],
   "source": [
    "import matplotlib.pyplot as plt\n",
    "\n",
    "# Plot the predicted values\n",
    "plt.plot(forecast['ds'], forecast['yhat'], label='Predicted')\n",
    "\n",
    "# Plot the actual values\n",
    "plt.plot(X_test_fb['ds'], X_test_fb['y'], label='Actual')\n",
    "\n",
    "plt.xlabel('Date')\n",
    "plt.ylabel('Redemption/Purchase behavior')\n",
    "plt.title('Predicted vs Actual')\n",
    "plt.legend()\n",
    "plt.show()"
   ]
  },
  {
   "cell_type": "code",
   "execution_count": null,
   "metadata": {},
   "outputs": [],
   "source": [
    "model.plot_components(forecast)\n",
    "plt.show()\n"
   ]
  },
  {
   "cell_type": "code",
   "execution_count": null,
   "metadata": {},
   "outputs": [],
   "source": [
    "from sklearn.metrics import mean_absolute_error, mean_squared_error\n",
    "\n",
    "# Compute the MAE and MSE\n",
    "mae = mean_absolute_error(X_test_fb['y'], forecast['yhat'])\n",
    "mse = mean_squared_error(X_test_fb['y'], forecast['yhat'])\n",
    "\n",
    "print('MAE:', mae)\n",
    "print('MSE:', mse)\n"
   ]
  },
  {
   "cell_type": "markdown",
   "metadata": {},
   "source": [
    "#### SVM "
   ]
  },
  {
   "cell_type": "code",
   "execution_count": 246,
   "metadata": {},
   "outputs": [
    {
     "data": {
      "text/html": [
       "<div>\n",
       "<style scoped>\n",
       "    .dataframe tbody tr th:only-of-type {\n",
       "        vertical-align: middle;\n",
       "    }\n",
       "\n",
       "    .dataframe tbody tr th {\n",
       "        vertical-align: top;\n",
       "    }\n",
       "\n",
       "    .dataframe thead th {\n",
       "        text-align: right;\n",
       "    }\n",
       "</style>\n",
       "<table border=\"1\" class=\"dataframe\">\n",
       "  <thead>\n",
       "    <tr style=\"text-align: right;\">\n",
       "      <th></th>\n",
       "      <th>ds</th>\n",
       "      <th>y</th>\n",
       "      <th>Close</th>\n",
       "    </tr>\n",
       "  </thead>\n",
       "  <tbody>\n",
       "    <tr>\n",
       "      <th>0</th>\n",
       "      <td>738460.0</td>\n",
       "      <td>0</td>\n",
       "      <td>0.947876</td>\n",
       "    </tr>\n",
       "    <tr>\n",
       "      <th>1</th>\n",
       "      <td>738460.0</td>\n",
       "      <td>0</td>\n",
       "      <td>0.947876</td>\n",
       "    </tr>\n",
       "    <tr>\n",
       "      <th>2</th>\n",
       "      <td>738460.0</td>\n",
       "      <td>0</td>\n",
       "      <td>0.947876</td>\n",
       "    </tr>\n",
       "    <tr>\n",
       "      <th>3</th>\n",
       "      <td>738460.0</td>\n",
       "      <td>0</td>\n",
       "      <td>0.947876</td>\n",
       "    </tr>\n",
       "    <tr>\n",
       "      <th>4</th>\n",
       "      <td>738460.0</td>\n",
       "      <td>0</td>\n",
       "      <td>0.947876</td>\n",
       "    </tr>\n",
       "  </tbody>\n",
       "</table>\n",
       "</div>"
      ],
      "text/plain": [
       "         ds  y     Close\n",
       "0  738460.0  0  0.947876\n",
       "1  738460.0  0  0.947876\n",
       "2  738460.0  0  0.947876\n",
       "3  738460.0  0  0.947876\n",
       "4  738460.0  0  0.947876"
      ]
     },
     "execution_count": 246,
     "metadata": {},
     "output_type": "execute_result"
    }
   ],
   "source": [
    "df_svm = df_min_max_scaled.copy()\n",
    "import matplotlib.dates as mdates\n",
    "\n",
    "# change the dates into ints for training \n",
    "dates_df = df_min_max_scaled.copy()\n",
    "# dates_df = dates_df.reset_index()\n",
    "\n",
    "# Store the original dates for plotting the predicitons\n",
    "org_dates = dates_df['ds']\n",
    "\n",
    "# convert to ints\n",
    "dates_df['ds'] = dates_df['ds'].map(mdates.date2num)\n",
    "\n",
    "dates_df.head()"
   ]
  },
  {
   "cell_type": "code",
   "execution_count": 241,
   "metadata": {},
   "outputs": [],
   "source": [
    "# df_svm['ds'] = pd.to_numeric(df_svm['ds'])"
   ]
  },
  {
   "cell_type": "code",
   "execution_count": 248,
   "metadata": {},
   "outputs": [
    {
     "data": {
      "text/html": [
       "<div>\n",
       "<style scoped>\n",
       "    .dataframe tbody tr th:only-of-type {\n",
       "        vertical-align: middle;\n",
       "    }\n",
       "\n",
       "    .dataframe tbody tr th {\n",
       "        vertical-align: top;\n",
       "    }\n",
       "\n",
       "    .dataframe thead th {\n",
       "        text-align: right;\n",
       "    }\n",
       "</style>\n",
       "<table border=\"1\" class=\"dataframe\">\n",
       "  <thead>\n",
       "    <tr style=\"text-align: right;\">\n",
       "      <th></th>\n",
       "      <th>ds</th>\n",
       "      <th>Close</th>\n",
       "    </tr>\n",
       "  </thead>\n",
       "  <tbody>\n",
       "    <tr>\n",
       "      <th>639842</th>\n",
       "      <td>735507.0</td>\n",
       "      <td>0.106702</td>\n",
       "    </tr>\n",
       "    <tr>\n",
       "      <th>599026</th>\n",
       "      <td>735842.0</td>\n",
       "      <td>0.139815</td>\n",
       "    </tr>\n",
       "    <tr>\n",
       "      <th>542163</th>\n",
       "      <td>738368.0</td>\n",
       "      <td>0.878013</td>\n",
       "    </tr>\n",
       "    <tr>\n",
       "      <th>169490</th>\n",
       "      <td>736907.0</td>\n",
       "      <td>0.468351</td>\n",
       "    </tr>\n",
       "    <tr>\n",
       "      <th>373988</th>\n",
       "      <td>737241.0</td>\n",
       "      <td>0.612250</td>\n",
       "    </tr>\n",
       "    <tr>\n",
       "      <th>...</th>\n",
       "      <td>...</td>\n",
       "      <td>...</td>\n",
       "    </tr>\n",
       "    <tr>\n",
       "      <th>351258</th>\n",
       "      <td>737822.0</td>\n",
       "      <td>0.749403</td>\n",
       "    </tr>\n",
       "    <tr>\n",
       "      <th>10044</th>\n",
       "      <td>738460.0</td>\n",
       "      <td>0.947876</td>\n",
       "    </tr>\n",
       "    <tr>\n",
       "      <th>452147</th>\n",
       "      <td>736299.0</td>\n",
       "      <td>0.191102</td>\n",
       "    </tr>\n",
       "    <tr>\n",
       "      <th>445260</th>\n",
       "      <td>738307.0</td>\n",
       "      <td>0.804069</td>\n",
       "    </tr>\n",
       "    <tr>\n",
       "      <th>615703</th>\n",
       "      <td>738187.0</td>\n",
       "      <td>0.910549</td>\n",
       "    </tr>\n",
       "  </tbody>\n",
       "</table>\n",
       "<p>119595 rows × 2 columns</p>\n",
       "</div>"
      ],
      "text/plain": [
       "              ds     Close\n",
       "639842  735507.0  0.106702\n",
       "599026  735842.0  0.139815\n",
       "542163  738368.0  0.878013\n",
       "169490  736907.0  0.468351\n",
       "373988  737241.0  0.612250\n",
       "...          ...       ...\n",
       "351258  737822.0  0.749403\n",
       "10044   738460.0  0.947876\n",
       "452147  736299.0  0.191102\n",
       "445260  738307.0  0.804069\n",
       "615703  738187.0  0.910549\n",
       "\n",
       "[119595 rows x 2 columns]"
      ]
     },
     "metadata": {},
     "output_type": "display_data"
    }
   ],
   "source": [
    "from sklearn.model_selection import train_test_split\n",
    "\n",
    "X= dates_df.drop(columns=[\"y\"], axis=1)\n",
    "y = dates_df['y']\n",
    "X_train, X_test, y_train, y_test = train_test_split(X,y,test_size=0.2,random_state=42)\n",
    "display(X_test)\n"
   ]
  },
  {
   "cell_type": "code",
   "execution_count": 251,
   "metadata": {},
   "outputs": [],
   "source": [
    "from sklearn.svm import SVR\n",
    "import numpy as np\n",
    "\n",
    "\n",
    "svr_rbf = SVR(kernel= 'rbf', C= 1e3, gamma= 0.1)\n",
    "svr_rbf.fit(X_train, y_train)\n",
    "\n",
    "plt.figure(figsize = (12,6))\n",
    "plt.plot(X_train['ds'], y, color= 'black', label= 'Data')\n",
    "plt.plot(org_dates, svr_rbf.predict(X_train['ds']), color= 'red', label= 'RBF model') \n",
    "plt.xlabel('Date')\n",
    "plt.ylabel('Tranactions Type')\n",
    "plt.legend()\n",
    "plt.show()"
=======
   "execution_count": 19,
   "metadata": {},
   "outputs": [
    {
     "name": "stdout",
     "output_type": "stream",
     "text": [
      "2013-12-01 00:00:00 2022-12-01 00:00:00\n"
     ]
    }
   ],
   "source": [
    "min_date = red_data[\"date\"].min()\n",
    "max_date = red_data[\"date\"].max()\n",
    "print(min_date,max_date)"
>>>>>>> ef51da1 (eda requirements added)
   ]
  },
  {
   "cell_type": "code",
   "execution_count": null,
   "metadata": {},
   "outputs": [],
   "source": [
    "from common.utils import mape\n",
    "# Print MAPE for training data\n",
    "print('MAPE for training data: ', mape(y_train_pred, y_train)*100, '%')\n",
    "\n",
    "print('MAPE for testing data: ', mape(y_test_pred, y_test)*100, '%')"
   ]
  }
 ],
 "metadata": {
  "kernelspec": {
   "display_name": "Python 3",
   "language": "python",
   "name": "python3"
  },
  "language_info": {
   "codemirror_mode": {
    "name": "ipython",
    "version": 3
   },
   "file_extension": ".py",
   "mimetype": "text/x-python",
   "name": "python",
   "nbconvert_exporter": "python",
   "pygments_lexer": "ipython3",
<<<<<<< HEAD
   "version": "3.7.16"
=======
   "version": "3.9.16"
>>>>>>> ef51da1 (eda requirements added)
  },
  "orig_nbformat": 4
 },
 "nbformat": 4,
 "nbformat_minor": 2
}

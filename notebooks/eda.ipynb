{
 "cells": [
  {
   "cell_type": "code",
<<<<<<< HEAD
   "execution_count": 1,
=======
<<<<<<< HEAD
<<<<<<< HEAD
<<<<<<< HEAD
<<<<<<< HEAD
<<<<<<< HEAD
=======
>>>>>>> f7a0ac6 (eda requirements added)
=======
>>>>>>> 5862058068ce0eeef40f1570094cd738353c4e55
   "execution_count": 1,
=======
   "execution_count": 19,
>>>>>>> afba72f (EDA Changed)
=======
   "execution_count": 26,
>>>>>>> 881279d (Columns combined in EDA)
>>>>>>> 72d93bd8b5917840363920e1ceaf3864accc6cb8
   "metadata": {},
<<<<<<< HEAD
   "outputs": [
    {
<<<<<<< HEAD
     "data": {
      "text/plain": [
       "'C:\\\\Users\\\\arunk\\\\Finance_project'"
      ]
     },
     "execution_count": 1,
     "metadata": {},
     "output_type": "execute_result"
=======
     "name": "stderr",
     "output_type": "stream",
     "text": [
      "Traceback (most recent call last):\n",
      "  File \"_pydevd_bundle/pydevd_cython.pyx\", line 1078, in _pydevd_bundle.pydevd_cython.PyDBFrame.trace_dispatch\n",
      "  File \"_pydevd_bundle/pydevd_cython.pyx\", line 297, in _pydevd_bundle.pydevd_cython.PyDBFrame.do_wait_suspend\n",
      "  File \"e:\\Finance_project\\Finance1\\lib\\site-packages\\debugpy\\_vendored\\pydevd\\pydevd.py\", line 1976, in do_wait_suspend\n",
      "    keep_suspended = self._do_wait_suspend(thread, frame, event, arg, suspend_type, from_this_thread, frames_tracker)\n",
      "  File \"e:\\Finance_project\\Finance1\\lib\\site-packages\\debugpy\\_vendored\\pydevd\\pydevd.py\", line 2011, in _do_wait_suspend\n",
      "    time.sleep(0.01)\n",
      "KeyboardInterrupt\n"
     ]
    },
    {
     "ename": "KeyboardInterrupt",
     "evalue": "",
     "output_type": "error",
     "traceback": [
      "\u001b[1;31m---------------------------------------------------------------------------\u001b[0m",
      "\u001b[1;31mKeyboardInterrupt\u001b[0m                         Traceback (most recent call last)",
      "Cell \u001b[1;32mIn[26], line 1\u001b[0m\n\u001b[1;32m----> 1\u001b[0m \u001b[39mimport\u001b[39;00m \u001b[39mos\u001b[39;00m\n\u001b[0;32m      2\u001b[0m os\u001b[39m.\u001b[39mchdir(\u001b[39m\"\u001b[39m\u001b[39mE:\u001b[39m\u001b[39m\\\u001b[39m\u001b[39mFinance_project\u001b[39m\u001b[39m\"\u001b[39m)\n\u001b[0;32m      3\u001b[0m os\u001b[39m.\u001b[39mgetcwd()\n",
      "Cell \u001b[1;32mIn[26], line 1\u001b[0m\n\u001b[1;32m----> 1\u001b[0m \u001b[39mimport\u001b[39;00m \u001b[39mos\u001b[39;00m\n\u001b[0;32m      2\u001b[0m os\u001b[39m.\u001b[39mchdir(\u001b[39m\"\u001b[39m\u001b[39mE:\u001b[39m\u001b[39m\\\u001b[39m\u001b[39mFinance_project\u001b[39m\u001b[39m\"\u001b[39m)\n\u001b[0;32m      3\u001b[0m os\u001b[39m.\u001b[39mgetcwd()\n",
      "File \u001b[1;32m_pydevd_bundle/pydevd_cython.pyx:1363\u001b[0m, in \u001b[0;36m_pydevd_bundle.pydevd_cython.SafeCallWrapper.__call__\u001b[1;34m()\u001b[0m\n",
      "File \u001b[1;32m_pydevd_bundle/pydevd_cython.pyx:662\u001b[0m, in \u001b[0;36m_pydevd_bundle.pydevd_cython.PyDBFrame.trace_dispatch\u001b[1;34m()\u001b[0m\n",
      "File \u001b[1;32m_pydevd_bundle/pydevd_cython.pyx:1087\u001b[0m, in \u001b[0;36m_pydevd_bundle.pydevd_cython.PyDBFrame.trace_dispatch\u001b[1;34m()\u001b[0m\n",
      "File \u001b[1;32m_pydevd_bundle/pydevd_cython.pyx:1078\u001b[0m, in \u001b[0;36m_pydevd_bundle.pydevd_cython.PyDBFrame.trace_dispatch\u001b[1;34m()\u001b[0m\n",
      "File \u001b[1;32m_pydevd_bundle/pydevd_cython.pyx:297\u001b[0m, in \u001b[0;36m_pydevd_bundle.pydevd_cython.PyDBFrame.do_wait_suspend\u001b[1;34m()\u001b[0m\n",
      "File \u001b[1;32me:\\Finance_project\\Finance1\\lib\\site-packages\\debugpy\\_vendored\\pydevd\\pydevd.py:1976\u001b[0m, in \u001b[0;36mPyDB.do_wait_suspend\u001b[1;34m(self, thread, frame, event, arg, exception_type)\u001b[0m\n\u001b[0;32m   1973\u001b[0m             from_this_thread\u001b[39m.\u001b[39mappend(frame_custom_thread_id)\n\u001b[0;32m   1975\u001b[0m     \u001b[39mwith\u001b[39;00m \u001b[39mself\u001b[39m\u001b[39m.\u001b[39m_threads_suspended_single_notification\u001b[39m.\u001b[39mnotify_thread_suspended(thread_id, stop_reason):\n\u001b[1;32m-> 1976\u001b[0m         keep_suspended \u001b[39m=\u001b[39m \u001b[39mself\u001b[39;49m\u001b[39m.\u001b[39;49m_do_wait_suspend(thread, frame, event, arg, suspend_type, from_this_thread, frames_tracker)\n\u001b[0;32m   1978\u001b[0m frames_list \u001b[39m=\u001b[39m \u001b[39mNone\u001b[39;00m\n\u001b[0;32m   1980\u001b[0m \u001b[39mif\u001b[39;00m keep_suspended:\n\u001b[0;32m   1981\u001b[0m     \u001b[39m# This means that we should pause again after a set next statement.\u001b[39;00m\n",
      "File \u001b[1;32me:\\Finance_project\\Finance1\\lib\\site-packages\\debugpy\\_vendored\\pydevd\\pydevd.py:2011\u001b[0m, in \u001b[0;36mPyDB._do_wait_suspend\u001b[1;34m(self, thread, frame, event, arg, suspend_type, from_this_thread, frames_tracker)\u001b[0m\n\u001b[0;32m   2008\u001b[0m         \u001b[39mself\u001b[39m\u001b[39m.\u001b[39m_call_mpl_hook()\n\u001b[0;32m   2010\u001b[0m     \u001b[39mself\u001b[39m\u001b[39m.\u001b[39mprocess_internal_commands()\n\u001b[1;32m-> 2011\u001b[0m     time\u001b[39m.\u001b[39;49msleep(\u001b[39m0.01\u001b[39;49m)\n\u001b[0;32m   2013\u001b[0m \u001b[39mself\u001b[39m\u001b[39m.\u001b[39mcancel_async_evaluation(get_current_thread_id(thread), \u001b[39mstr\u001b[39m(\u001b[39mid\u001b[39m(frame)))\n\u001b[0;32m   2015\u001b[0m \u001b[39m# process any stepping instructions\u001b[39;00m\n",
      "\u001b[1;31mKeyboardInterrupt\u001b[0m: "
     ]
    }
   ],
   "source": [
<<<<<<< HEAD
    "#import os\n",
    "#os.chdir(\"E:\\Finance_project\")\n",
    "#os.getcwd()\n"
=======
    "import os\n",
    "os.chdir(\"..\")"
=======
   "execution_count": 26,
   "metadata": {},
   "outputs": [
    {
     "name": "stderr",
     "output_type": "stream",
     "text": [
      "Traceback (most recent call last):\n",
      "  File \"_pydevd_bundle/pydevd_cython.pyx\", line 1078, in _pydevd_bundle.pydevd_cython.PyDBFrame.trace_dispatch\n",
      "  File \"_pydevd_bundle/pydevd_cython.pyx\", line 297, in _pydevd_bundle.pydevd_cython.PyDBFrame.do_wait_suspend\n",
      "  File \"e:\\Finance_project\\Finance1\\lib\\site-packages\\debugpy\\_vendored\\pydevd\\pydevd.py\", line 1976, in do_wait_suspend\n",
      "    keep_suspended = self._do_wait_suspend(thread, frame, event, arg, suspend_type, from_this_thread, frames_tracker)\n",
      "  File \"e:\\Finance_project\\Finance1\\lib\\site-packages\\debugpy\\_vendored\\pydevd\\pydevd.py\", line 2011, in _do_wait_suspend\n",
      "    time.sleep(0.01)\n",
      "KeyboardInterrupt\n"
     ]
    },
    {
     "ename": "KeyboardInterrupt",
     "evalue": "",
     "output_type": "error",
     "traceback": [
      "\u001b[1;31m---------------------------------------------------------------------------\u001b[0m",
      "\u001b[1;31mKeyboardInterrupt\u001b[0m                         Traceback (most recent call last)",
      "Cell \u001b[1;32mIn[26], line 1\u001b[0m\n\u001b[1;32m----> 1\u001b[0m \u001b[39mimport\u001b[39;00m \u001b[39mos\u001b[39;00m\n\u001b[0;32m      2\u001b[0m os\u001b[39m.\u001b[39mchdir(\u001b[39m\"\u001b[39m\u001b[39mE:\u001b[39m\u001b[39m\\\u001b[39m\u001b[39mFinance_project\u001b[39m\u001b[39m\"\u001b[39m)\n\u001b[0;32m      3\u001b[0m os\u001b[39m.\u001b[39mgetcwd()\n",
      "Cell \u001b[1;32mIn[26], line 1\u001b[0m\n\u001b[1;32m----> 1\u001b[0m \u001b[39mimport\u001b[39;00m \u001b[39mos\u001b[39;00m\n\u001b[0;32m      2\u001b[0m os\u001b[39m.\u001b[39mchdir(\u001b[39m\"\u001b[39m\u001b[39mE:\u001b[39m\u001b[39m\\\u001b[39m\u001b[39mFinance_project\u001b[39m\u001b[39m\"\u001b[39m)\n\u001b[0;32m      3\u001b[0m os\u001b[39m.\u001b[39mgetcwd()\n",
      "File \u001b[1;32m_pydevd_bundle/pydevd_cython.pyx:1363\u001b[0m, in \u001b[0;36m_pydevd_bundle.pydevd_cython.SafeCallWrapper.__call__\u001b[1;34m()\u001b[0m\n",
      "File \u001b[1;32m_pydevd_bundle/pydevd_cython.pyx:662\u001b[0m, in \u001b[0;36m_pydevd_bundle.pydevd_cython.PyDBFrame.trace_dispatch\u001b[1;34m()\u001b[0m\n",
      "File \u001b[1;32m_pydevd_bundle/pydevd_cython.pyx:1087\u001b[0m, in \u001b[0;36m_pydevd_bundle.pydevd_cython.PyDBFrame.trace_dispatch\u001b[1;34m()\u001b[0m\n",
      "File \u001b[1;32m_pydevd_bundle/pydevd_cython.pyx:1078\u001b[0m, in \u001b[0;36m_pydevd_bundle.pydevd_cython.PyDBFrame.trace_dispatch\u001b[1;34m()\u001b[0m\n",
      "File \u001b[1;32m_pydevd_bundle/pydevd_cython.pyx:297\u001b[0m, in \u001b[0;36m_pydevd_bundle.pydevd_cython.PyDBFrame.do_wait_suspend\u001b[1;34m()\u001b[0m\n",
      "File \u001b[1;32me:\\Finance_project\\Finance1\\lib\\site-packages\\debugpy\\_vendored\\pydevd\\pydevd.py:1976\u001b[0m, in \u001b[0;36mPyDB.do_wait_suspend\u001b[1;34m(self, thread, frame, event, arg, exception_type)\u001b[0m\n\u001b[0;32m   1973\u001b[0m             from_this_thread\u001b[39m.\u001b[39mappend(frame_custom_thread_id)\n\u001b[0;32m   1975\u001b[0m     \u001b[39mwith\u001b[39;00m \u001b[39mself\u001b[39m\u001b[39m.\u001b[39m_threads_suspended_single_notification\u001b[39m.\u001b[39mnotify_thread_suspended(thread_id, stop_reason):\n\u001b[1;32m-> 1976\u001b[0m         keep_suspended \u001b[39m=\u001b[39m \u001b[39mself\u001b[39;49m\u001b[39m.\u001b[39;49m_do_wait_suspend(thread, frame, event, arg, suspend_type, from_this_thread, frames_tracker)\n\u001b[0;32m   1978\u001b[0m frames_list \u001b[39m=\u001b[39m \u001b[39mNone\u001b[39;00m\n\u001b[0;32m   1980\u001b[0m \u001b[39mif\u001b[39;00m keep_suspended:\n\u001b[0;32m   1981\u001b[0m     \u001b[39m# This means that we should pause again after a set next statement.\u001b[39;00m\n",
      "File \u001b[1;32me:\\Finance_project\\Finance1\\lib\\site-packages\\debugpy\\_vendored\\pydevd\\pydevd.py:2011\u001b[0m, in \u001b[0;36mPyDB._do_wait_suspend\u001b[1;34m(self, thread, frame, event, arg, suspend_type, from_this_thread, frames_tracker)\u001b[0m\n\u001b[0;32m   2008\u001b[0m         \u001b[39mself\u001b[39m\u001b[39m.\u001b[39m_call_mpl_hook()\n\u001b[0;32m   2010\u001b[0m     \u001b[39mself\u001b[39m\u001b[39m.\u001b[39mprocess_internal_commands()\n\u001b[1;32m-> 2011\u001b[0m     time\u001b[39m.\u001b[39;49msleep(\u001b[39m0.01\u001b[39;49m)\n\u001b[0;32m   2013\u001b[0m \u001b[39mself\u001b[39m\u001b[39m.\u001b[39mcancel_async_evaluation(get_current_thread_id(thread), \u001b[39mstr\u001b[39m(\u001b[39mid\u001b[39m(frame)))\n\u001b[0;32m   2015\u001b[0m \u001b[39m# process any stepping instructions\u001b[39;00m\n",
      "\u001b[1;31mKeyboardInterrupt\u001b[0m: "
     ]
    }
   ],
   "source": [
    "#import os\n",
    "#os.chdir(\"E:\\Finance_project\")\n",
    "#os.getcwd()\n"
>>>>>>> 3fab99f339b890a772515496037519492a613854
>>>>>>> 5862058068ce0eeef40f1570094cd738353c4e55
   ]
  },
  {
   "cell_type": "code",
<<<<<<< HEAD
<<<<<<< HEAD
<<<<<<< HEAD
<<<<<<< HEAD
<<<<<<< HEAD
<<<<<<< HEAD
=======
>>>>>>> f7a0ac6 (eda requirements added)
=======
>>>>>>> 5862058068ce0eeef40f1570094cd738353c4e55
   "execution_count": 3,
=======
   "execution_count": 18,
>>>>>>> afba72f (EDA Changed)
   "metadata": {},
   "outputs": [
    {
     "ename": "ImportError",
     "evalue": "Missing optional dependency 'openpyxl'.  Use pip or conda to install openpyxl.",
     "output_type": "error",
     "traceback": [
      "\u001b[1;31m---------------------------------------------------------------------------\u001b[0m",
      "\u001b[1;31mModuleNotFoundError\u001b[0m                       Traceback (most recent call last)",
      "File \u001b[1;32me:\\Finance_project\\Finance1\\lib\\site-packages\\pandas\\compat\\_optional.py:141\u001b[0m, in \u001b[0;36mimport_optional_dependency\u001b[1;34m(name, extra, errors, min_version)\u001b[0m\n\u001b[0;32m    140\u001b[0m \u001b[39mtry\u001b[39;00m:\n\u001b[1;32m--> 141\u001b[0m     module \u001b[39m=\u001b[39m importlib\u001b[39m.\u001b[39;49mimport_module(name)\n\u001b[0;32m    142\u001b[0m \u001b[39mexcept\u001b[39;00m \u001b[39mImportError\u001b[39;00m:\n",
      "File \u001b[1;32me:\\Finance_project\\Finance1\\lib\\importlib\\__init__.py:127\u001b[0m, in \u001b[0;36mimport_module\u001b[1;34m(name, package)\u001b[0m\n\u001b[0;32m    126\u001b[0m         level \u001b[39m+\u001b[39m\u001b[39m=\u001b[39m \u001b[39m1\u001b[39m\n\u001b[1;32m--> 127\u001b[0m \u001b[39mreturn\u001b[39;00m _bootstrap\u001b[39m.\u001b[39;49m_gcd_import(name[level:], package, level)\n",
      "File \u001b[1;32m<frozen importlib._bootstrap>:1030\u001b[0m, in \u001b[0;36m_gcd_import\u001b[1;34m(name, package, level)\u001b[0m\n",
      "File \u001b[1;32m<frozen importlib._bootstrap>:1007\u001b[0m, in \u001b[0;36m_find_and_load\u001b[1;34m(name, import_)\u001b[0m\n",
      "File \u001b[1;32m<frozen importlib._bootstrap>:984\u001b[0m, in \u001b[0;36m_find_and_load_unlocked\u001b[1;34m(name, import_)\u001b[0m\n",
      "\u001b[1;31mModuleNotFoundError\u001b[0m: No module named 'openpyxl'",
      "\nDuring handling of the above exception, another exception occurred:\n",
      "\u001b[1;31mImportError\u001b[0m                               Traceback (most recent call last)",
      "Cell \u001b[1;32mIn[18], line 4\u001b[0m\n\u001b[0;32m      1\u001b[0m \u001b[39mimport\u001b[39;00m \u001b[39mpandas\u001b[39;00m \u001b[39mas\u001b[39;00m \u001b[39mpd\u001b[39;00m \n\u001b[0;32m      2\u001b[0m path \u001b[39m=\u001b[39m \u001b[39m\"\u001b[39m\u001b[39mdata\u001b[39m\u001b[39m\\\u001b[39m\u001b[39mMF Customer Details.xlsx\u001b[39m\u001b[39m\"\u001b[39m\n\u001b[1;32m----> 4\u001b[0m cust_data \u001b[39m=\u001b[39m  pd\u001b[39m.\u001b[39;49mread_excel(path)\n\u001b[0;32m      6\u001b[0m cust_data\u001b[39m.\u001b[39mhead()\n",
      "File \u001b[1;32me:\\Finance_project\\Finance1\\lib\\site-packages\\pandas\\util\\_decorators.py:211\u001b[0m, in \u001b[0;36mdeprecate_kwarg.<locals>._deprecate_kwarg.<locals>.wrapper\u001b[1;34m(*args, **kwargs)\u001b[0m\n\u001b[0;32m    209\u001b[0m     \u001b[39melse\u001b[39;00m:\n\u001b[0;32m    210\u001b[0m         kwargs[new_arg_name] \u001b[39m=\u001b[39m new_arg_value\n\u001b[1;32m--> 211\u001b[0m \u001b[39mreturn\u001b[39;00m func(\u001b[39m*\u001b[39margs, \u001b[39m*\u001b[39m\u001b[39m*\u001b[39mkwargs)\n",
      "File \u001b[1;32me:\\Finance_project\\Finance1\\lib\\site-packages\\pandas\\util\\_decorators.py:331\u001b[0m, in \u001b[0;36mdeprecate_nonkeyword_arguments.<locals>.decorate.<locals>.wrapper\u001b[1;34m(*args, **kwargs)\u001b[0m\n\u001b[0;32m    325\u001b[0m \u001b[39mif\u001b[39;00m \u001b[39mlen\u001b[39m(args) \u001b[39m>\u001b[39m num_allow_args:\n\u001b[0;32m    326\u001b[0m     warnings\u001b[39m.\u001b[39mwarn(\n\u001b[0;32m    327\u001b[0m         msg\u001b[39m.\u001b[39mformat(arguments\u001b[39m=\u001b[39m_format_argument_list(allow_args)),\n\u001b[0;32m    328\u001b[0m         \u001b[39mFutureWarning\u001b[39;00m,\n\u001b[0;32m    329\u001b[0m         stacklevel\u001b[39m=\u001b[39mfind_stack_level(),\n\u001b[0;32m    330\u001b[0m     )\n\u001b[1;32m--> 331\u001b[0m \u001b[39mreturn\u001b[39;00m func(\u001b[39m*\u001b[39margs, \u001b[39m*\u001b[39m\u001b[39m*\u001b[39mkwargs)\n",
      "File \u001b[1;32me:\\Finance_project\\Finance1\\lib\\site-packages\\pandas\\io\\excel\\_base.py:482\u001b[0m, in \u001b[0;36mread_excel\u001b[1;34m(io, sheet_name, header, names, index_col, usecols, squeeze, dtype, engine, converters, true_values, false_values, skiprows, nrows, na_values, keep_default_na, na_filter, verbose, parse_dates, date_parser, thousands, decimal, comment, skipfooter, convert_float, mangle_dupe_cols, storage_options)\u001b[0m\n\u001b[0;32m    480\u001b[0m \u001b[39mif\u001b[39;00m \u001b[39mnot\u001b[39;00m \u001b[39misinstance\u001b[39m(io, ExcelFile):\n\u001b[0;32m    481\u001b[0m     should_close \u001b[39m=\u001b[39m \u001b[39mTrue\u001b[39;00m\n\u001b[1;32m--> 482\u001b[0m     io \u001b[39m=\u001b[39m ExcelFile(io, storage_options\u001b[39m=\u001b[39;49mstorage_options, engine\u001b[39m=\u001b[39;49mengine)\n\u001b[0;32m    483\u001b[0m \u001b[39melif\u001b[39;00m engine \u001b[39mand\u001b[39;00m engine \u001b[39m!=\u001b[39m io\u001b[39m.\u001b[39mengine:\n\u001b[0;32m    484\u001b[0m     \u001b[39mraise\u001b[39;00m \u001b[39mValueError\u001b[39;00m(\n\u001b[0;32m    485\u001b[0m         \u001b[39m\"\u001b[39m\u001b[39mEngine should not be specified when passing \u001b[39m\u001b[39m\"\u001b[39m\n\u001b[0;32m    486\u001b[0m         \u001b[39m\"\u001b[39m\u001b[39man ExcelFile - ExcelFile already has the engine set\u001b[39m\u001b[39m\"\u001b[39m\n\u001b[0;32m    487\u001b[0m     )\n",
      "File \u001b[1;32me:\\Finance_project\\Finance1\\lib\\site-packages\\pandas\\io\\excel\\_base.py:1695\u001b[0m, in \u001b[0;36mExcelFile.__init__\u001b[1;34m(self, path_or_buffer, engine, storage_options)\u001b[0m\n\u001b[0;32m   1692\u001b[0m \u001b[39mself\u001b[39m\u001b[39m.\u001b[39mengine \u001b[39m=\u001b[39m engine\n\u001b[0;32m   1693\u001b[0m \u001b[39mself\u001b[39m\u001b[39m.\u001b[39mstorage_options \u001b[39m=\u001b[39m storage_options\n\u001b[1;32m-> 1695\u001b[0m \u001b[39mself\u001b[39m\u001b[39m.\u001b[39m_reader \u001b[39m=\u001b[39m \u001b[39mself\u001b[39;49m\u001b[39m.\u001b[39;49m_engines[engine](\u001b[39mself\u001b[39;49m\u001b[39m.\u001b[39;49m_io, storage_options\u001b[39m=\u001b[39;49mstorage_options)\n",
      "File \u001b[1;32me:\\Finance_project\\Finance1\\lib\\site-packages\\pandas\\io\\excel\\_openpyxl.py:556\u001b[0m, in \u001b[0;36mOpenpyxlReader.__init__\u001b[1;34m(self, filepath_or_buffer, storage_options)\u001b[0m\n\u001b[0;32m    541\u001b[0m \u001b[39m@doc\u001b[39m(storage_options\u001b[39m=\u001b[39m_shared_docs[\u001b[39m\"\u001b[39m\u001b[39mstorage_options\u001b[39m\u001b[39m\"\u001b[39m])\n\u001b[0;32m    542\u001b[0m \u001b[39mdef\u001b[39;00m \u001b[39m__init__\u001b[39m(\n\u001b[0;32m    543\u001b[0m     \u001b[39mself\u001b[39m,\n\u001b[0;32m    544\u001b[0m     filepath_or_buffer: FilePath \u001b[39m|\u001b[39m ReadBuffer[\u001b[39mbytes\u001b[39m],\n\u001b[0;32m    545\u001b[0m     storage_options: StorageOptions \u001b[39m=\u001b[39m \u001b[39mNone\u001b[39;00m,\n\u001b[0;32m    546\u001b[0m ) \u001b[39m-\u001b[39m\u001b[39m>\u001b[39m \u001b[39mNone\u001b[39;00m:\n\u001b[0;32m    547\u001b[0m \u001b[39m    \u001b[39m\u001b[39m\"\"\"\u001b[39;00m\n\u001b[0;32m    548\u001b[0m \u001b[39m    Reader using openpyxl engine.\u001b[39;00m\n\u001b[0;32m    549\u001b[0m \n\u001b[1;32m   (...)\u001b[0m\n\u001b[0;32m    554\u001b[0m \u001b[39m    {storage_options}\u001b[39;00m\n\u001b[0;32m    555\u001b[0m \u001b[39m    \"\"\"\u001b[39;00m\n\u001b[1;32m--> 556\u001b[0m     import_optional_dependency(\u001b[39m\"\u001b[39;49m\u001b[39mopenpyxl\u001b[39;49m\u001b[39m\"\u001b[39;49m)\n\u001b[0;32m    557\u001b[0m     \u001b[39msuper\u001b[39m()\u001b[39m.\u001b[39m\u001b[39m__init__\u001b[39m(filepath_or_buffer, storage_options\u001b[39m=\u001b[39mstorage_options)\n",
      "File \u001b[1;32me:\\Finance_project\\Finance1\\lib\\site-packages\\pandas\\compat\\_optional.py:144\u001b[0m, in \u001b[0;36mimport_optional_dependency\u001b[1;34m(name, extra, errors, min_version)\u001b[0m\n\u001b[0;32m    142\u001b[0m \u001b[39mexcept\u001b[39;00m \u001b[39mImportError\u001b[39;00m:\n\u001b[0;32m    143\u001b[0m     \u001b[39mif\u001b[39;00m errors \u001b[39m==\u001b[39m \u001b[39m\"\u001b[39m\u001b[39mraise\u001b[39m\u001b[39m\"\u001b[39m:\n\u001b[1;32m--> 144\u001b[0m         \u001b[39mraise\u001b[39;00m \u001b[39mImportError\u001b[39;00m(msg)\n\u001b[0;32m    145\u001b[0m     \u001b[39melse\u001b[39;00m:\n\u001b[0;32m    146\u001b[0m         \u001b[39mreturn\u001b[39;00m \u001b[39mNone\u001b[39;00m\n",
      "\u001b[1;31mImportError\u001b[0m: Missing optional dependency 'openpyxl'.  Use pip or conda to install openpyxl."
     ]
    }
   ],
<<<<<<< HEAD
=======
   "execution_count": null,
   "metadata": {},
   "outputs": [],
>>>>>>> 757b49a (EDA updated with ICICI index)
=======
>>>>>>> f7a0ac6 (eda requirements added)
=======
   "execution_count": null,
   "metadata": {},
   "outputs": [],
>>>>>>> 757b49a (EDA updated with ICICI index)
=======
   "execution_count": 27,
   "metadata": {},
   "outputs": [
    {
     "name": "stderr",
     "output_type": "stream",
     "text": [
      "C:\\Users\\Om\\AppData\\Local\\Temp\\ipykernel_37140\\4032715039.py:2: DtypeWarning: Columns (11) have mixed types. Specify dtype option on import or set low_memory=False.\n",
      "  data = pd.read_csv(\"./data/MF_Model_base.csv\")\n"
     ]
>>>>>>> 72d93bd8b5917840363920e1ceaf3864accc6cb8
    }
   ],
>>>>>>> 881279d (Columns combined in EDA)
   "source": [
<<<<<<< HEAD
    "import os \n",
    "import pandas as pd\n",
    "os.chdir(r\"C:\\Users\\arunk\\Finance_project\")\n",
    "os.getcwd()\n"
=======
    "import pandas as pd \n",
<<<<<<< HEAD
    "data = pd.read_csv(\"./data/MF_Model_base.csv\")"
=======
    "path = \"data\\MF Customer Details.xlsx\"\n",
    "\n",
    "cust_data =  pd.read_excel(path)\n",
    "\n",
    "cust_data.head()\n",
    "\n"
=======
   "execution_count": 27,
   "metadata": {},
   "outputs": [
    {
     "name": "stderr",
     "output_type": "stream",
     "text": [
      "C:\\Users\\Om\\AppData\\Local\\Temp\\ipykernel_37140\\4032715039.py:2: DtypeWarning: Columns (11) have mixed types. Specify dtype option on import or set low_memory=False.\n",
      "  data = pd.read_csv(\"./data/MF_Model_base.csv\")\n"
     ]
    }
   ],
   "source": [
    "import pandas as pd \n",
    "data = pd.read_csv(\"./data/MF_Model_base.csv\")"
>>>>>>> 3fab99f339b890a772515496037519492a613854
>>>>>>> 5862058068ce0eeef40f1570094cd738353c4e55
>>>>>>> 72d93bd8b5917840363920e1ceaf3864accc6cb8
   ]
  },
  {
   "cell_type": "code",
<<<<<<< HEAD
   "execution_count": 2,
=======
<<<<<<< HEAD
<<<<<<< HEAD
<<<<<<< HEAD
<<<<<<< HEAD
<<<<<<< HEAD
<<<<<<< HEAD
=======
>>>>>>> f7a0ac6 (eda requirements added)
   "execution_count": 17,
=======
   "execution_count": 9,
>>>>>>> afba72f (EDA Changed)
   "metadata": {},
   "outputs": [
    {
     "ename": "FileNotFoundError",
     "evalue": "[Errno 2] No such file or directory: 'data\\\\MF_Model_base.csv'",
     "output_type": "error",
     "traceback": [
      "\u001b[1;31m---------------------------------------------------------------------------\u001b[0m",
      "\u001b[1;31mFileNotFoundError\u001b[0m                         Traceback (most recent call last)",
      "Cell \u001b[1;32mIn[9], line 1\u001b[0m\n\u001b[1;32m----> 1\u001b[0m red_data \u001b[39m=\u001b[39m pd\u001b[39m.\u001b[39;49mread_csv(\u001b[39m\"\u001b[39;49m\u001b[39mdata\u001b[39;49m\u001b[39m\\\u001b[39;49m\u001b[39mMF_Model_base.csv\u001b[39;49m\u001b[39m\"\u001b[39;49m,\n\u001b[0;32m      2\u001b[0m                  parse_dates\u001b[39m=\u001b[39;49m {\u001b[39m\"\u001b[39;49m\u001b[39mdate\u001b[39;49m\u001b[39m\"\u001b[39;49m : [\u001b[39m\"\u001b[39;49m\u001b[39mYear\u001b[39;49m\u001b[39m\"\u001b[39;49m,\u001b[39m\"\u001b[39;49m\u001b[39mMonth\u001b[39;49m\u001b[39m\"\u001b[39;49m]})\n\u001b[0;32m      3\u001b[0m red_data\u001b[39m.\u001b[39minfo()\n",
      "File \u001b[1;32me:\\Finance_project\\Finance1\\lib\\site-packages\\pandas\\util\\_decorators.py:211\u001b[0m, in \u001b[0;36mdeprecate_kwarg.<locals>._deprecate_kwarg.<locals>.wrapper\u001b[1;34m(*args, **kwargs)\u001b[0m\n\u001b[0;32m    209\u001b[0m     \u001b[39melse\u001b[39;00m:\n\u001b[0;32m    210\u001b[0m         kwargs[new_arg_name] \u001b[39m=\u001b[39m new_arg_value\n\u001b[1;32m--> 211\u001b[0m \u001b[39mreturn\u001b[39;00m func(\u001b[39m*\u001b[39margs, \u001b[39m*\u001b[39m\u001b[39m*\u001b[39mkwargs)\n",
      "File \u001b[1;32me:\\Finance_project\\Finance1\\lib\\site-packages\\pandas\\util\\_decorators.py:331\u001b[0m, in \u001b[0;36mdeprecate_nonkeyword_arguments.<locals>.decorate.<locals>.wrapper\u001b[1;34m(*args, **kwargs)\u001b[0m\n\u001b[0;32m    325\u001b[0m \u001b[39mif\u001b[39;00m \u001b[39mlen\u001b[39m(args) \u001b[39m>\u001b[39m num_allow_args:\n\u001b[0;32m    326\u001b[0m     warnings\u001b[39m.\u001b[39mwarn(\n\u001b[0;32m    327\u001b[0m         msg\u001b[39m.\u001b[39mformat(arguments\u001b[39m=\u001b[39m_format_argument_list(allow_args)),\n\u001b[0;32m    328\u001b[0m         \u001b[39mFutureWarning\u001b[39;00m,\n\u001b[0;32m    329\u001b[0m         stacklevel\u001b[39m=\u001b[39mfind_stack_level(),\n\u001b[0;32m    330\u001b[0m     )\n\u001b[1;32m--> 331\u001b[0m \u001b[39mreturn\u001b[39;00m func(\u001b[39m*\u001b[39margs, \u001b[39m*\u001b[39m\u001b[39m*\u001b[39mkwargs)\n",
      "File \u001b[1;32me:\\Finance_project\\Finance1\\lib\\site-packages\\pandas\\io\\parsers\\readers.py:950\u001b[0m, in \u001b[0;36mread_csv\u001b[1;34m(filepath_or_buffer, sep, delimiter, header, names, index_col, usecols, squeeze, prefix, mangle_dupe_cols, dtype, engine, converters, true_values, false_values, skipinitialspace, skiprows, skipfooter, nrows, na_values, keep_default_na, na_filter, verbose, skip_blank_lines, parse_dates, infer_datetime_format, keep_date_col, date_parser, dayfirst, cache_dates, iterator, chunksize, compression, thousands, decimal, lineterminator, quotechar, quoting, doublequote, escapechar, comment, encoding, encoding_errors, dialect, error_bad_lines, warn_bad_lines, on_bad_lines, delim_whitespace, low_memory, memory_map, float_precision, storage_options)\u001b[0m\n\u001b[0;32m    935\u001b[0m kwds_defaults \u001b[39m=\u001b[39m _refine_defaults_read(\n\u001b[0;32m    936\u001b[0m     dialect,\n\u001b[0;32m    937\u001b[0m     delimiter,\n\u001b[1;32m   (...)\u001b[0m\n\u001b[0;32m    946\u001b[0m     defaults\u001b[39m=\u001b[39m{\u001b[39m\"\u001b[39m\u001b[39mdelimiter\u001b[39m\u001b[39m\"\u001b[39m: \u001b[39m\"\u001b[39m\u001b[39m,\u001b[39m\u001b[39m\"\u001b[39m},\n\u001b[0;32m    947\u001b[0m )\n\u001b[0;32m    948\u001b[0m kwds\u001b[39m.\u001b[39mupdate(kwds_defaults)\n\u001b[1;32m--> 950\u001b[0m \u001b[39mreturn\u001b[39;00m _read(filepath_or_buffer, kwds)\n",
      "File \u001b[1;32me:\\Finance_project\\Finance1\\lib\\site-packages\\pandas\\io\\parsers\\readers.py:605\u001b[0m, in \u001b[0;36m_read\u001b[1;34m(filepath_or_buffer, kwds)\u001b[0m\n\u001b[0;32m    602\u001b[0m _validate_names(kwds\u001b[39m.\u001b[39mget(\u001b[39m\"\u001b[39m\u001b[39mnames\u001b[39m\u001b[39m\"\u001b[39m, \u001b[39mNone\u001b[39;00m))\n\u001b[0;32m    604\u001b[0m \u001b[39m# Create the parser.\u001b[39;00m\n\u001b[1;32m--> 605\u001b[0m parser \u001b[39m=\u001b[39m TextFileReader(filepath_or_buffer, \u001b[39m*\u001b[39m\u001b[39m*\u001b[39mkwds)\n\u001b[0;32m    607\u001b[0m \u001b[39mif\u001b[39;00m chunksize \u001b[39mor\u001b[39;00m iterator:\n\u001b[0;32m    608\u001b[0m     \u001b[39mreturn\u001b[39;00m parser\n",
      "File \u001b[1;32me:\\Finance_project\\Finance1\\lib\\site-packages\\pandas\\io\\parsers\\readers.py:1442\u001b[0m, in \u001b[0;36mTextFileReader.__init__\u001b[1;34m(self, f, engine, **kwds)\u001b[0m\n\u001b[0;32m   1439\u001b[0m     \u001b[39mself\u001b[39m\u001b[39m.\u001b[39moptions[\u001b[39m\"\u001b[39m\u001b[39mhas_index_names\u001b[39m\u001b[39m\"\u001b[39m] \u001b[39m=\u001b[39m kwds[\u001b[39m\"\u001b[39m\u001b[39mhas_index_names\u001b[39m\u001b[39m\"\u001b[39m]\n\u001b[0;32m   1441\u001b[0m \u001b[39mself\u001b[39m\u001b[39m.\u001b[39mhandles: IOHandles \u001b[39m|\u001b[39m \u001b[39mNone\u001b[39;00m \u001b[39m=\u001b[39m \u001b[39mNone\u001b[39;00m\n\u001b[1;32m-> 1442\u001b[0m \u001b[39mself\u001b[39m\u001b[39m.\u001b[39m_engine \u001b[39m=\u001b[39m \u001b[39mself\u001b[39;49m\u001b[39m.\u001b[39;49m_make_engine(f, \u001b[39mself\u001b[39;49m\u001b[39m.\u001b[39;49mengine)\n",
      "File \u001b[1;32me:\\Finance_project\\Finance1\\lib\\site-packages\\pandas\\io\\parsers\\readers.py:1735\u001b[0m, in \u001b[0;36mTextFileReader._make_engine\u001b[1;34m(self, f, engine)\u001b[0m\n\u001b[0;32m   1733\u001b[0m     \u001b[39mif\u001b[39;00m \u001b[39m\"\u001b[39m\u001b[39mb\u001b[39m\u001b[39m\"\u001b[39m \u001b[39mnot\u001b[39;00m \u001b[39min\u001b[39;00m mode:\n\u001b[0;32m   1734\u001b[0m         mode \u001b[39m+\u001b[39m\u001b[39m=\u001b[39m \u001b[39m\"\u001b[39m\u001b[39mb\u001b[39m\u001b[39m\"\u001b[39m\n\u001b[1;32m-> 1735\u001b[0m \u001b[39mself\u001b[39m\u001b[39m.\u001b[39mhandles \u001b[39m=\u001b[39m get_handle(\n\u001b[0;32m   1736\u001b[0m     f,\n\u001b[0;32m   1737\u001b[0m     mode,\n\u001b[0;32m   1738\u001b[0m     encoding\u001b[39m=\u001b[39;49m\u001b[39mself\u001b[39;49m\u001b[39m.\u001b[39;49moptions\u001b[39m.\u001b[39;49mget(\u001b[39m\"\u001b[39;49m\u001b[39mencoding\u001b[39;49m\u001b[39m\"\u001b[39;49m, \u001b[39mNone\u001b[39;49;00m),\n\u001b[0;32m   1739\u001b[0m     compression\u001b[39m=\u001b[39;49m\u001b[39mself\u001b[39;49m\u001b[39m.\u001b[39;49moptions\u001b[39m.\u001b[39;49mget(\u001b[39m\"\u001b[39;49m\u001b[39mcompression\u001b[39;49m\u001b[39m\"\u001b[39;49m, \u001b[39mNone\u001b[39;49;00m),\n\u001b[0;32m   1740\u001b[0m     memory_map\u001b[39m=\u001b[39;49m\u001b[39mself\u001b[39;49m\u001b[39m.\u001b[39;49moptions\u001b[39m.\u001b[39;49mget(\u001b[39m\"\u001b[39;49m\u001b[39mmemory_map\u001b[39;49m\u001b[39m\"\u001b[39;49m, \u001b[39mFalse\u001b[39;49;00m),\n\u001b[0;32m   1741\u001b[0m     is_text\u001b[39m=\u001b[39;49mis_text,\n\u001b[0;32m   1742\u001b[0m     errors\u001b[39m=\u001b[39;49m\u001b[39mself\u001b[39;49m\u001b[39m.\u001b[39;49moptions\u001b[39m.\u001b[39;49mget(\u001b[39m\"\u001b[39;49m\u001b[39mencoding_errors\u001b[39;49m\u001b[39m\"\u001b[39;49m, \u001b[39m\"\u001b[39;49m\u001b[39mstrict\u001b[39;49m\u001b[39m\"\u001b[39;49m),\n\u001b[0;32m   1743\u001b[0m     storage_options\u001b[39m=\u001b[39;49m\u001b[39mself\u001b[39;49m\u001b[39m.\u001b[39;49moptions\u001b[39m.\u001b[39;49mget(\u001b[39m\"\u001b[39;49m\u001b[39mstorage_options\u001b[39;49m\u001b[39m\"\u001b[39;49m, \u001b[39mNone\u001b[39;49;00m),\n\u001b[0;32m   1744\u001b[0m )\n\u001b[0;32m   1745\u001b[0m \u001b[39massert\u001b[39;00m \u001b[39mself\u001b[39m\u001b[39m.\u001b[39mhandles \u001b[39mis\u001b[39;00m \u001b[39mnot\u001b[39;00m \u001b[39mNone\u001b[39;00m\n\u001b[0;32m   1746\u001b[0m f \u001b[39m=\u001b[39m \u001b[39mself\u001b[39m\u001b[39m.\u001b[39mhandles\u001b[39m.\u001b[39mhandle\n",
      "File \u001b[1;32me:\\Finance_project\\Finance1\\lib\\site-packages\\pandas\\io\\common.py:856\u001b[0m, in \u001b[0;36mget_handle\u001b[1;34m(path_or_buf, mode, encoding, compression, memory_map, is_text, errors, storage_options)\u001b[0m\n\u001b[0;32m    851\u001b[0m \u001b[39melif\u001b[39;00m \u001b[39misinstance\u001b[39m(handle, \u001b[39mstr\u001b[39m):\n\u001b[0;32m    852\u001b[0m     \u001b[39m# Check whether the filename is to be opened in binary mode.\u001b[39;00m\n\u001b[0;32m    853\u001b[0m     \u001b[39m# Binary mode does not support 'encoding' and 'newline'.\u001b[39;00m\n\u001b[0;32m    854\u001b[0m     \u001b[39mif\u001b[39;00m ioargs\u001b[39m.\u001b[39mencoding \u001b[39mand\u001b[39;00m \u001b[39m\"\u001b[39m\u001b[39mb\u001b[39m\u001b[39m\"\u001b[39m \u001b[39mnot\u001b[39;00m \u001b[39min\u001b[39;00m ioargs\u001b[39m.\u001b[39mmode:\n\u001b[0;32m    855\u001b[0m         \u001b[39m# Encoding\u001b[39;00m\n\u001b[1;32m--> 856\u001b[0m         handle \u001b[39m=\u001b[39m \u001b[39mopen\u001b[39;49m(\n\u001b[0;32m    857\u001b[0m             handle,\n\u001b[0;32m    858\u001b[0m             ioargs\u001b[39m.\u001b[39;49mmode,\n\u001b[0;32m    859\u001b[0m             encoding\u001b[39m=\u001b[39;49mioargs\u001b[39m.\u001b[39;49mencoding,\n\u001b[0;32m    860\u001b[0m             errors\u001b[39m=\u001b[39;49merrors,\n\u001b[0;32m    861\u001b[0m             newline\u001b[39m=\u001b[39;49m\u001b[39m\"\u001b[39;49m\u001b[39m\"\u001b[39;49m,\n\u001b[0;32m    862\u001b[0m         )\n\u001b[0;32m    863\u001b[0m     \u001b[39melse\u001b[39;00m:\n\u001b[0;32m    864\u001b[0m         \u001b[39m# Binary mode\u001b[39;00m\n\u001b[0;32m    865\u001b[0m         handle \u001b[39m=\u001b[39m \u001b[39mopen\u001b[39m(handle, ioargs\u001b[39m.\u001b[39mmode)\n",
      "\u001b[1;31mFileNotFoundError\u001b[0m: [Errno 2] No such file or directory: 'data\\\\MF_Model_base.csv'"
     ]
    }
   ],
<<<<<<< HEAD
=======
   "execution_count": null,
   "metadata": {},
   "outputs": [],
>>>>>>> 757b49a (EDA updated with ICICI index)
=======
>>>>>>> f7a0ac6 (eda requirements added)
=======
   "execution_count": null,
   "metadata": {},
   "outputs": [],
>>>>>>> 757b49a (EDA updated with ICICI index)
=======
   "execution_count": 28,
=======
   "execution_count": 17,
=======
   "execution_count": 28,
>>>>>>> 3fab99f339b890a772515496037519492a613854
>>>>>>> 5862058068ce0eeef40f1570094cd738353c4e55
>>>>>>> 72d93bd8b5917840363920e1ceaf3864accc6cb8
   "metadata": {},
   "outputs": [
    {
     "name": "stderr",
     "output_type": "stream",
     "text": [
<<<<<<< HEAD
      "c:\\Users\\arunk\\Finance_project\\Finance_project\\lib\\site-packages\\IPython\\core\\interactiveshell.py:3552: DtypeWarning: Columns (11) have mixed types.Specify dtype option on import or set low_memory=False.\n",
      "  exec(code_obj, self.user_global_ns, self.user_ns)\n"
=======
<<<<<<< HEAD
      "C:\\Users\\Om\\AppData\\Local\\Temp\\ipykernel_37140\\4033173527.py:1: DtypeWarning: Columns (11) have mixed types. Specify dtype option on import or set low_memory=False.\n",
      "  red_data = pd.read_csv(\"./data/MF_Model_base.csv\",\n"
=======
<<<<<<< HEAD
      "C:\\Users\\arunk\\AppData\\Local\\Temp\\ipykernel_2156\\1581842844.py:1: DtypeWarning: Columns (11) have mixed types. Specify dtype option on import or set low_memory=False.\n",
      "  red_data = pd.read_csv(\"data\\MF_Model_base.csv\",\n"
=======
      "C:\\Users\\Om\\AppData\\Local\\Temp\\ipykernel_37140\\4033173527.py:1: DtypeWarning: Columns (11) have mixed types. Specify dtype option on import or set low_memory=False.\n",
      "  red_data = pd.read_csv(\"./data/MF_Model_base.csv\",\n"
>>>>>>> 3fab99f339b890a772515496037519492a613854
>>>>>>> 5862058068ce0eeef40f1570094cd738353c4e55
>>>>>>> 72d93bd8b5917840363920e1ceaf3864accc6cb8
     ]
    },
    {
     "name": "stdout",
     "output_type": "stream",
     "text": [
      "<class 'pandas.core.frame.DataFrame'>\n",
      "RangeIndex: 946207 entries, 0 to 946206\n",
      "Data columns (total 12 columns):\n",
      " #   Column           Non-Null Count   Dtype         \n",
      "---  ------           --------------   -----         \n",
      " 0   date             946207 non-null  datetime64[ns]\n",
      " 1   Customer ID      946207 non-null  int64         \n",
      " 2   FA ID            946207 non-null  int64         \n",
      " 3   Scheme Code      946207 non-null  int64         \n",
      " 4   Txn. No          946207 non-null  object        \n",
      " 5   Txn. Type        946207 non-null  object        \n",
      " 6   Txn. Sub Type    946207 non-null  object        \n",
      " 7   Units            946207 non-null  float64       \n",
      " 8   Purchase Amount  946207 non-null  float64       \n",
      " 9   City             943217 non-null  object        \n",
      " 10  Pin Code         945645 non-null  object        \n",
      " 11  Date of Birth    937774 non-null  object        \n",
      "dtypes: datetime64[ns](1), float64(2), int64(3), object(6)\n",
      "memory usage: 86.6+ MB\n"
     ]
    }
   ],
<<<<<<< HEAD
>>>>>>> 881279d (Columns combined in EDA)
   "source": [
<<<<<<< HEAD
    "redeem_data = pd.read_csv(\"data/MF_Model_base.csv\",\n",
=======
    "red_data = pd.read_csv(\"./data/MF_Model_base.csv\",\n",
=======
<<<<<<< HEAD
=======
   "execution_count": null,
   "metadata": {},
   "outputs": [],
>>>>>>> 757b49a (EDA updated with ICICI index)
   "source": [
    "red_data = pd.read_csv(\"data\\MF_Model_base.csv\",\n",
=======
   "source": [
    "red_data = pd.read_csv(\"./data/MF_Model_base.csv\",\n",
>>>>>>> 3fab99f339b890a772515496037519492a613854
>>>>>>> 5862058068ce0eeef40f1570094cd738353c4e55
>>>>>>> 72d93bd8b5917840363920e1ceaf3864accc6cb8
    "                 parse_dates= {\"date\" : [\"Year\",\"Month\"]})\n",
    "redeem_data.info()"
=======
   "outputs": [],
   "source": [
    "import os\n",
    "os.chdir(\"..\")"
>>>>>>> ef51da1 (eda requirements added)
   ]
  },
  {
   "cell_type": "code",
<<<<<<< HEAD
<<<<<<< HEAD
   "execution_count": 3,
=======
   "execution_count": 29,
=======
<<<<<<< HEAD
   "execution_count": 19,
=======
   "execution_count": 29,
>>>>>>> 3fab99f339b890a772515496037519492a613854
>>>>>>> 5862058068ce0eeef40f1570094cd738353c4e55
>>>>>>> 72d93bd8b5917840363920e1ceaf3864accc6cb8
   "metadata": {},
   "outputs": [
    {
<<<<<<< HEAD
     "name": "stdout",
     "output_type": "stream",
     "text": [
      "2013-12-01 00:00:00 2022-12-01 00:00:00\n"
     ]
    }
   ],
   "source": [
<<<<<<< HEAD
    "min_date = redeem_data[\"date\"].min()\n",
    "max_date = redeem_data[\"date\"].max()\n",
=======
    "min_date = red_data[\"date\"].min()\n",
    "max_date = red_data[\"date\"].max()\n",
<<<<<<< HEAD
>>>>>>> 72d93bd8b5917840363920e1ceaf3864accc6cb8
    "print(min_date,max_date)\n",
    "from datetime import date, datetime"
=======
<<<<<<< HEAD
    "print(min_date,max_date)"
=======
    "print(min_date,max_date)\n",
    "from datetime import date, datetime"
>>>>>>> 3fab99f339b890a772515496037519492a613854
>>>>>>> 5862058068ce0eeef40f1570094cd738353c4e55
   ]
  },
  {
   "cell_type": "code",
<<<<<<< HEAD
   "execution_count": 180,
   "metadata": {},
   "outputs": [
    {
=======
<<<<<<< HEAD
<<<<<<< HEAD
<<<<<<< HEAD
<<<<<<< HEAD
<<<<<<< HEAD
<<<<<<< HEAD
   "execution_count": 24,
=======
   "execution_count": 22,
>>>>>>> 757b49a (EDA updated with ICICI index)
=======
=======
>>>>>>> 5862058068ce0eeef40f1570094cd738353c4e55
   "execution_count": 24,
>>>>>>> d9abd0e (Update)
=======
   "execution_count": 3,
>>>>>>> afba72f (EDA Changed)
=======
   "execution_count": 22,
>>>>>>> 757b49a (EDA updated with ICICI index)
   "metadata": {},
   "outputs": [
    {
     "name": "stdout",
     "output_type": "stream",
     "text": [
<<<<<<< HEAD
<<<<<<< HEAD
<<<<<<< HEAD
<<<<<<< HEAD
=======
>>>>>>> d9abd0e (Update)
      "Exception in thread Thread-53:\n",
      "Traceback (most recent call last):\n",
      "  File \"c:\\Users\\arunk\\Finance_project\\env\\lib\\site-packages\\nsepy\\urls.py\", line 42, in get_symbol_count\n",
      "    return symbol_count[symbol]\n",
      "KeyError: 'niftyfin'\n",
      "\n",
      "During handling of the above exception, another exception occurred:\n",
      "\n",
      "Traceback (most recent call last):\n",
      "  File \"c:\\Users\\arunk\\Finance_project\\env\\lib\\threading.py\", line 980, in _bootstrap_inner\n",
      "Exception in thread Thread-77:\n",
      "Traceback (most recent call last):\n",
      "  File \"c:\\Users\\arunk\\Finance_project\\env\\lib\\site-packages\\nsepy\\urls.py\", line 42, in get_symbol_count\n",
      "    self.run()\n",
      "  File \"c:\\Users\\arunk\\Finance_project\\env\\lib\\site-packages\\nsepy\\commons.py\", line 132, in run\n",
      "    return symbol_count[symbol]\n",
      "KeyError: 'niftyfin'\n",
      "\n",
      "During handling of the above exception, another exception occurred:\n",
      "\n",
      "Traceback (most recent call last):\n",
      "  File \"c:\\Users\\arunk\\Finance_project\\env\\lib\\threading.py\", line 980, in _bootstrap_inner\n",
      "    self.result = self._target(*self._args, **self._kwargs)\n",
      "  File \"c:\\Users\\arunk\\Finance_project\\env\\lib\\site-packages\\nsepy\\history.py\", line 138, in get_history\n",
      "    self.run()\n",
      "  File \"c:\\Users\\arunk\\Finance_project\\env\\lib\\site-packages\\nsepy\\commons.py\", line 132, in run\n",
      "    self.result = self._target(*self._args, **self._kwargs)\n",
      "  File \"c:\\Users\\arunk\\Finance_project\\env\\lib\\site-packages\\nsepy\\history.py\", line 138, in get_history\n",
      "    return get_history_quanta(**kwargs)\n",
      "  File \"c:\\Users\\arunk\\Finance_project\\env\\lib\\site-packages\\nsepy\\history.py\", line 142, in get_history_quanta\n",
      "    return get_history_quanta(**kwargs)\n",
      "  File \"c:\\Users\\arunk\\Finance_project\\env\\lib\\site-packages\\nsepy\\history.py\", line 142, in get_history_quanta\n",
      "    url, params, schema, headers, scaling = validate_params(**kwargs)\n",
      "  File \"c:\\Users\\arunk\\Finance_project\\env\\lib\\site-packages\\nsepy\\history.py\", line 254, in validate_params\n",
      "    url, params, schema, headers, scaling = validate_params(**kwargs)\n",
      "  File \"c:\\Users\\arunk\\Finance_project\\env\\lib\\site-packages\\nsepy\\history.py\", line 254, in validate_params\n",
      "    params['symbolCount'] = get_symbol_count(symbol)\n",
      "  File \"c:\\Users\\arunk\\Finance_project\\env\\lib\\site-packages\\nsepy\\urls.py\", line 44, in get_symbol_count\n",
      "    cnt = symbol_count_url(symbol=symbol).text.lstrip().rstrip()\n",
      "  File \"c:\\Users\\arunk\\Finance_project\\env\\lib\\site-packages\\nsepy\\commons.py\", line 167, in __call__\n",
      "    return self.session.get(url, params=kwargs, proxies = self.proxy )\n",
      "  File \"c:\\Users\\arunk\\Finance_project\\env\\lib\\site-packages\\requests\\sessions.py\", line 600, in get\n",
      "    return self.request(\"GET\", url, **kwargs)\n",
      "  File \"c:\\Users\\arunk\\Finance_project\\env\\lib\\site-packages\\requests\\sessions.py\", line 587, in request\n",
      "    params['symbolCount'] = get_symbol_count(symbol)\n",
      "  File \"c:\\Users\\arunk\\Finance_project\\env\\lib\\site-packages\\nsepy\\urls.py\", line 44, in get_symbol_count\n",
      "    resp = self.send(prep, **send_kwargs)\n",
      "  File \"c:\\Users\\arunk\\Finance_project\\env\\lib\\site-packages\\requests\\sessions.py\", line 723, in send\n",
      "    cnt = symbol_count_url(symbol=symbol).text.lstrip().rstrip()\n",
      "  File \"c:\\Users\\arunk\\Finance_project\\env\\lib\\site-packages\\nsepy\\commons.py\", line 167, in __call__\n",
      "    return self.session.get(url, params=kwargs, proxies = self.proxy )\n",
      "  File \"c:\\Users\\arunk\\Finance_project\\env\\lib\\site-packages\\requests\\sessions.py\", line 600, in get\n",
      "    return self.request(\"GET\", url, **kwargs)\n",
      "  File \"c:\\Users\\arunk\\Finance_project\\env\\lib\\site-packages\\requests\\sessions.py\", line 587, in request\n",
      "    history = [resp for resp in gen]\n",
      "  File \"c:\\Users\\arunk\\Finance_project\\env\\lib\\site-packages\\requests\\sessions.py\", line 723, in <listcomp>\n",
      "    resp = self.send(prep, **send_kwargs)\n",
      "  File \"c:\\Users\\arunk\\Finance_project\\env\\lib\\site-packages\\requests\\sessions.py\", line 723, in send\n",
      "    history = [resp for resp in gen]\n",
      "  File \"c:\\Users\\arunk\\Finance_project\\env\\lib\\site-packages\\requests\\sessions.py\", line 191, in resolve_redirects\n",
      "Exception in thread Thread-55:\n",
      "Traceback (most recent call last):\n",
      "  File \"c:\\Users\\arunk\\Finance_project\\env\\lib\\site-packages\\nsepy\\urls.py\", line 42, in get_symbol_count\n",
      "    history = [resp for resp in gen]\n",
      "  File \"c:\\Users\\arunk\\Finance_project\\env\\lib\\site-packages\\requests\\sessions.py\", line 723, in <listcomp>\n",
      "    history = [resp for resp in gen]\n",
      "  File \"c:\\Users\\arunk\\Finance_project\\env\\lib\\site-packages\\requests\\sessions.py\", line 191, in resolve_redirects\n",
      "    raise TooManyRedirects(\n",
      "requests.exceptions.TooManyRedirects: Exceeded 30 redirects.\n",
      "Exception in thread Thread-67:\n",
      "Traceback (most recent call last):\n",
      "  File \"c:\\Users\\arunk\\Finance_project\\env\\lib\\site-packages\\nsepy\\urls.py\", line 42, in get_symbol_count\n",
      "    raise TooManyRedirects(\n",
      "requests.exceptions.TooManyRedirects: Exceeded 30 redirects.\n",
      "    return symbol_count[symbol]\n",
      "KeyError: 'niftyfin'\n",
      "\n",
      "During handling of the above exception, another exception occurred:\n",
      "\n",
      "Traceback (most recent call last):\n",
      "  File \"c:\\Users\\arunk\\Finance_project\\env\\lib\\threading.py\", line 980, in _bootstrap_inner\n",
      "    return symbol_count[symbol]\n",
      "KeyError: 'niftyfin'\n",
      "\n",
      "During handling of the above exception, another exception occurred:\n",
      "\n",
      "Traceback (most recent call last):\n",
      "  File \"c:\\Users\\arunk\\Finance_project\\env\\lib\\threading.py\", line 980, in _bootstrap_inner\n",
      "    self.run()\n",
      "  File \"c:\\Users\\arunk\\Finance_project\\env\\lib\\site-packages\\nsepy\\commons.py\", line 132, in run\n",
      "    self.result = self._target(*self._args, **self._kwargs)\n",
      "  File \"c:\\Users\\arunk\\Finance_project\\env\\lib\\site-packages\\nsepy\\history.py\", line 138, in get_history\n",
      "    self.run()\n",
      "  File \"c:\\Users\\arunk\\Finance_project\\env\\lib\\site-packages\\nsepy\\commons.py\", line 132, in run\n",
      "    return get_history_quanta(**kwargs)\n",
      "  File \"c:\\Users\\arunk\\Finance_project\\env\\lib\\site-packages\\nsepy\\history.py\", line 142, in get_history_quanta\n",
      "Exception in thread Thread-71:\n",
      "Traceback (most recent call last):\n",
      "  File \"c:\\Users\\arunk\\Finance_project\\env\\lib\\site-packages\\nsepy\\urls.py\", line 42, in get_symbol_count\n",
      "    self.result = self._target(*self._args, **self._kwargs)\n",
      "  File \"c:\\Users\\arunk\\Finance_project\\env\\lib\\site-packages\\nsepy\\history.py\", line 138, in get_history\n",
      "    return symbol_count[symbol]\n",
      "KeyError: 'niftyfin'\n",
      "\n",
      "During handling of the above exception, another exception occurred:\n",
      "\n",
      "Traceback (most recent call last):\n",
      "  File \"c:\\Users\\arunk\\Finance_project\\env\\lib\\threading.py\", line 980, in _bootstrap_inner\n",
      "    url, params, schema, headers, scaling = validate_params(**kwargs)\n",
      "  File \"c:\\Users\\arunk\\Finance_project\\env\\lib\\site-packages\\nsepy\\history.py\", line 254, in validate_params\n",
      "    params['symbolCount'] = get_symbol_count(symbol)\n",
      "  File \"c:\\Users\\arunk\\Finance_project\\env\\lib\\site-packages\\nsepy\\urls.py\", line 44, in get_symbol_count\n",
      "    self.run()\n",
      "  File \"c:\\Users\\arunk\\Finance_project\\env\\lib\\site-packages\\nsepy\\commons.py\", line 132, in run\n",
      "    return get_history_quanta(**kwargs)\n",
      "  File \"c:\\Users\\arunk\\Finance_project\\env\\lib\\site-packages\\nsepy\\history.py\", line 142, in get_history_quanta\n",
      "    cnt = symbol_count_url(symbol=symbol).text.lstrip().rstrip()\n",
      "  File \"c:\\Users\\arunk\\Finance_project\\env\\lib\\site-packages\\nsepy\\commons.py\", line 167, in __call__\n",
      "    url, params, schema, headers, scaling = validate_params(**kwargs)\n",
      "  File \"c:\\Users\\arunk\\Finance_project\\env\\lib\\site-packages\\nsepy\\history.py\", line 254, in validate_params\n",
      "    self.result = self._target(*self._args, **self._kwargs)\n",
      "  File \"c:\\Users\\arunk\\Finance_project\\env\\lib\\site-packages\\nsepy\\history.py\", line 138, in get_history\n",
      "    params['symbolCount'] = get_symbol_count(symbol)\n",
      "  File \"c:\\Users\\arunk\\Finance_project\\env\\lib\\site-packages\\nsepy\\urls.py\", line 44, in get_symbol_count\n",
      "    return get_history_quanta(**kwargs)\n",
      "  File \"c:\\Users\\arunk\\Finance_project\\env\\lib\\site-packages\\nsepy\\history.py\", line 142, in get_history_quanta\n",
      "    return self.session.get(url, params=kwargs, proxies = self.proxy )\n",
      "  File \"c:\\Users\\arunk\\Finance_project\\env\\lib\\site-packages\\requests\\sessions.py\", line 600, in get\n",
      "    cnt = symbol_count_url(symbol=symbol).text.lstrip().rstrip()\n",
      "  File \"c:\\Users\\arunk\\Finance_project\\env\\lib\\site-packages\\nsepy\\commons.py\", line 167, in __call__\n",
      "    url, params, schema, headers, scaling = validate_params(**kwargs)\n",
      "  File \"c:\\Users\\arunk\\Finance_project\\env\\lib\\site-packages\\nsepy\\history.py\", line 254, in validate_params\n",
      "    return self.session.get(url, params=kwargs, proxies = self.proxy )\n",
      "  File \"c:\\Users\\arunk\\Finance_project\\env\\lib\\site-packages\\requests\\sessions.py\", line 600, in get\n",
      "    return self.request(\"GET\", url, **kwargs)\n",
      "  File \"c:\\Users\\arunk\\Finance_project\\env\\lib\\site-packages\\requests\\sessions.py\", line 587, in request\n",
      "    return self.request(\"GET\", url, **kwargs)\n",
      "  File \"c:\\Users\\arunk\\Finance_project\\env\\lib\\site-packages\\requests\\sessions.py\", line 587, in request\n",
      "Exception in thread Thread-57:\n",
      "Traceback (most recent call last):\n",
      "  File \"c:\\Users\\arunk\\Finance_project\\env\\lib\\site-packages\\nsepy\\urls.py\", line 42, in get_symbol_count\n",
      "    return symbol_count[symbol]\n",
      "KeyError: 'niftyfin'\n",
=======
      "[*********************100%***********************]  1 of 1 completed\n",
>>>>>>> afba72f (EDA Changed)
      "\n",
      "1 Failed download:\n",
      "- NIFTY_FIN_SERVICE.NS: Period 'max' is invalid, must be one of ['1d', '5d']\n"
=======
      "[*********************100%***********************]  1 of 1 completed\n"
>>>>>>> 757b49a (EDA updated with ICICI index)
     ]
    },
    {
     "data": {
      "text/html": [
       "<div>\n",
       "<style scoped>\n",
       "    .dataframe tbody tr th:only-of-type {\n",
       "        vertical-align: middle;\n",
       "    }\n",
       "\n",
       "    .dataframe tbody tr th {\n",
       "        vertical-align: top;\n",
       "    }\n",
       "\n",
       "    .dataframe thead th {\n",
       "        text-align: right;\n",
       "    }\n",
       "</style>\n",
       "<table border=\"1\" class=\"dataframe\">\n",
       "  <thead>\n",
       "    <tr style=\"text-align: right;\">\n",
       "      <th></th>\n",
       "      <th>Open</th>\n",
       "      <th>High</th>\n",
       "      <th>Low</th>\n",
       "      <th>Close</th>\n",
       "      <th>Adj Close</th>\n",
       "      <th>Volume</th>\n",
       "    </tr>\n",
       "    <tr>\n",
       "      <th>Date</th>\n",
       "      <th></th>\n",
       "      <th></th>\n",
       "      <th></th>\n",
       "      <th></th>\n",
       "      <th></th>\n",
       "      <th></th>\n",
       "    </tr>\n",
       "  </thead>\n",
       "  <tbody>\n",
       "    <tr>\n",
       "      <th>2013-12-02</th>\n",
       "      <td>194.618179</td>\n",
       "      <td>200.000000</td>\n",
       "      <td>194.618179</td>\n",
       "      <td>197.872726</td>\n",
       "      <td>177.921692</td>\n",
       "      <td>15862258</td>\n",
       "    </tr>\n",
       "    <tr>\n",
       "      <th>2013-12-03</th>\n",
       "      <td>197.427277</td>\n",
       "      <td>199.945450</td>\n",
       "      <td>196.190903</td>\n",
       "      <td>197.345459</td>\n",
       "      <td>177.447617</td>\n",
       "      <td>13775069</td>\n",
       "    </tr>\n",
       "    <tr>\n",
       "      <th>2013-12-04</th>\n",
       "      <td>196.072723</td>\n",
       "      <td>196.072723</td>\n",
       "      <td>192.772720</td>\n",
       "      <td>193.863632</td>\n",
       "      <td>174.316849</td>\n",
       "      <td>16082533</td>\n",
       "    </tr>\n",
       "    <tr>\n",
       "      <th>2013-12-05</th>\n",
       "      <td>201.545456</td>\n",
       "      <td>207.363632</td>\n",
       "      <td>201.545456</td>\n",
       "      <td>206.518188</td>\n",
       "      <td>185.695480</td>\n",
       "      <td>43417099</td>\n",
       "    </tr>\n",
       "    <tr>\n",
       "      <th>2013-12-06</th>\n",
       "      <td>206.436356</td>\n",
       "      <td>208.654541</td>\n",
       "      <td>204.163635</td>\n",
       "      <td>207.981812</td>\n",
       "      <td>187.011520</td>\n",
       "      <td>18361233</td>\n",
       "    </tr>\n",
       "    <tr>\n",
       "      <th>...</th>\n",
       "      <td>...</td>\n",
       "      <td>...</td>\n",
       "      <td>...</td>\n",
       "      <td>...</td>\n",
       "      <td>...</td>\n",
       "      <td>...</td>\n",
       "    </tr>\n",
       "    <tr>\n",
       "      <th>2022-11-24</th>\n",
       "      <td>927.549988</td>\n",
       "      <td>940.650024</td>\n",
       "      <td>927.549988</td>\n",
       "      <td>938.849976</td>\n",
       "      <td>938.849976</td>\n",
       "      <td>10844395</td>\n",
       "    </tr>\n",
       "    <tr>\n",
       "      <th>2022-11-25</th>\n",
       "      <td>940.299988</td>\n",
       "      <td>942.900024</td>\n",
       "      <td>927.500000</td>\n",
       "      <td>930.299988</td>\n",
       "      <td>930.299988</td>\n",
       "      <td>9815055</td>\n",
       "    </tr>\n",
       "    <tr>\n",
       "      <th>2022-11-28</th>\n",
       "      <td>924.000000</td>\n",
       "      <td>943.799988</td>\n",
       "      <td>923.950012</td>\n",
       "      <td>937.400024</td>\n",
       "      <td>937.400024</td>\n",
       "      <td>9381474</td>\n",
       "    </tr>\n",
       "    <tr>\n",
       "      <th>2022-11-29</th>\n",
       "      <td>933.549988</td>\n",
       "      <td>949.900024</td>\n",
       "      <td>933.549988</td>\n",
       "      <td>946.750000</td>\n",
       "      <td>946.750000</td>\n",
       "      <td>13096845</td>\n",
       "    </tr>\n",
       "    <tr>\n",
       "      <th>2022-11-30</th>\n",
       "      <td>948.049988</td>\n",
       "      <td>958.200012</td>\n",
       "      <td>941.000000</td>\n",
       "      <td>952.900024</td>\n",
       "      <td>952.900024</td>\n",
       "      <td>20858573</td>\n",
       "    </tr>\n",
       "  </tbody>\n",
       "</table>\n",
       "<p>2219 rows × 6 columns</p>\n",
       "</div>"
      ],
      "text/plain": [
       "                  Open        High         Low       Close   Adj Close  \\\n",
       "Date                                                                     \n",
       "2013-12-02  194.618179  200.000000  194.618179  197.872726  177.921692   \n",
       "2013-12-03  197.427277  199.945450  196.190903  197.345459  177.447617   \n",
       "2013-12-04  196.072723  196.072723  192.772720  193.863632  174.316849   \n",
       "2013-12-05  201.545456  207.363632  201.545456  206.518188  185.695480   \n",
       "2013-12-06  206.436356  208.654541  204.163635  207.981812  187.011520   \n",
       "...                ...         ...         ...         ...         ...   \n",
       "2022-11-24  927.549988  940.650024  927.549988  938.849976  938.849976   \n",
       "2022-11-25  940.299988  942.900024  927.500000  930.299988  930.299988   \n",
       "2022-11-28  924.000000  943.799988  923.950012  937.400024  937.400024   \n",
       "2022-11-29  933.549988  949.900024  933.549988  946.750000  946.750000   \n",
       "2022-11-30  948.049988  958.200012  941.000000  952.900024  952.900024   \n",
       "\n",
       "              Volume  \n",
       "Date                  \n",
       "2013-12-02  15862258  \n",
       "2013-12-03  13775069  \n",
       "2013-12-04  16082533  \n",
       "2013-12-05  43417099  \n",
       "2013-12-06  18361233  \n",
       "...              ...  \n",
       "2022-11-24  10844395  \n",
       "2022-11-25   9815055  \n",
       "2022-11-28   9381474  \n",
       "2022-11-29  13096845  \n",
       "2022-11-30  20858573  \n",
       "\n",
       "[2219 rows x 6 columns]"
      ]
     },
     "execution_count": 22,
     "metadata": {},
     "output_type": "execute_result"
    }
   ],
   "source": [
<<<<<<< HEAD
    "\n"
<<<<<<< HEAD
=======
=======
   "execution_count": 22,
   "metadata": {},
   "outputs": [
    {
     "name": "stdout",
     "output_type": "stream",
     "text": [
>>>>>>> 3fab99f339b890a772515496037519492a613854
      "[*********************100%***********************]  1 of 1 completed\n"
     ]
    },
    {
>>>>>>> 72d93bd8b5917840363920e1ceaf3864accc6cb8
     "data": {
      "text/html": [
       "<div>\n",
       "<style scoped>\n",
       "    .dataframe tbody tr th:only-of-type {\n",
       "        vertical-align: middle;\n",
       "    }\n",
       "\n",
       "    .dataframe tbody tr th {\n",
       "        vertical-align: top;\n",
       "    }\n",
       "\n",
       "    .dataframe thead th {\n",
       "        text-align: right;\n",
       "    }\n",
       "</style>\n",
       "<table border=\"1\" class=\"dataframe\">\n",
       "  <thead>\n",
       "    <tr style=\"text-align: right;\">\n",
       "      <th></th>\n",
       "      <th>Date</th>\n",
       "      <th>Open</th>\n",
       "      <th>High</th>\n",
       "      <th>Low</th>\n",
       "      <th>Close</th>\n",
       "    </tr>\n",
       "  </thead>\n",
       "  <tbody>\n",
       "    <tr>\n",
       "      <th>0</th>\n",
       "      <td>30 Dec 2022</td>\n",
       "      <td>19161.95</td>\n",
       "      <td>19166.70</td>\n",
       "      <td>18922.30</td>\n",
       "      <td>18981.20</td>\n",
       "    </tr>\n",
       "    <tr>\n",
       "      <th>1</th>\n",
       "      <td>29 Dec 2022</td>\n",
       "      <td>18903.15</td>\n",
       "      <td>19179.15</td>\n",
       "      <td>18796.95</td>\n",
       "      <td>19090.60</td>\n",
       "    </tr>\n",
       "    <tr>\n",
       "      <th>2</th>\n",
       "      <td>28 Dec 2022</td>\n",
       "      <td>18956.30</td>\n",
       "      <td>19042.60</td>\n",
       "      <td>18940.55</td>\n",
       "      <td>18982.85</td>\n",
       "    </tr>\n",
       "    <tr>\n",
       "      <th>3</th>\n",
       "      <td>27 Dec 2022</td>\n",
       "      <td>19002.05</td>\n",
       "      <td>19036.85</td>\n",
       "      <td>18838.30</td>\n",
       "      <td>19011.20</td>\n",
       "    </tr>\n",
       "    <tr>\n",
       "      <th>4</th>\n",
       "      <td>26 Dec 2022</td>\n",
       "      <td>18610.70</td>\n",
       "      <td>19010.65</td>\n",
       "      <td>18559.20</td>\n",
       "      <td>18928.65</td>\n",
       "    </tr>\n",
       "  </tbody>\n",
       "</table>\n",
       "</div>"
      ],
      "text/plain": [
       "          Date      Open      High       Low     Close\n",
       "0  30 Dec 2022  19161.95  19166.70  18922.30  18981.20\n",
       "1  29 Dec 2022  18903.15  19179.15  18796.95  19090.60\n",
       "2  28 Dec 2022  18956.30  19042.60  18940.55  18982.85\n",
       "3  27 Dec 2022  19002.05  19036.85  18838.30  19011.20\n",
       "4  26 Dec 2022  18610.70  19010.65  18559.20  18928.65"
      ]
     },
     "execution_count": 180,
     "metadata": {},
     "output_type": "execute_result"
    }
   ],
   "source": [
<<<<<<< HEAD
    "index_data = pd.read_csv(r\"data\\NIFTY FINANCIAL SERVICES_Data.csv\")\n",
    "index_data.head()"
=======
    "import yfinance as yf\n",
    "\n",
    "# Get the data for the stock AAPL\n",
    "data = yf.download('ICICIBANK.NS','2013-12-01','2022-12-01')\n",
    "data\n"
<<<<<<< HEAD
>>>>>>> 757b49a (EDA updated with ICICI index)
=======
>>>>>>> 3fab99f339b890a772515496037519492a613854
   ]
  },
  {
   "cell_type": "code",
   "execution_count": 23,
   "metadata": {},
   "outputs": [
    {
     "data": {
      "image/png": "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",
      "text/plain": [
       "<Figure size 640x480 with 1 Axes>"
      ]
     },
     "metadata": {},
     "output_type": "display_data"
    }
   ],
   "source": [
    "# Import the plotting library\n",
    "import matplotlib.pyplot as plt\n",
    "%matplotlib inline\n",
    "\n",
    "# Plot the close price of the AAPL\n",
    "data['Adj Close'].plot()\n",
    "plt.show()"
=======
>>>>>>> d9abd0e (Update)
=======
    "import yfinance as yf\n",
    "\n",
    "# Get the data for the stock AAPL\n",
    "data = yf.download('ICICIBANK.NS','2013-12-01','2022-12-01')\n",
    "data\n"
>>>>>>> afba72f (EDA Changed)
>>>>>>> 72d93bd8b5917840363920e1ceaf3864accc6cb8
   ]
  },
  {
   "cell_type": "code",
<<<<<<< HEAD
   "execution_count": 181,
=======
<<<<<<< HEAD
<<<<<<< HEAD
<<<<<<< HEAD
=======
>>>>>>> 96accbe (FOLDER Structure)
=======
>>>>>>> f7a0ac6 (eda requirements added)
=======
>>>>>>> d9abd0e (Update)
=======
   "execution_count": 23,
   "metadata": {},
   "outputs": [
    {
     "data": {
      "image/png": "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",
      "text/plain": [
       "<Figure size 640x480 with 1 Axes>"
      ]
     },
     "metadata": {},
     "output_type": "display_data"
    }
   ],
   "source": [
    "# Import the plotting library\n",
    "import matplotlib.pyplot as plt\n",
    "%matplotlib inline\n",
    "\n",
    "# Plot the close price of the AAPL\n",
    "data['Adj Close'].plot()\n",
    "plt.show()"
   ]
  },
  {
   "cell_type": "code",
<<<<<<< HEAD
>>>>>>> 757b49a (EDA updated with ICICI index)
=======
<<<<<<< HEAD
>>>>>>> 5862058068ce0eeef40f1570094cd738353c4e55
   "execution_count": null,
=======
   "execution_count": 30,
>>>>>>> 881279d (Columns combined in EDA)
   "metadata": {},
<<<<<<< HEAD
=======
   "outputs": [],
   "source": []
=======
   "execution_count": 30,
>>>>>>> 72d93bd8b5917840363920e1ceaf3864accc6cb8
   "metadata": {},
>>>>>>> 5862058068ce0eeef40f1570094cd738353c4e55
   "outputs": [
    {
=======
>>>>>>> ef51da1 (eda requirements added)
     "data": {
      "text/html": [
       "<div>\n",
       "<style scoped>\n",
       "    .dataframe tbody tr th:only-of-type {\n",
       "        vertical-align: middle;\n",
       "    }\n",
       "\n",
       "    .dataframe tbody tr th {\n",
       "        vertical-align: top;\n",
       "    }\n",
       "\n",
       "    .dataframe thead th {\n",
       "        text-align: right;\n",
       "    }\n",
       "</style>\n",
       "<table border=\"1\" class=\"dataframe\">\n",
       "  <thead>\n",
       "    <tr style=\"text-align: right;\">\n",
       "      <th></th>\n",
       "      <th>Customer ID</th>\n",
       "      <th>Occupation</th>\n",
       "      <th>Risk Appetite</th>\n",
       "    </tr>\n",
       "  </thead>\n",
       "  <tbody>\n",
       "    <tr>\n",
       "      <th>0</th>\n",
       "      <td>131015</td>\n",
       "      <td>Salaried</td>\n",
       "      <td>High</td>\n",
       "    </tr>\n",
       "    <tr>\n",
       "      <th>1</th>\n",
       "      <td>131006</td>\n",
       "      <td>Salaried</td>\n",
       "      <td>High</td>\n",
       "    </tr>\n",
       "    <tr>\n",
       "      <th>2</th>\n",
       "      <td>131005</td>\n",
       "      <td>Salaried</td>\n",
       "      <td>Low</td>\n",
       "    </tr>\n",
       "    <tr>\n",
       "      <th>3</th>\n",
       "      <td>130988</td>\n",
       "      <td>Salaried</td>\n",
       "      <td>Medium</td>\n",
       "    </tr>\n",
       "    <tr>\n",
       "      <th>4</th>\n",
       "      <td>130986</td>\n",
       "      <td>Salaried</td>\n",
       "      <td>Low</td>\n",
       "    </tr>\n",
       "  </tbody>\n",
       "</table>\n",
       "</div>"
      ],
      "text/plain": [
       "   Customer ID Occupation Risk Appetite\n",
       "0       131015   Salaried          High\n",
       "1       131006   Salaried          High\n",
       "2       131005   Salaried           Low\n",
       "3       130988   Salaried        Medium\n",
       "4       130986   Salaried           Low"
      ]
     },
<<<<<<< HEAD
     "execution_count": 181,
=======
     "execution_count": 3,
>>>>>>> ef51da1 (eda requirements added)
     "metadata": {},
     "output_type": "execute_result"
    }
   ],
=======
   "execution_count": null,
   "metadata": {},
   "outputs": [],
>>>>>>> 757b49a (EDA updated with ICICI index)
   "source": [
<<<<<<< HEAD
    "cust_data = pd.read_excel(r\"data\\MF Customer Details.xlsx\")\n",
    "cust_data.head()"
=======
    "import pandas as pd \n",
    "path = \"data\\MF Customer Details.xlsx\"\n",
    "\n",
    "cust_data =  pd.read_excel(path)\n",
    "\n",
    "cust_data.head()\n",
    "\n"
>>>>>>> ef51da1 (eda requirements added)
   ]
  },
  {
   "cell_type": "code",
<<<<<<< HEAD
   "execution_count": 182,
   "metadata": {},
   "outputs": [
    {
     "name": "stdout",
     "output_type": "stream",
     "text": [
      "date           datetime64[ns]\n",
      "Customer ID             int64\n",
      "Txn. Type              object\n",
      "dtype: object\n"
     ]
    },
    {
     "data": {
      "text/html": [
       "<div>\n",
       "<style scoped>\n",
       "    .dataframe tbody tr th:only-of-type {\n",
       "        vertical-align: middle;\n",
       "    }\n",
       "\n",
       "    .dataframe tbody tr th {\n",
       "        vertical-align: top;\n",
       "    }\n",
       "\n",
       "    .dataframe thead th {\n",
       "        text-align: right;\n",
       "    }\n",
       "</style>\n",
       "<table border=\"1\" class=\"dataframe\">\n",
       "  <thead>\n",
       "    <tr style=\"text-align: right;\">\n",
       "      <th></th>\n",
       "      <th>date</th>\n",
       "      <th>Customer ID</th>\n",
       "      <th>Txn. Type</th>\n",
       "    </tr>\n",
       "  </thead>\n",
       "  <tbody>\n",
       "    <tr>\n",
       "      <th>0</th>\n",
       "      <td>2022-11-01</td>\n",
       "      <td>131015</td>\n",
       "      <td>P</td>\n",
       "    </tr>\n",
       "    <tr>\n",
       "      <th>1</th>\n",
       "      <td>2022-11-01</td>\n",
       "      <td>131006</td>\n",
       "      <td>P</td>\n",
       "    </tr>\n",
       "  </tbody>\n",
       "</table>\n",
       "</div>"
      ],
      "text/plain": [
       "        date  Customer ID Txn. Type\n",
       "0 2022-11-01       131015         P\n",
       "1 2022-11-01       131006         P"
      ]
     },
     "execution_count": 182,
     "metadata": {},
     "output_type": "execute_result"
    }
   ],
   "source": [
    "# print(cust_data.columns)\n",
    "# print(index_data.columns)\n",
    "# print(redeem_data.columns)\n",
    "print(redeem_data.dtypes)\n",
    "# print(index_data.dtypes)\n",
    "# print(cust_data.dtypes)\n",
    "redeem_data.head(2)"
   ]
  },
  {
   "cell_type": "code",
<<<<<<< HEAD
   "execution_count": 183,
   "metadata": {},
   "outputs": [],
   "source": [
    "index_data[\"Date\"] = pd.to_datetime(index_data[\"Date\"])\n",
    "redeem_data[\"Date\"] = pd.to_datetime(redeem_data[\"date\"])"
=======
=======
<<<<<<< HEAD
>>>>>>> e11c55d (EDA updated with ICICI index)
   "execution_count": 17,
   "metadata": {},
   "outputs": [
    {
     "name": "stderr",
     "output_type": "stream",
     "text": [
      "C:\\Users\\arunk\\AppData\\Local\\Temp\\ipykernel_2156\\1581842844.py:1: DtypeWarning: Columns (11) have mixed types. Specify dtype option on import or set low_memory=False.\n",
      "  red_data = pd.read_csv(\"data\\MF_Model_base.csv\",\n"
     ]
    },
    {
     "name": "stdout",
     "output_type": "stream",
     "text": [
      "<class 'pandas.core.frame.DataFrame'>\n",
      "RangeIndex: 946207 entries, 0 to 946206\n",
      "Data columns (total 12 columns):\n",
      " #   Column           Non-Null Count   Dtype         \n",
      "---  ------           --------------   -----         \n",
      " 0   date             946207 non-null  datetime64[ns]\n",
      " 1   Customer ID      946207 non-null  int64         \n",
      " 2   FA ID            946207 non-null  int64         \n",
      " 3   Scheme Code      946207 non-null  int64         \n",
      " 4   Txn. No          946207 non-null  object        \n",
      " 5   Txn. Type        946207 non-null  object        \n",
      " 6   Txn. Sub Type    946207 non-null  object        \n",
      " 7   Units            946207 non-null  float64       \n",
      " 8   Purchase Amount  946207 non-null  float64       \n",
      " 9   City             943217 non-null  object        \n",
      " 10  Pin Code         945645 non-null  object        \n",
      " 11  Date of Birth    937774 non-null  object        \n",
      "dtypes: datetime64[ns](1), float64(2), int64(3), object(6)\n",
      "memory usage: 86.6+ MB\n"
     ]
    }
   ],
=======
   "execution_count": null,
   "metadata": {},
   "outputs": [],
>>>>>>> 757b49a (EDA updated with ICICI index)
   "source": [
    "red_data = pd.read_csv(\"data\\MF_Model_base.csv\",\n",
    "                 parse_dates= {\"date\" : [\"Year\",\"Month\"]})\n",
    "red_data.info()"
>>>>>>> ef51da1 (eda requirements added)
   ]
  },
  {
   "cell_type": "code",
<<<<<<< HEAD
   "execution_count": 184,
   "metadata": {},
   "outputs": [
    {
     "data": {
      "text/plain": [
       "Index(['date', 'Customer ID', 'Txn. Type', 'Close'], dtype='object')"
      ]
     },
     "execution_count": 184,
     "metadata": {},
     "output_type": "execute_result"
    }
   ],
   "source": [
    "redeem_data = redeem_data[['date',\"Customer ID\",'Txn. Type',]]\n",
    "index_data = index_data[['Date','Close']]\n",
    "index_data.rename(columns={\"Date\":\"date\"},inplace=True)\n",
    "df_raw = pd.merge(redeem_data,index_data, how = 'inner', left_on= \"date\", right_on=\"date\")\n",
    "df_raw.columns"
   ]
  },
  {
   "cell_type": "code",
<<<<<<< HEAD
<<<<<<< HEAD
   "execution_count": 185,
=======
=======
>>>>>>> e11c55d (EDA updated with ICICI index)
   "execution_count": 24,
=======
   "execution_count": 22,
>>>>>>> 757b49a (EDA updated with ICICI index)
   "metadata": {},
   "outputs": [
    {
     "name": "stderr",
     "output_type": "stream",
     "text": [
<<<<<<< HEAD
      "Exception in thread Thread-53:\n",
      "Traceback (most recent call last):\n",
      "  File \"c:\\Users\\arunk\\Finance_project\\env\\lib\\site-packages\\nsepy\\urls.py\", line 42, in get_symbol_count\n",
      "    return symbol_count[symbol]\n",
      "KeyError: 'niftyfin'\n",
      "\n",
      "During handling of the above exception, another exception occurred:\n",
      "\n",
      "Traceback (most recent call last):\n",
      "  File \"c:\\Users\\arunk\\Finance_project\\env\\lib\\threading.py\", line 980, in _bootstrap_inner\n",
      "Exception in thread Thread-77:\n",
      "Traceback (most recent call last):\n",
      "  File \"c:\\Users\\arunk\\Finance_project\\env\\lib\\site-packages\\nsepy\\urls.py\", line 42, in get_symbol_count\n",
      "    self.run()\n",
      "  File \"c:\\Users\\arunk\\Finance_project\\env\\lib\\site-packages\\nsepy\\commons.py\", line 132, in run\n",
      "    return symbol_count[symbol]\n",
      "KeyError: 'niftyfin'\n",
      "\n",
      "During handling of the above exception, another exception occurred:\n",
      "\n",
      "Traceback (most recent call last):\n",
      "  File \"c:\\Users\\arunk\\Finance_project\\env\\lib\\threading.py\", line 980, in _bootstrap_inner\n",
      "    self.result = self._target(*self._args, **self._kwargs)\n",
      "  File \"c:\\Users\\arunk\\Finance_project\\env\\lib\\site-packages\\nsepy\\history.py\", line 138, in get_history\n",
      "    self.run()\n",
      "  File \"c:\\Users\\arunk\\Finance_project\\env\\lib\\site-packages\\nsepy\\commons.py\", line 132, in run\n",
      "    self.result = self._target(*self._args, **self._kwargs)\n",
      "  File \"c:\\Users\\arunk\\Finance_project\\env\\lib\\site-packages\\nsepy\\history.py\", line 138, in get_history\n",
      "    return get_history_quanta(**kwargs)\n",
      "  File \"c:\\Users\\arunk\\Finance_project\\env\\lib\\site-packages\\nsepy\\history.py\", line 142, in get_history_quanta\n",
      "    return get_history_quanta(**kwargs)\n",
      "  File \"c:\\Users\\arunk\\Finance_project\\env\\lib\\site-packages\\nsepy\\history.py\", line 142, in get_history_quanta\n",
      "    url, params, schema, headers, scaling = validate_params(**kwargs)\n",
      "  File \"c:\\Users\\arunk\\Finance_project\\env\\lib\\site-packages\\nsepy\\history.py\", line 254, in validate_params\n",
      "    url, params, schema, headers, scaling = validate_params(**kwargs)\n",
      "  File \"c:\\Users\\arunk\\Finance_project\\env\\lib\\site-packages\\nsepy\\history.py\", line 254, in validate_params\n",
      "    params['symbolCount'] = get_symbol_count(symbol)\n",
      "  File \"c:\\Users\\arunk\\Finance_project\\env\\lib\\site-packages\\nsepy\\urls.py\", line 44, in get_symbol_count\n",
      "    cnt = symbol_count_url(symbol=symbol).text.lstrip().rstrip()\n",
      "  File \"c:\\Users\\arunk\\Finance_project\\env\\lib\\site-packages\\nsepy\\commons.py\", line 167, in __call__\n",
      "    return self.session.get(url, params=kwargs, proxies = self.proxy )\n",
      "  File \"c:\\Users\\arunk\\Finance_project\\env\\lib\\site-packages\\requests\\sessions.py\", line 600, in get\n",
      "    return self.request(\"GET\", url, **kwargs)\n",
      "  File \"c:\\Users\\arunk\\Finance_project\\env\\lib\\site-packages\\requests\\sessions.py\", line 587, in request\n",
      "    params['symbolCount'] = get_symbol_count(symbol)\n",
      "  File \"c:\\Users\\arunk\\Finance_project\\env\\lib\\site-packages\\nsepy\\urls.py\", line 44, in get_symbol_count\n",
      "    resp = self.send(prep, **send_kwargs)\n",
      "  File \"c:\\Users\\arunk\\Finance_project\\env\\lib\\site-packages\\requests\\sessions.py\", line 723, in send\n",
      "    cnt = symbol_count_url(symbol=symbol).text.lstrip().rstrip()\n",
      "  File \"c:\\Users\\arunk\\Finance_project\\env\\lib\\site-packages\\nsepy\\commons.py\", line 167, in __call__\n",
      "    return self.session.get(url, params=kwargs, proxies = self.proxy )\n",
      "  File \"c:\\Users\\arunk\\Finance_project\\env\\lib\\site-packages\\requests\\sessions.py\", line 600, in get\n",
      "    return self.request(\"GET\", url, **kwargs)\n",
      "  File \"c:\\Users\\arunk\\Finance_project\\env\\lib\\site-packages\\requests\\sessions.py\", line 587, in request\n",
      "    history = [resp for resp in gen]\n",
      "  File \"c:\\Users\\arunk\\Finance_project\\env\\lib\\site-packages\\requests\\sessions.py\", line 723, in <listcomp>\n",
      "    resp = self.send(prep, **send_kwargs)\n",
      "  File \"c:\\Users\\arunk\\Finance_project\\env\\lib\\site-packages\\requests\\sessions.py\", line 723, in send\n",
      "    history = [resp for resp in gen]\n",
      "  File \"c:\\Users\\arunk\\Finance_project\\env\\lib\\site-packages\\requests\\sessions.py\", line 191, in resolve_redirects\n",
      "Exception in thread Thread-55:\n",
      "Traceback (most recent call last):\n",
      "  File \"c:\\Users\\arunk\\Finance_project\\env\\lib\\site-packages\\nsepy\\urls.py\", line 42, in get_symbol_count\n",
      "    history = [resp for resp in gen]\n",
      "  File \"c:\\Users\\arunk\\Finance_project\\env\\lib\\site-packages\\requests\\sessions.py\", line 723, in <listcomp>\n",
      "    history = [resp for resp in gen]\n",
      "  File \"c:\\Users\\arunk\\Finance_project\\env\\lib\\site-packages\\requests\\sessions.py\", line 191, in resolve_redirects\n",
      "    raise TooManyRedirects(\n",
      "requests.exceptions.TooManyRedirects: Exceeded 30 redirects.\n",
      "Exception in thread Thread-67:\n",
      "Traceback (most recent call last):\n",
      "  File \"c:\\Users\\arunk\\Finance_project\\env\\lib\\site-packages\\nsepy\\urls.py\", line 42, in get_symbol_count\n",
      "    raise TooManyRedirects(\n",
      "requests.exceptions.TooManyRedirects: Exceeded 30 redirects.\n",
      "    return symbol_count[symbol]\n",
      "KeyError: 'niftyfin'\n",
      "\n",
      "During handling of the above exception, another exception occurred:\n",
      "\n",
      "Traceback (most recent call last):\n",
      "  File \"c:\\Users\\arunk\\Finance_project\\env\\lib\\threading.py\", line 980, in _bootstrap_inner\n",
      "    return symbol_count[symbol]\n",
      "KeyError: 'niftyfin'\n",
      "\n",
      "During handling of the above exception, another exception occurred:\n",
      "\n",
      "Traceback (most recent call last):\n",
      "  File \"c:\\Users\\arunk\\Finance_project\\env\\lib\\threading.py\", line 980, in _bootstrap_inner\n",
      "    self.run()\n",
      "  File \"c:\\Users\\arunk\\Finance_project\\env\\lib\\site-packages\\nsepy\\commons.py\", line 132, in run\n",
      "    self.result = self._target(*self._args, **self._kwargs)\n",
      "  File \"c:\\Users\\arunk\\Finance_project\\env\\lib\\site-packages\\nsepy\\history.py\", line 138, in get_history\n",
      "    self.run()\n",
      "  File \"c:\\Users\\arunk\\Finance_project\\env\\lib\\site-packages\\nsepy\\commons.py\", line 132, in run\n",
      "    return get_history_quanta(**kwargs)\n",
      "  File \"c:\\Users\\arunk\\Finance_project\\env\\lib\\site-packages\\nsepy\\history.py\", line 142, in get_history_quanta\n",
      "Exception in thread Thread-71:\n",
      "Traceback (most recent call last):\n",
      "  File \"c:\\Users\\arunk\\Finance_project\\env\\lib\\site-packages\\nsepy\\urls.py\", line 42, in get_symbol_count\n",
      "    self.result = self._target(*self._args, **self._kwargs)\n",
      "  File \"c:\\Users\\arunk\\Finance_project\\env\\lib\\site-packages\\nsepy\\history.py\", line 138, in get_history\n",
      "    return symbol_count[symbol]\n",
      "KeyError: 'niftyfin'\n",
      "\n",
      "During handling of the above exception, another exception occurred:\n",
      "\n",
      "Traceback (most recent call last):\n",
      "  File \"c:\\Users\\arunk\\Finance_project\\env\\lib\\threading.py\", line 980, in _bootstrap_inner\n",
      "    url, params, schema, headers, scaling = validate_params(**kwargs)\n",
      "  File \"c:\\Users\\arunk\\Finance_project\\env\\lib\\site-packages\\nsepy\\history.py\", line 254, in validate_params\n",
      "    params['symbolCount'] = get_symbol_count(symbol)\n",
      "  File \"c:\\Users\\arunk\\Finance_project\\env\\lib\\site-packages\\nsepy\\urls.py\", line 44, in get_symbol_count\n",
      "    self.run()\n",
      "  File \"c:\\Users\\arunk\\Finance_project\\env\\lib\\site-packages\\nsepy\\commons.py\", line 132, in run\n",
      "    return get_history_quanta(**kwargs)\n",
      "  File \"c:\\Users\\arunk\\Finance_project\\env\\lib\\site-packages\\nsepy\\history.py\", line 142, in get_history_quanta\n",
      "    cnt = symbol_count_url(symbol=symbol).text.lstrip().rstrip()\n",
      "  File \"c:\\Users\\arunk\\Finance_project\\env\\lib\\site-packages\\nsepy\\commons.py\", line 167, in __call__\n",
      "    url, params, schema, headers, scaling = validate_params(**kwargs)\n",
      "  File \"c:\\Users\\arunk\\Finance_project\\env\\lib\\site-packages\\nsepy\\history.py\", line 254, in validate_params\n",
      "    self.result = self._target(*self._args, **self._kwargs)\n",
      "  File \"c:\\Users\\arunk\\Finance_project\\env\\lib\\site-packages\\nsepy\\history.py\", line 138, in get_history\n",
      "    params['symbolCount'] = get_symbol_count(symbol)\n",
      "  File \"c:\\Users\\arunk\\Finance_project\\env\\lib\\site-packages\\nsepy\\urls.py\", line 44, in get_symbol_count\n",
      "    return get_history_quanta(**kwargs)\n",
      "  File \"c:\\Users\\arunk\\Finance_project\\env\\lib\\site-packages\\nsepy\\history.py\", line 142, in get_history_quanta\n",
      "    return self.session.get(url, params=kwargs, proxies = self.proxy )\n",
      "  File \"c:\\Users\\arunk\\Finance_project\\env\\lib\\site-packages\\requests\\sessions.py\", line 600, in get\n",
      "    cnt = symbol_count_url(symbol=symbol).text.lstrip().rstrip()\n",
      "  File \"c:\\Users\\arunk\\Finance_project\\env\\lib\\site-packages\\nsepy\\commons.py\", line 167, in __call__\n",
      "    url, params, schema, headers, scaling = validate_params(**kwargs)\n",
      "  File \"c:\\Users\\arunk\\Finance_project\\env\\lib\\site-packages\\nsepy\\history.py\", line 254, in validate_params\n",
      "    return self.session.get(url, params=kwargs, proxies = self.proxy )\n",
      "  File \"c:\\Users\\arunk\\Finance_project\\env\\lib\\site-packages\\requests\\sessions.py\", line 600, in get\n",
      "    return self.request(\"GET\", url, **kwargs)\n",
      "  File \"c:\\Users\\arunk\\Finance_project\\env\\lib\\site-packages\\requests\\sessions.py\", line 587, in request\n",
      "    return self.request(\"GET\", url, **kwargs)\n",
      "  File \"c:\\Users\\arunk\\Finance_project\\env\\lib\\site-packages\\requests\\sessions.py\", line 587, in request\n",
      "Exception in thread Thread-57:\n",
      "Traceback (most recent call last):\n",
      "  File \"c:\\Users\\arunk\\Finance_project\\env\\lib\\site-packages\\nsepy\\urls.py\", line 42, in get_symbol_count\n",
      "    return symbol_count[symbol]\n",
      "KeyError: 'niftyfin'\n",
      "\n",
      "During handling of the above exception, another exception occurred:\n",
      "\n",
      "Traceback (most recent call last):\n",
      "  File \"c:\\Users\\arunk\\Finance_project\\env\\lib\\threading.py\", line 980, in _bootstrap_inner\n",
      "    resp = self.send(prep, **send_kwargs)\n",
      "  File \"c:\\Users\\arunk\\Finance_project\\env\\lib\\site-packages\\requests\\sessions.py\", line 723, in send\n",
      "    resp = self.send(prep, **send_kwargs)\n",
      "  File \"c:\\Users\\arunk\\Finance_project\\env\\lib\\site-packages\\requests\\sessions.py\", line 723, in send\n",
      "Exception in thread Thread-59:\n",
      "Traceback (most recent call last):\n",
      "  File \"c:\\Users\\arunk\\Finance_project\\env\\lib\\site-packages\\nsepy\\urls.py\", line 42, in get_symbol_count\n",
      "    params['symbolCount'] = get_symbol_count(symbol)\n",
      "  File \"c:\\Users\\arunk\\Finance_project\\env\\lib\\site-packages\\nsepy\\urls.py\", line 44, in get_symbol_count\n",
      "    history = [resp for resp in gen]\n",
      "  File \"c:\\Users\\arunk\\Finance_project\\env\\lib\\site-packages\\requests\\sessions.py\", line 723, in <listcomp>\n",
      "    self.run()\n",
      "  File \"c:\\Users\\arunk\\Finance_project\\env\\lib\\site-packages\\nsepy\\commons.py\", line 132, in run\n",
      "    cnt = symbol_count_url(symbol=symbol).text.lstrip().rstrip()\n",
      "  File \"c:\\Users\\arunk\\Finance_project\\env\\lib\\site-packages\\nsepy\\commons.py\", line 167, in __call__\n",
      "    return symbol_count[symbol]\n",
      "KeyError: 'niftyfin'\n",
      "\n",
      "During handling of the above exception, another exception occurred:\n",
      "\n",
      "Traceback (most recent call last):\n",
      "  File \"c:\\Users\\arunk\\Finance_project\\env\\lib\\threading.py\", line 980, in _bootstrap_inner\n",
      "    history = [resp for resp in gen]\n",
      "  File \"c:\\Users\\arunk\\Finance_project\\env\\lib\\site-packages\\requests\\sessions.py\", line 723, in <listcomp>\n",
      "    history = [resp for resp in gen]\n",
      "  File \"c:\\Users\\arunk\\Finance_project\\env\\lib\\site-packages\\requests\\sessions.py\", line 191, in resolve_redirects\n",
      "    return self.session.get(url, params=kwargs, proxies = self.proxy )\n",
      "  File \"c:\\Users\\arunk\\Finance_project\\env\\lib\\site-packages\\requests\\sessions.py\", line 600, in get\n",
      "        return self.request(\"GET\", url, **kwargs)\n",
      "  File \"c:\\Users\\arunk\\Finance_project\\env\\lib\\site-packages\\requests\\sessions.py\", line 587, in request\n",
      "history = [resp for resp in gen]\n",
      "  File \"c:\\Users\\arunk\\Finance_project\\env\\lib\\site-packages\\requests\\sessions.py\", line 191, in resolve_redirects\n",
      "    raise TooManyRedirects(\n",
      "requests.exceptions.TooManyRedirects: Exceeded 30 redirects.\n",
      "    self.result = self._target(*self._args, **self._kwargs)\n",
      "  File \"c:\\Users\\arunk\\Finance_project\\env\\lib\\site-packages\\nsepy\\history.py\", line 138, in get_history\n",
      "    resp = self.send(prep, **send_kwargs)\n",
      "  File \"c:\\Users\\arunk\\Finance_project\\env\\lib\\site-packages\\requests\\sessions.py\", line 723, in send\n",
      "    raise TooManyRedirects(\n",
      "requests.exceptions.TooManyRedirects: Exceeded 30 redirects.\n",
      "    return get_history_quanta(**kwargs)\n",
      "  File \"c:\\Users\\arunk\\Finance_project\\env\\lib\\site-packages\\nsepy\\history.py\", line 142, in get_history_quanta\n",
      "    self.run()\n",
      "  File \"c:\\Users\\arunk\\Finance_project\\env\\lib\\site-packages\\nsepy\\commons.py\", line 132, in run\n",
      "    self.result = self._target(*self._args, **self._kwargs)\n",
      "  File \"c:\\Users\\arunk\\Finance_project\\env\\lib\\site-packages\\nsepy\\history.py\", line 138, in get_history\n",
      "Exception in thread Thread-61:\n",
      "Traceback (most recent call last):\n",
      "  File \"c:\\Users\\arunk\\Finance_project\\env\\lib\\site-packages\\nsepy\\urls.py\", line 42, in get_symbol_count\n",
      "    url, params, schema, headers, scaling = validate_params(**kwargs)\n",
      "  File \"c:\\Users\\arunk\\Finance_project\\env\\lib\\site-packages\\nsepy\\history.py\", line 254, in validate_params\n",
      "    history = [resp for resp in gen]\n",
      "  File \"c:\\Users\\arunk\\Finance_project\\env\\lib\\site-packages\\requests\\sessions.py\", line 723, in <listcomp>\n",
      "    params['symbolCount'] = get_symbol_count(symbol)\n",
      "  File \"c:\\Users\\arunk\\Finance_project\\env\\lib\\site-packages\\nsepy\\urls.py\", line 44, in get_symbol_count\n",
      "    cnt = symbol_count_url(symbol=symbol).text.lstrip().rstrip()\n",
      "  File \"c:\\Users\\arunk\\Finance_project\\env\\lib\\site-packages\\nsepy\\commons.py\", line 167, in __call__\n",
      "    return get_history_quanta(**kwargs)\n",
      "  File \"c:\\Users\\arunk\\Finance_project\\env\\lib\\site-packages\\nsepy\\history.py\", line 142, in get_history_quanta\n",
      "    return symbol_count[symbol]\n",
      "KeyError: 'niftyfin'\n",
      "\n",
      "During handling of the above exception, another exception occurred:\n",
      "\n",
      "Traceback (most recent call last):\n",
      "  File \"c:\\Users\\arunk\\Finance_project\\env\\lib\\threading.py\", line 980, in _bootstrap_inner\n",
      "    history = [resp for resp in gen]\n",
      "  File \"c:\\Users\\arunk\\Finance_project\\env\\lib\\site-packages\\requests\\sessions.py\", line 191, in resolve_redirects\n",
      "    raise TooManyRedirects(\n",
      "requests.exceptions.TooManyRedirects: Exceeded 30 redirects.\n",
      "Exception in thread Thread-63:\n",
      "Traceback (most recent call last):\n",
      "  File \"c:\\Users\\arunk\\Finance_project\\env\\lib\\site-packages\\nsepy\\urls.py\", line 42, in get_symbol_count\n",
      "Exception in thread Thread-85:\n",
      "Traceback (most recent call last):\n",
      "  File \"c:\\Users\\arunk\\Finance_project\\env\\lib\\site-packages\\nsepy\\urls.py\", line 42, in get_symbol_count\n",
      "    url, params, schema, headers, scaling = validate_params(**kwargs)\n",
      "  File \"c:\\Users\\arunk\\Finance_project\\env\\lib\\site-packages\\nsepy\\history.py\", line 254, in validate_params\n",
      "    return self.session.get(url, params=kwargs, proxies = self.proxy )\n",
      "  File \"c:\\Users\\arunk\\Finance_project\\env\\lib\\site-packages\\requests\\sessions.py\", line 600, in get\n",
      "    return symbol_count[symbol]\n",
      "KeyError: 'niftyfin'\n",
      "\n",
      "During handling of the above exception, another exception occurred:\n",
      "\n",
      "Traceback (most recent call last):\n",
      "  File \"c:\\Users\\arunk\\Finance_project\\env\\lib\\threading.py\", line 980, in _bootstrap_inner\n",
      "    self.run()\n",
      "  File \"c:\\Users\\arunk\\Finance_project\\env\\lib\\site-packages\\nsepy\\commons.py\", line 132, in run\n",
      "Exception in thread Thread-87:\n",
      "Traceback (most recent call last):\n",
      "  File \"c:\\Users\\arunk\\Finance_project\\env\\lib\\site-packages\\nsepy\\urls.py\", line 42, in get_symbol_count\n",
      "    return symbol_count[symbol]\n",
      "KeyError: 'niftyfin'\n",
      "\n",
      "During handling of the above exception, another exception occurred:\n",
      "\n",
      "Traceback (most recent call last):\n",
      "  File \"c:\\Users\\arunk\\Finance_project\\env\\lib\\threading.py\", line 980, in _bootstrap_inner\n",
      "    self.result = self._target(*self._args, **self._kwargs)\n",
      "  File \"c:\\Users\\arunk\\Finance_project\\env\\lib\\site-packages\\nsepy\\history.py\", line 138, in get_history\n",
      "    return self.request(\"GET\", url, **kwargs)\n",
      "  File \"c:\\Users\\arunk\\Finance_project\\env\\lib\\site-packages\\requests\\sessions.py\", line 587, in request\n",
      "    return symbol_count[symbol]\n",
      "KeyError: 'niftyfin'\n",
      "\n",
      "During handling of the above exception, another exception occurred:\n",
      "\n",
      "Traceback (most recent call last):\n",
      "  File \"c:\\Users\\arunk\\Finance_project\\env\\lib\\threading.py\", line 980, in _bootstrap_inner\n",
      "Exception in thread Thread-89:\n",
      "Traceback (most recent call last):\n",
      "  File \"c:\\Users\\arunk\\Finance_project\\env\\lib\\site-packages\\nsepy\\urls.py\", line 42, in get_symbol_count\n",
      "    self.run()\n",
      "  File \"c:\\Users\\arunk\\Finance_project\\env\\lib\\site-packages\\nsepy\\commons.py\", line 132, in run\n",
      "    return get_history_quanta(**kwargs)\n",
      "  File \"c:\\Users\\arunk\\Finance_project\\env\\lib\\site-packages\\nsepy\\history.py\", line 142, in get_history_quanta\n",
      "    url, params, schema, headers, scaling = validate_params(**kwargs)\n",
      "  File \"c:\\Users\\arunk\\Finance_project\\env\\lib\\site-packages\\nsepy\\history.py\", line 254, in validate_params\n",
      "    resp = self.send(prep, **send_kwargs)\n",
      "  File \"c:\\Users\\arunk\\Finance_project\\env\\lib\\site-packages\\requests\\sessions.py\", line 723, in send\n",
      "    params['symbolCount'] = get_symbol_count(symbol)\n",
      "  File \"c:\\Users\\arunk\\Finance_project\\env\\lib\\site-packages\\nsepy\\urls.py\", line 44, in get_symbol_count\n",
      "    self.run()\n",
      "  File \"c:\\Users\\arunk\\Finance_project\\env\\lib\\site-packages\\nsepy\\commons.py\", line 132, in run\n",
      "    self.run()\n",
      "  File \"c:\\Users\\arunk\\Finance_project\\env\\lib\\site-packages\\nsepy\\commons.py\", line 132, in run\n",
      "    return symbol_count[symbol]\n",
      "KeyError: 'niftyfin'\n",
      "\n",
      "During handling of the above exception, another exception occurred:\n",
      "\n",
      "Traceback (most recent call last):\n",
      "  File \"c:\\Users\\arunk\\Finance_project\\env\\lib\\threading.py\", line 980, in _bootstrap_inner\n",
      "    history = [resp for resp in gen]\n",
      "  File \"c:\\Users\\arunk\\Finance_project\\env\\lib\\site-packages\\requests\\sessions.py\", line 723, in <listcomp>\n",
      "    params['symbolCount'] = get_symbol_count(symbol)\n",
      "  File \"c:\\Users\\arunk\\Finance_project\\env\\lib\\site-packages\\nsepy\\urls.py\", line 44, in get_symbol_count\n",
      "    self.result = self._target(*self._args, **self._kwargs)\n",
      "  File \"c:\\Users\\arunk\\Finance_project\\env\\lib\\site-packages\\nsepy\\history.py\", line 138, in get_history\n",
      "    cnt = symbol_count_url(symbol=symbol).text.lstrip().rstrip()\n",
      "  File \"c:\\Users\\arunk\\Finance_project\\env\\lib\\site-packages\\nsepy\\commons.py\", line 167, in __call__\n",
      "    self.result = self._target(*self._args, **self._kwargs)\n",
      "  File \"c:\\Users\\arunk\\Finance_project\\env\\lib\\site-packages\\nsepy\\history.py\", line 138, in get_history\n",
      "    history = [resp for resp in gen]\n",
      "  File \"c:\\Users\\arunk\\Finance_project\\env\\lib\\site-packages\\requests\\sessions.py\", line 191, in resolve_redirects\n",
      "    return get_history_quanta(**kwargs)\n",
      "  File \"c:\\Users\\arunk\\Finance_project\\env\\lib\\site-packages\\nsepy\\history.py\", line 142, in get_history_quanta\n",
      "    cnt = symbol_count_url(symbol=symbol).text.lstrip().rstrip()\n",
      "  File \"c:\\Users\\arunk\\Finance_project\\env\\lib\\site-packages\\nsepy\\commons.py\", line 167, in __call__\n",
      "    url, params, schema, headers, scaling = validate_params(**kwargs)\n",
      "  File \"c:\\Users\\arunk\\Finance_project\\env\\lib\\site-packages\\nsepy\\history.py\", line 254, in validate_params\n",
      "    self.run()\n",
      "  File \"c:\\Users\\arunk\\Finance_project\\env\\lib\\site-packages\\nsepy\\commons.py\", line 132, in run\n",
      "    return get_history_quanta(**kwargs)\n",
      "  File \"c:\\Users\\arunk\\Finance_project\\env\\lib\\site-packages\\nsepy\\history.py\", line 142, in get_history_quanta\n",
      "    return self.session.get(url, params=kwargs, proxies = self.proxy )\n",
      "  File \"c:\\Users\\arunk\\Finance_project\\env\\lib\\site-packages\\requests\\sessions.py\", line 600, in get\n",
      "Exception in thread Thread-65:\n",
      "Traceback (most recent call last):\n",
      "  File \"c:\\Users\\arunk\\Finance_project\\env\\lib\\site-packages\\nsepy\\urls.py\", line 42, in get_symbol_count\n",
      "    self.result = self._target(*self._args, **self._kwargs)\n",
      "  File \"c:\\Users\\arunk\\Finance_project\\env\\lib\\site-packages\\nsepy\\history.py\", line 138, in get_history\n",
      "    return self.session.get(url, params=kwargs, proxies = self.proxy )\n",
      "  File \"c:\\Users\\arunk\\Finance_project\\env\\lib\\site-packages\\requests\\sessions.py\", line 600, in get\n",
      "    params['symbolCount'] = get_symbol_count(symbol)\n",
      "  File \"c:\\Users\\arunk\\Finance_project\\env\\lib\\site-packages\\nsepy\\urls.py\", line 44, in get_symbol_count\n",
      "    return get_history_quanta(**kwargs)\n",
      "  File \"c:\\Users\\arunk\\Finance_project\\env\\lib\\site-packages\\nsepy\\history.py\", line 142, in get_history_quanta\n",
      "    raise TooManyRedirects(\n",
      "requests.exceptions.TooManyRedirects: Exceeded 30 redirects.\n",
      "    url, params, schema, headers, scaling = validate_params(**kwargs)\n",
      "  File \"c:\\Users\\arunk\\Finance_project\\env\\lib\\site-packages\\nsepy\\history.py\", line 254, in validate_params\n",
      "    return symbol_count[symbol]\n",
      "KeyError: 'niftyfin'\n",
      "\n",
      "During handling of the above exception, another exception occurred:\n",
      "\n",
      "Traceback (most recent call last):\n",
      "  File \"c:\\Users\\arunk\\Finance_project\\env\\lib\\threading.py\", line 980, in _bootstrap_inner\n",
      "    self.result = self._target(*self._args, **self._kwargs)\n",
      "  File \"c:\\Users\\arunk\\Finance_project\\env\\lib\\site-packages\\nsepy\\history.py\", line 138, in get_history\n",
      "        cnt = symbol_count_url(symbol=symbol).text.lstrip().rstrip()\n",
      "  File \"c:\\Users\\arunk\\Finance_project\\env\\lib\\site-packages\\nsepy\\commons.py\", line 167, in __call__\n",
      "url, params, schema, headers, scaling = validate_params(**kwargs)\n",
      "  File \"c:\\Users\\arunk\\Finance_project\\env\\lib\\site-packages\\nsepy\\history.py\", line 254, in validate_params\n",
      "    self.run()\n",
      "  File \"c:\\Users\\arunk\\Finance_project\\env\\lib\\site-packages\\nsepy\\commons.py\", line 132, in run\n",
      "    return self.request(\"GET\", url, **kwargs)\n",
      "  File \"c:\\Users\\arunk\\Finance_project\\env\\lib\\site-packages\\requests\\sessions.py\", line 587, in request\n",
      "    params['symbolCount'] = get_symbol_count(symbol)\n",
      "  File \"c:\\Users\\arunk\\Finance_project\\env\\lib\\site-packages\\nsepy\\urls.py\", line 44, in get_symbol_count\n",
      "    return self.session.get(url, params=kwargs, proxies = self.proxy )\n",
      "  File \"c:\\Users\\arunk\\Finance_project\\env\\lib\\site-packages\\requests\\sessions.py\", line 600, in get\n",
      "    return get_history_quanta(**kwargs)\n",
      "  File \"c:\\Users\\arunk\\Finance_project\\env\\lib\\site-packages\\nsepy\\history.py\", line 142, in get_history_quanta\n",
      "    return self.request(\"GET\", url, **kwargs)\n",
      "  File \"c:\\Users\\arunk\\Finance_project\\env\\lib\\site-packages\\requests\\sessions.py\", line 587, in request\n",
      "    self.result = self._target(*self._args, **self._kwargs)\n",
      "  File \"c:\\Users\\arunk\\Finance_project\\env\\lib\\site-packages\\nsepy\\history.py\", line 138, in get_history\n",
      "    cnt = symbol_count_url(symbol=symbol).text.lstrip().rstrip()\n",
      "  File \"c:\\Users\\arunk\\Finance_project\\env\\lib\\site-packages\\nsepy\\commons.py\", line 167, in __call__\n",
      "    params['symbolCount'] = get_symbol_count(symbol)\n",
      "  File \"c:\\Users\\arunk\\Finance_project\\env\\lib\\site-packages\\nsepy\\urls.py\", line 44, in get_symbol_count\n",
      "    resp = self.send(prep, **send_kwargs)\n",
      "  File \"c:\\Users\\arunk\\Finance_project\\env\\lib\\site-packages\\requests\\sessions.py\", line 723, in send\n",
      "    resp = self.send(prep, **send_kwargs)\n",
      "  File \"c:\\Users\\arunk\\Finance_project\\env\\lib\\site-packages\\requests\\sessions.py\", line 723, in send\n",
      "    cnt = symbol_count_url(symbol=symbol).text.lstrip().rstrip()\n",
      "  File \"c:\\Users\\arunk\\Finance_project\\env\\lib\\site-packages\\nsepy\\commons.py\", line 167, in __call__\n",
      "    history = [resp for resp in gen]\n",
      "  File \"c:\\Users\\arunk\\Finance_project\\env\\lib\\site-packages\\requests\\sessions.py\", line 723, in <listcomp>\n",
      "    return self.session.get(url, params=kwargs, proxies = self.proxy )\n",
      "  File \"c:\\Users\\arunk\\Finance_project\\env\\lib\\site-packages\\requests\\sessions.py\", line 600, in get\n",
      "    return self.request(\"GET\", url, **kwargs)\n",
      "  File \"c:\\Users\\arunk\\Finance_project\\env\\lib\\site-packages\\requests\\sessions.py\", line 587, in request\n",
      "    url, params, schema, headers, scaling = validate_params(**kwargs)\n",
      "  File \"c:\\Users\\arunk\\Finance_project\\env\\lib\\site-packages\\nsepy\\history.py\", line 254, in validate_params\n",
      "    history = [resp for resp in gen]\n",
      "  File \"c:\\Users\\arunk\\Finance_project\\env\\lib\\site-packages\\requests\\sessions.py\", line 191, in resolve_redirects\n",
      "    history = [resp for resp in gen]\n",
      "  File \"c:\\Users\\arunk\\Finance_project\\env\\lib\\site-packages\\requests\\sessions.py\", line 723, in <listcomp>\n",
      "    params['symbolCount'] = get_symbol_count(symbol)\n",
      "  File \"c:\\Users\\arunk\\Finance_project\\env\\lib\\site-packages\\nsepy\\urls.py\", line 44, in get_symbol_count\n",
      "    return self.session.get(url, params=kwargs, proxies = self.proxy )\n",
      "  File \"c:\\Users\\arunk\\Finance_project\\env\\lib\\site-packages\\requests\\sessions.py\", line 600, in get\n",
      "    raise TooManyRedirects(\n",
      "requests.exceptions.TooManyRedirects: Exceeded 30 redirects.\n",
      "    return self.request(\"GET\", url, **kwargs)\n",
      "  File \"c:\\Users\\arunk\\Finance_project\\env\\lib\\site-packages\\requests\\sessions.py\", line 587, in request\n",
      "    return get_history_quanta(**kwargs)\n",
      "  File \"c:\\Users\\arunk\\Finance_project\\env\\lib\\site-packages\\nsepy\\history.py\", line 142, in get_history_quanta\n",
      "Exception in thread Thread-79:\n",
      "Traceback (most recent call last):\n",
      "  File \"c:\\Users\\arunk\\Finance_project\\env\\lib\\site-packages\\nsepy\\urls.py\", line 42, in get_symbol_count\n",
      "    cnt = symbol_count_url(symbol=symbol).text.lstrip().rstrip()\n",
      "  File \"c:\\Users\\arunk\\Finance_project\\env\\lib\\site-packages\\nsepy\\commons.py\", line 167, in __call__\n",
      "    return self.session.get(url, params=kwargs, proxies = self.proxy )\n",
      "  File \"c:\\Users\\arunk\\Finance_project\\env\\lib\\site-packages\\requests\\sessions.py\", line 600, in get\n",
      "    resp = self.send(prep, **send_kwargs)\n",
      "  File \"c:\\Users\\arunk\\Finance_project\\env\\lib\\site-packages\\requests\\sessions.py\", line 723, in send\n",
      "Exception in thread Thread-91:\n",
      "Traceback (most recent call last):\n",
      "  File \"c:\\Users\\arunk\\Finance_project\\env\\lib\\site-packages\\nsepy\\urls.py\", line 42, in get_symbol_count\n",
      "    history = [resp for resp in gen]\n",
      "  File \"c:\\Users\\arunk\\Finance_project\\env\\lib\\site-packages\\requests\\sessions.py\", line 191, in resolve_redirects\n",
      "    return symbol_count[symbol]\n",
      "KeyError: 'niftyfin'\n",
      "\n",
      "During handling of the above exception, another exception occurred:\n",
      "\n",
      "Traceback (most recent call last):\n",
      "  File \"c:\\Users\\arunk\\Finance_project\\env\\lib\\threading.py\", line 980, in _bootstrap_inner\n",
      "    return self.request(\"GET\", url, **kwargs)\n",
      "  File \"c:\\Users\\arunk\\Finance_project\\env\\lib\\site-packages\\requests\\sessions.py\", line 587, in request\n",
      "Exception in thread Thread-81:\n",
      "Traceback (most recent call last):\n",
      "  File \"c:\\Users\\arunk\\Finance_project\\env\\lib\\site-packages\\nsepy\\urls.py\", line 42, in get_symbol_count\n",
      "    history = [resp for resp in gen]\n",
      "  File \"c:\\Users\\arunk\\Finance_project\\env\\lib\\site-packages\\requests\\sessions.py\", line 723, in <listcomp>\n",
      "    resp = self.send(prep, **send_kwargs)\n",
      "  File \"c:\\Users\\arunk\\Finance_project\\env\\lib\\site-packages\\requests\\sessions.py\", line 723, in send\n",
      "    return self.request(\"GET\", url, **kwargs)\n",
      "  File \"c:\\Users\\arunk\\Finance_project\\env\\lib\\site-packages\\requests\\sessions.py\", line 587, in request\n",
      "    resp = self.send(prep, **send_kwargs)\n",
      "  File \"c:\\Users\\arunk\\Finance_project\\env\\lib\\site-packages\\requests\\sessions.py\", line 723, in send\n",
      "    history = [resp for resp in gen]\n",
      "  File \"c:\\Users\\arunk\\Finance_project\\env\\lib\\site-packages\\requests\\sessions.py\", line 723, in <listcomp>\n",
      "    return symbol_count[symbol]\n",
      "KeyError: 'niftyfin'\n",
      "\n",
      "During handling of the above exception, another exception occurred:\n",
      "\n",
      "Traceback (most recent call last):\n",
      "  File \"c:\\Users\\arunk\\Finance_project\\env\\lib\\threading.py\", line 980, in _bootstrap_inner\n",
      "    return symbol_count[symbol]\n",
      "KeyError: 'niftyfin'\n",
      "\n",
      "During handling of the above exception, another exception occurred:\n",
      "\n",
      "Traceback (most recent call last):\n",
      "  File \"c:\\Users\\arunk\\Finance_project\\env\\lib\\threading.py\", line 980, in _bootstrap_inner\n",
      "    url, params, schema, headers, scaling = validate_params(**kwargs)\n",
      "  File \"c:\\Users\\arunk\\Finance_project\\env\\lib\\site-packages\\nsepy\\history.py\", line 254, in validate_params\n",
      "Exception in thread Thread-83:\n",
      "Traceback (most recent call last):\n",
      "  File \"c:\\Users\\arunk\\Finance_project\\env\\lib\\site-packages\\nsepy\\urls.py\", line 42, in get_symbol_count\n",
      "    history = [resp for resp in gen]\n",
      "  File \"c:\\Users\\arunk\\Finance_project\\env\\lib\\site-packages\\requests\\sessions.py\", line 191, in resolve_redirects\n",
      "    raise TooManyRedirects(\n",
      "requests.exceptions.TooManyRedirects: Exceeded 30 redirects.\n",
      "    self.run()\n",
      "  File \"c:\\Users\\arunk\\Finance_project\\env\\lib\\site-packages\\nsepy\\commons.py\", line 132, in run\n",
      "    self.run()\n",
      "  File \"c:\\Users\\arunk\\Finance_project\\env\\lib\\site-packages\\nsepy\\commons.py\", line 132, in run\n",
      "    history = [resp for resp in gen]\n",
      "  File \"c:\\Users\\arunk\\Finance_project\\env\\lib\\site-packages\\requests\\sessions.py\", line 191, in resolve_redirects\n",
      "    self.run()\n",
      "  File \"c:\\Users\\arunk\\Finance_project\\env\\lib\\site-packages\\nsepy\\commons.py\", line 132, in run\n",
      "    resp = self.send(prep, **send_kwargs)\n",
      "  File \"c:\\Users\\arunk\\Finance_project\\env\\lib\\site-packages\\requests\\sessions.py\", line 723, in send\n",
      "    self.result = self._target(*self._args, **self._kwargs)\n",
      "  File \"c:\\Users\\arunk\\Finance_project\\env\\lib\\site-packages\\nsepy\\history.py\", line 138, in get_history\n",
      "    raise TooManyRedirects(\n",
      "requests.exceptions.TooManyRedirects: Exceeded 30 redirects.\n",
      "    params['symbolCount'] = get_symbol_count(symbol)\n",
      "  File \"c:\\Users\\arunk\\Finance_project\\env\\lib\\site-packages\\nsepy\\urls.py\", line 44, in get_symbol_count\n",
      "    history = [resp for resp in gen]\n",
      "  File \"c:\\Users\\arunk\\Finance_project\\env\\lib\\site-packages\\requests\\sessions.py\", line 723, in <listcomp>\n",
      "    history = [resp for resp in gen]\n",
      "  File \"c:\\Users\\arunk\\Finance_project\\env\\lib\\site-packages\\requests\\sessions.py\", line 723, in <listcomp>\n",
      "    self.result = self._target(*self._args, **self._kwargs)\n",
      "  File \"c:\\Users\\arunk\\Finance_project\\env\\lib\\site-packages\\nsepy\\history.py\", line 138, in get_history\n",
      "    cnt = symbol_count_url(symbol=symbol).text.lstrip().rstrip()\n",
      "  File \"c:\\Users\\arunk\\Finance_project\\env\\lib\\site-packages\\nsepy\\commons.py\", line 167, in __call__\n",
      "    history = [resp for resp in gen]\n",
      "  File \"c:\\Users\\arunk\\Finance_project\\env\\lib\\site-packages\\requests\\sessions.py\", line 191, in resolve_redirects\n",
      "    raise TooManyRedirects(\n",
      "requests.exceptions.TooManyRedirects: Exceeded 30 redirects.\n",
      "    return get_history_quanta(**kwargs)\n",
      "  File \"c:\\Users\\arunk\\Finance_project\\env\\lib\\site-packages\\nsepy\\history.py\", line 142, in get_history_quanta\n",
      "    self.result = self._target(*self._args, **self._kwargs)\n",
      "  File \"c:\\Users\\arunk\\Finance_project\\env\\lib\\site-packages\\nsepy\\history.py\", line 138, in get_history\n",
      "    return get_history_quanta(**kwargs)\n",
      "  File \"c:\\Users\\arunk\\Finance_project\\env\\lib\\site-packages\\nsepy\\history.py\", line 142, in get_history_quanta\n",
      "    return self.session.get(url, params=kwargs, proxies = self.proxy )\n",
      "  File \"c:\\Users\\arunk\\Finance_project\\env\\lib\\site-packages\\requests\\sessions.py\", line 600, in get\n",
      "    return symbol_count[symbol]\n",
      "KeyError: 'niftyfin'\n",
      "\n",
      "During handling of the above exception, another exception occurred:\n",
      "\n",
      "Traceback (most recent call last):\n",
      "  File \"c:\\Users\\arunk\\Finance_project\\env\\lib\\threading.py\", line 980, in _bootstrap_inner\n",
      "    url, params, schema, headers, scaling = validate_params(**kwargs)\n",
      "  File \"c:\\Users\\arunk\\Finance_project\\env\\lib\\site-packages\\nsepy\\history.py\", line 254, in validate_params\n",
      "    url, params, schema, headers, scaling = validate_params(**kwargs)\n",
      "  File \"c:\\Users\\arunk\\Finance_project\\env\\lib\\site-packages\\nsepy\\history.py\", line 254, in validate_params\n",
      "    return get_history_quanta(**kwargs)\n",
      "  File \"c:\\Users\\arunk\\Finance_project\\env\\lib\\site-packages\\nsepy\\history.py\", line 142, in get_history_quanta\n",
      "    history = [resp for resp in gen]\n",
      "  File \"c:\\Users\\arunk\\Finance_project\\env\\lib\\site-packages\\requests\\sessions.py\", line 191, in resolve_redirects\n",
      "Exception in thread Thread-101:\n",
      "Traceback (most recent call last):\n",
      "  File \"c:\\Users\\arunk\\Finance_project\\env\\lib\\site-packages\\nsepy\\urls.py\", line 42, in get_symbol_count\n",
      "    params['symbolCount'] = get_symbol_count(symbol)\n",
      "  File \"c:\\Users\\arunk\\Finance_project\\env\\lib\\site-packages\\nsepy\\urls.py\", line 44, in get_symbol_count\n",
      "Exception in thread Thread-75:\n",
      "Traceback (most recent call last):\n",
      "  File \"c:\\Users\\arunk\\Finance_project\\env\\lib\\site-packages\\nsepy\\urls.py\", line 42, in get_symbol_count\n",
      "    return self.request(\"GET\", url, **kwargs)\n",
      "  File \"c:\\Users\\arunk\\Finance_project\\env\\lib\\site-packages\\requests\\sessions.py\", line 587, in request\n",
      "    self.run()\n",
      "  File \"c:\\Users\\arunk\\Finance_project\\env\\lib\\site-packages\\nsepy\\commons.py\", line 132, in run\n",
      "Exception in thread Thread-73:\n",
      "Traceback (most recent call last):\n",
      "  File \"c:\\Users\\arunk\\Finance_project\\env\\lib\\site-packages\\nsepy\\urls.py\", line 42, in get_symbol_count\n",
      "    params['symbolCount'] = get_symbol_count(symbol)\n",
      "  File \"c:\\Users\\arunk\\Finance_project\\env\\lib\\site-packages\\nsepy\\urls.py\", line 44, in get_symbol_count\n",
      "    raise TooManyRedirects(\n",
      "requests.exceptions.TooManyRedirects: Exceeded 30 redirects.\n",
      "    raise TooManyRedirects(\n",
      "requests.exceptions.TooManyRedirects: Exceeded 30 redirects.\n",
      "    self.result = self._target(*self._args, **self._kwargs)\n",
      "  File \"c:\\Users\\arunk\\Finance_project\\env\\lib\\site-packages\\nsepy\\history.py\", line 138, in get_history\n",
      "Exception in thread Thread-102:\n",
      "Traceback (most recent call last):\n",
      "  File \"c:\\Users\\arunk\\Finance_project\\env\\lib\\site-packages\\nsepy\\urls.py\", line 42, in get_symbol_count\n",
      "    url, params, schema, headers, scaling = validate_params(**kwargs)\n",
      "  File \"c:\\Users\\arunk\\Finance_project\\env\\lib\\site-packages\\nsepy\\history.py\", line 254, in validate_params\n",
      "    return get_history_quanta(**kwargs)\n",
      "  File \"c:\\Users\\arunk\\Finance_project\\env\\lib\\site-packages\\nsepy\\history.py\", line 142, in get_history_quanta\n",
      "    resp = self.send(prep, **send_kwargs)\n",
      "  File \"c:\\Users\\arunk\\Finance_project\\env\\lib\\site-packages\\requests\\sessions.py\", line 723, in send\n",
      "    return symbol_count[symbol]\n",
      "KeyError: 'niftyfin'\n",
      "\n",
      "During handling of the above exception, another exception occurred:\n",
      "\n",
      "Traceback (most recent call last):\n",
      "  File \"c:\\Users\\arunk\\Finance_project\\env\\lib\\threading.py\", line 980, in _bootstrap_inner\n",
      "    cnt = symbol_count_url(symbol=symbol).text.lstrip().rstrip()\n",
      "  File \"c:\\Users\\arunk\\Finance_project\\env\\lib\\site-packages\\nsepy\\commons.py\", line 167, in __call__\n",
      "    params['symbolCount'] = get_symbol_count(symbol)\n",
      "  File \"c:\\Users\\arunk\\Finance_project\\env\\lib\\site-packages\\nsepy\\urls.py\", line 44, in get_symbol_count\n",
      "    return symbol_count[symbol]\n",
      "KeyError: 'niftyfin'\n",
      "\n",
      "During handling of the above exception, another exception occurred:\n",
      "\n",
      "Traceback (most recent call last):\n",
      "  File \"c:\\Users\\arunk\\Finance_project\\env\\lib\\threading.py\", line 980, in _bootstrap_inner\n",
      "    self.run()\n",
      "  File \"c:\\Users\\arunk\\Finance_project\\env\\lib\\site-packages\\nsepy\\commons.py\", line 132, in run\n",
      "Exception in thread Thread-95:\n",
      "Traceback (most recent call last):\n",
      "  File \"c:\\Users\\arunk\\Finance_project\\env\\lib\\site-packages\\nsepy\\urls.py\", line 42, in get_symbol_count\n",
      "    return symbol_count[symbol]\n",
      "KeyError: 'niftyfin'\n",
      "\n",
      "During handling of the above exception, another exception occurred:\n",
      "\n",
      "Traceback (most recent call last):\n",
      "  File \"c:\\Users\\arunk\\Finance_project\\env\\lib\\threading.py\", line 980, in _bootstrap_inner\n",
      "    return self.session.get(url, params=kwargs, proxies = self.proxy )\n",
      "  File \"c:\\Users\\arunk\\Finance_project\\env\\lib\\site-packages\\requests\\sessions.py\", line 600, in get\n",
      "    cnt = symbol_count_url(symbol=symbol).text.lstrip().rstrip()\n",
      "  File \"c:\\Users\\arunk\\Finance_project\\env\\lib\\site-packages\\nsepy\\commons.py\", line 167, in __call__\n",
      "    return symbol_count[symbol]\n",
      "KeyError: 'niftyfin'\n",
      "\n",
      "During handling of the above exception, another exception occurred:\n",
      "\n",
      "Traceback (most recent call last):\n",
      "  File \"c:\\Users\\arunk\\Finance_project\\env\\lib\\threading.py\", line 980, in _bootstrap_inner\n",
      "    url, params, schema, headers, scaling = validate_params(**kwargs)\n",
      "  File \"c:\\Users\\arunk\\Finance_project\\env\\lib\\site-packages\\nsepy\\history.py\", line 254, in validate_params\n",
      "    cnt = symbol_count_url(symbol=symbol).text.lstrip().rstrip()\n",
      "  File \"c:\\Users\\arunk\\Finance_project\\env\\lib\\site-packages\\nsepy\\commons.py\", line 167, in __call__\n",
      "    return self.session.get(url, params=kwargs, proxies = self.proxy )\n",
      "  File \"c:\\Users\\arunk\\Finance_project\\env\\lib\\site-packages\\requests\\sessions.py\", line 600, in get\n",
      "    params['symbolCount'] = get_symbol_count(symbol)\n",
      "  File \"c:\\Users\\arunk\\Finance_project\\env\\lib\\site-packages\\nsepy\\urls.py\", line 44, in get_symbol_count\n",
      "    self.result = self._target(*self._args, **self._kwargs)\n",
      "  File \"c:\\Users\\arunk\\Finance_project\\env\\lib\\site-packages\\nsepy\\history.py\", line 138, in get_history\n",
      "    history = [resp for resp in gen]\n",
      "  File \"c:\\Users\\arunk\\Finance_project\\env\\lib\\site-packages\\requests\\sessions.py\", line 723, in <listcomp>\n",
      "    self.run()\n",
      "  File \"c:\\Users\\arunk\\Finance_project\\env\\lib\\site-packages\\nsepy\\commons.py\", line 132, in run\n",
      "    return self.session.get(url, params=kwargs, proxies = self.proxy )\n",
      "  File \"c:\\Users\\arunk\\Finance_project\\env\\lib\\site-packages\\requests\\sessions.py\", line 600, in get\n",
      "    history = [resp for resp in gen]\n",
      "  File \"c:\\Users\\arunk\\Finance_project\\env\\lib\\site-packages\\requests\\sessions.py\", line 191, in resolve_redirects\n",
      "    self.result = self._target(*self._args, **self._kwargs)\n",
      "  File \"c:\\Users\\arunk\\Finance_project\\env\\lib\\site-packages\\nsepy\\history.py\", line 138, in get_history\n",
      "    return symbol_count[symbol]\n",
      "KeyError: 'niftyfin'\n",
      "\n",
      "During handling of the above exception, another exception occurred:\n",
      "\n",
      "Traceback (most recent call last):\n",
      "  File \"c:\\Users\\arunk\\Finance_project\\env\\lib\\threading.py\", line 980, in _bootstrap_inner\n",
      "    self.run()\n",
      "  File \"c:\\Users\\arunk\\Finance_project\\env\\lib\\site-packages\\nsepy\\commons.py\", line 132, in run\n",
      "    cnt = symbol_count_url(symbol=symbol).text.lstrip().rstrip()\n",
      "  File \"c:\\Users\\arunk\\Finance_project\\env\\lib\\site-packages\\nsepy\\commons.py\", line 167, in __call__\n",
      "    return get_history_quanta(**kwargs)\n",
      "  File \"c:\\Users\\arunk\\Finance_project\\env\\lib\\site-packages\\nsepy\\history.py\", line 142, in get_history_quanta\n",
      "    self.run()\n",
      "  File \"c:\\Users\\arunk\\Finance_project\\env\\lib\\site-packages\\nsepy\\commons.py\", line 132, in run\n",
      "    raise TooManyRedirects(\n",
      "requests.exceptions.TooManyRedirects: Exceeded 30 redirects.\n",
      "    self.result = self._target(*self._args, **self._kwargs)\n",
      "  File \"c:\\Users\\arunk\\Finance_project\\env\\lib\\site-packages\\nsepy\\history.py\", line 138, in get_history\n",
      "    return self.request(\"GET\", url, **kwargs)\n",
      "  File \"c:\\Users\\arunk\\Finance_project\\env\\lib\\site-packages\\requests\\sessions.py\", line 587, in request\n",
      "    return self.request(\"GET\", url, **kwargs)\n",
      "  File \"c:\\Users\\arunk\\Finance_project\\env\\lib\\site-packages\\requests\\sessions.py\", line 587, in request\n",
      "    return self.request(\"GET\", url, **kwargs)\n",
      "  File \"c:\\Users\\arunk\\Finance_project\\env\\lib\\site-packages\\requests\\sessions.py\", line 587, in request\n",
      "    url, params, schema, headers, scaling = validate_params(**kwargs)\n",
      "  File \"c:\\Users\\arunk\\Finance_project\\env\\lib\\site-packages\\nsepy\\history.py\", line 254, in validate_params\n",
      "    return get_history_quanta(**kwargs)\n",
      "  File \"c:\\Users\\arunk\\Finance_project\\env\\lib\\site-packages\\nsepy\\history.py\", line 142, in get_history_quanta\n",
      "    return get_history_quanta(**kwargs)\n",
      "  File \"c:\\Users\\arunk\\Finance_project\\env\\lib\\site-packages\\nsepy\\history.py\", line 142, in get_history_quanta\n",
      "    self.run()\n",
      "  File \"c:\\Users\\arunk\\Finance_project\\env\\lib\\site-packages\\nsepy\\commons.py\", line 132, in run\n",
      "    resp = self.send(prep, **send_kwargs)\n",
      "  File \"c:\\Users\\arunk\\Finance_project\\env\\lib\\site-packages\\requests\\sessions.py\", line 723, in send\n",
      "    url, params, schema, headers, scaling = validate_params(**kwargs)\n",
      "  File \"c:\\Users\\arunk\\Finance_project\\env\\lib\\site-packages\\nsepy\\history.py\", line 254, in validate_params\n",
      "    resp = self.send(prep, **send_kwargs)\n",
      "  File \"c:\\Users\\arunk\\Finance_project\\env\\lib\\site-packages\\requests\\sessions.py\", line 723, in send\n",
      "    self.result = self._target(*self._args, **self._kwargs)\n",
      "  File \"c:\\Users\\arunk\\Finance_project\\env\\lib\\site-packages\\nsepy\\history.py\", line 138, in get_history\n",
      "Exception in thread Thread-97:\n",
      "Traceback (most recent call last):\n",
      "  File \"c:\\Users\\arunk\\Finance_project\\env\\lib\\site-packages\\nsepy\\urls.py\", line 42, in get_symbol_count\n",
      "    resp = self.send(prep, **send_kwargs)\n",
      "  File \"c:\\Users\\arunk\\Finance_project\\env\\lib\\site-packages\\requests\\sessions.py\", line 723, in send\n",
      "    params['symbolCount'] = get_symbol_count(symbol)\n",
      "  File \"c:\\Users\\arunk\\Finance_project\\env\\lib\\site-packages\\nsepy\\urls.py\", line 44, in get_symbol_count\n",
      "    history = [resp for resp in gen]\n",
      "  File \"c:\\Users\\arunk\\Finance_project\\env\\lib\\site-packages\\requests\\sessions.py\", line 723, in <listcomp>\n",
      "    history = [resp for resp in gen]\n",
      "  File \"c:\\Users\\arunk\\Finance_project\\env\\lib\\site-packages\\requests\\sessions.py\", line 723, in <listcomp>\n",
      "    cnt = symbol_count_url(symbol=symbol).text.lstrip().rstrip()\n",
      "  File \"c:\\Users\\arunk\\Finance_project\\env\\lib\\site-packages\\nsepy\\commons.py\", line 167, in __call__\n",
      "    return get_history_quanta(**kwargs)\n",
      "  File \"c:\\Users\\arunk\\Finance_project\\env\\lib\\site-packages\\nsepy\\history.py\", line 142, in get_history_quanta\n",
      "    return symbol_count[symbol]\n",
      "KeyError: 'niftyfin'\n",
      "\n",
      "During handling of the above exception, another exception occurred:\n",
      "\n",
      "Traceback (most recent call last):\n",
      "  File \"c:\\Users\\arunk\\Finance_project\\env\\lib\\threading.py\", line 980, in _bootstrap_inner\n",
      "    params['symbolCount'] = get_symbol_count(symbol)\n",
      "  File \"c:\\Users\\arunk\\Finance_project\\env\\lib\\site-packages\\nsepy\\urls.py\", line 44, in get_symbol_count\n",
      "Exception in thread     self.result = self._target(*self._args, **self._kwargs)\n",
      "  File \"c:\\Users\\arunk\\Finance_project\\env\\lib\\site-packages\\nsepy\\history.py\", line 138, in get_history\n",
      "    url, params, schema, headers, scaling = validate_params(**kwargs)\n",
      "  File \"c:\\Users\\arunk\\Finance_project\\env\\lib\\site-packages\\nsepy\\history.py\", line 254, in validate_params\n",
      "Thread-93:\n",
      "Traceback (most recent call last):\n",
      "  File \"c:\\Users\\arunk\\Finance_project\\env\\lib\\site-packages\\nsepy\\urls.py\", line 42, in get_symbol_count\n",
      "    history = [resp for resp in gen]\n",
      "  File \"c:\\Users\\arunk\\Finance_project\\env\\lib\\site-packages\\requests\\sessions.py\", line 191, in resolve_redirects\n",
      "    return symbol_count[symbol]\n",
      "KeyError: 'niftyfin'\n",
      "\n",
      "During handling of the above exception, another exception occurred:\n",
      "\n",
      "Traceback (most recent call last):\n",
      "  File \"c:\\Users\\arunk\\Finance_project\\env\\lib\\threading.py\", line 980, in _bootstrap_inner\n",
      "    return self.session.get(url, params=kwargs, proxies = self.proxy )\n",
      "  File \"c:\\Users\\arunk\\Finance_project\\env\\lib\\site-packages\\requests\\sessions.py\", line 600, in get\n",
      "    self.run()\n",
      "  File \"c:\\Users\\arunk\\Finance_project\\env\\lib\\site-packages\\nsepy\\commons.py\", line 132, in run\n",
      "    return self.session.get(url, params=kwargs, proxies = self.proxy )\n",
      "  File \"c:\\Users\\arunk\\Finance_project\\env\\lib\\site-packages\\requests\\sessions.py\", line 600, in get\n",
      "    url, params, schema, headers, scaling = validate_params(**kwargs)\n",
      "  File \"c:\\Users\\arunk\\Finance_project\\env\\lib\\site-packages\\nsepy\\history.py\", line 254, in validate_params\n",
      "    cnt = symbol_count_url(symbol=symbol).text.lstrip().rstrip()\n",
      "  File \"c:\\Users\\arunk\\Finance_project\\env\\lib\\site-packages\\nsepy\\commons.py\", line 167, in __call__\n",
      "    return self.request(\"GET\", url, **kwargs)\n",
      "  File \"c:\\Users\\arunk\\Finance_project\\env\\lib\\site-packages\\requests\\sessions.py\", line 587, in request\n",
      "    resp = self.send(prep, **send_kwargs)\n",
      "  File \"c:\\Users\\arunk\\Finance_project\\env\\lib\\site-packages\\requests\\sessions.py\", line 723, in send\n",
      "    return get_history_quanta(**kwargs)\n",
      "  File \"c:\\Users\\arunk\\Finance_project\\env\\lib\\site-packages\\nsepy\\history.py\", line 142, in get_history_quanta\n",
      "    history = [resp for resp in gen]\n",
      "  File \"c:\\Users\\arunk\\Finance_project\\env\\lib\\site-packages\\requests\\sessions.py\", line 191, in resolve_redirects\n",
      "    params['symbolCount'] = get_symbol_count(symbol)\n",
      "  File \"c:\\Users\\arunk\\Finance_project\\env\\lib\\site-packages\\nsepy\\urls.py\", line 44, in get_symbol_count\n",
      "    self.result = self._target(*self._args, **self._kwargs)\n",
      "  File \"c:\\Users\\arunk\\Finance_project\\env\\lib\\site-packages\\nsepy\\history.py\", line 138, in get_history\n",
      "    url, params, schema, headers, scaling = validate_params(**kwargs)\n",
      "  File \"c:\\Users\\arunk\\Finance_project\\env\\lib\\site-packages\\nsepy\\history.py\", line 254, in validate_params\n",
      "    return self.request(\"GET\", url, **kwargs)\n",
      "  File \"c:\\Users\\arunk\\Finance_project\\env\\lib\\site-packages\\requests\\sessions.py\", line 587, in request\n",
      "    history = [resp for resp in gen]\n",
      "  File \"c:\\Users\\arunk\\Finance_project\\env\\lib\\site-packages\\requests\\sessions.py\", line 723, in <listcomp>\n",
      "    history = [resp for resp in gen]\n",
      "  File \"c:\\Users\\arunk\\Finance_project\\env\\lib\\site-packages\\requests\\sessions.py\", line 723, in <listcomp>\n",
      "    raise TooManyRedirects(\n",
      "requests.exceptions.TooManyRedirects: Exceeded 30 redirects.\n",
      "    self.run()\n",
      "  File \"c:\\Users\\arunk\\Finance_project\\env\\lib\\site-packages\\nsepy\\commons.py\", line 132, in run\n",
      "    return self.session.get(url, params=kwargs, proxies = self.proxy )\n",
      "  File \"c:\\Users\\arunk\\Finance_project\\env\\lib\\site-packages\\requests\\sessions.py\", line 600, in get\n",
      "    params['symbolCount'] = get_symbol_count(symbol)\n",
      "  File \"c:\\Users\\arunk\\Finance_project\\env\\lib\\site-packages\\nsepy\\urls.py\", line 44, in get_symbol_count\n",
      "    params['symbolCount'] = get_symbol_count(symbol)\n",
      "  File \"c:\\Users\\arunk\\Finance_project\\env\\lib\\site-packages\\nsepy\\urls.py\", line 44, in get_symbol_count\n",
      "    resp = self.send(prep, **send_kwargs)\n",
      "  File \"c:\\Users\\arunk\\Finance_project\\env\\lib\\site-packages\\requests\\sessions.py\", line 723, in send\n",
      "    history = [resp for resp in gen]\n",
      "  File \"c:\\Users\\arunk\\Finance_project\\env\\lib\\site-packages\\requests\\sessions.py\", line 191, in resolve_redirects\n",
      "        raise TooManyRedirects(\n",
      "requests.exceptions.TooManyRedirects: Exceeded 30 redirects.\n",
      "    return get_history_quanta(**kwargs)\n",
      "  File \"c:\\Users\\arunk\\Finance_project\\env\\lib\\site-packages\\nsepy\\history.py\", line 142, in get_history_quanta\n",
      "    cnt = symbol_count_url(symbol=symbol).text.lstrip().rstrip()\n",
      "  File \"c:\\Users\\arunk\\Finance_project\\env\\lib\\site-packages\\nsepy\\commons.py\", line 167, in __call__\n",
      "history = [resp for resp in gen]\n",
      "  File \"c:\\Users\\arunk\\Finance_project\\env\\lib\\site-packages\\requests\\sessions.py\", line 191, in resolve_redirects\n",
      "    return self.request(\"GET\", url, **kwargs)\n",
      "  File \"c:\\Users\\arunk\\Finance_project\\env\\lib\\site-packages\\requests\\sessions.py\", line 587, in request\n",
      "    cnt = symbol_count_url(symbol=symbol).text.lstrip().rstrip()\n",
      "  File \"c:\\Users\\arunk\\Finance_project\\env\\lib\\site-packages\\nsepy\\commons.py\", line 167, in __call__\n",
      "    raise TooManyRedirects(\n",
      "requests.exceptions.TooManyRedirects: Exceeded 30 redirects.\n",
      "    cnt = symbol_count_url(symbol=symbol).text.lstrip().rstrip()\n",
      "  File \"c:\\Users\\arunk\\Finance_project\\env\\lib\\site-packages\\nsepy\\commons.py\", line 167, in __call__\n",
      "    return self.session.get(url, params=kwargs, proxies = self.proxy )\n",
      "  File \"c:\\Users\\arunk\\Finance_project\\env\\lib\\site-packages\\requests\\sessions.py\", line 600, in get\n",
      "    history = [resp for resp in gen]\n",
      "  File \"c:\\Users\\arunk\\Finance_project\\env\\lib\\site-packages\\requests\\sessions.py\", line 723, in <listcomp>\n",
      "    raise TooManyRedirects(\n",
      "requests.exceptions.TooManyRedirects: Exceeded 30 redirects.\n",
      "    self.result = self._target(*self._args, **self._kwargs)\n",
      "  File \"c:\\Users\\arunk\\Finance_project\\env\\lib\\site-packages\\nsepy\\history.py\", line 138, in get_history\n",
      "    url, params, schema, headers, scaling = validate_params(**kwargs)\n",
      "  File \"c:\\Users\\arunk\\Finance_project\\env\\lib\\site-packages\\nsepy\\history.py\", line 254, in validate_params\n",
      "    return self.request(\"GET\", url, **kwargs)\n",
      "  File \"c:\\Users\\arunk\\Finance_project\\env\\lib\\site-packages\\requests\\sessions.py\", line 587, in request\n",
      "    history = [resp for resp in gen]\n",
      "  File \"c:\\Users\\arunk\\Finance_project\\env\\lib\\site-packages\\requests\\sessions.py\", line 191, in resolve_redirects\n",
      "    resp = self.send(prep, **send_kwargs)\n",
      "  File \"c:\\Users\\arunk\\Finance_project\\env\\lib\\site-packages\\requests\\sessions.py\", line 723, in send\n",
      "    return self.session.get(url, params=kwargs, proxies = self.proxy )\n",
      "  File \"c:\\Users\\arunk\\Finance_project\\env\\lib\\site-packages\\requests\\sessions.py\", line 600, in get\n",
      "    resp = self.send(prep, **send_kwargs)\n",
      "  File \"c:\\Users\\arunk\\Finance_project\\env\\lib\\site-packages\\requests\\sessions.py\", line 723, in send\n",
      "    return self.session.get(url, params=kwargs, proxies = self.proxy )\n",
      "  File \"c:\\Users\\arunk\\Finance_project\\env\\lib\\site-packages\\requests\\sessions.py\", line 600, in get\n",
      "    return get_history_quanta(**kwargs)\n",
      "  File \"c:\\Users\\arunk\\Finance_project\\env\\lib\\site-packages\\nsepy\\history.py\", line 142, in get_history_quanta\n",
      "    params['symbolCount'] = get_symbol_count(symbol)\n",
      "  File \"c:\\Users\\arunk\\Finance_project\\env\\lib\\site-packages\\nsepy\\urls.py\", line 44, in get_symbol_count\n",
      "    return self.request(\"GET\", url, **kwargs)\n",
      "  File \"c:\\Users\\arunk\\Finance_project\\env\\lib\\site-packages\\requests\\sessions.py\", line 587, in request\n",
      "        return self.request(\"GET\", url, **kwargs)\n",
      "  File \"c:\\Users\\arunk\\Finance_project\\env\\lib\\site-packages\\requests\\sessions.py\", line 587, in request\n",
      "history = [resp for resp in gen]\n",
      "  File \"c:\\Users\\arunk\\Finance_project\\env\\lib\\site-packages\\requests\\sessions.py\", line 723, in <listcomp>\n",
      "    url, params, schema, headers, scaling = validate_params(**kwargs)\n",
      "  File \"c:\\Users\\arunk\\Finance_project\\env\\lib\\site-packages\\nsepy\\history.py\", line 254, in validate_params\n",
      "    raise TooManyRedirects(\n",
      "requests.exceptions.TooManyRedirects: Exceeded 30 redirects.\n",
      "    history = [resp for resp in gen]\n",
      "  File \"c:\\Users\\arunk\\Finance_project\\env\\lib\\site-packages\\requests\\sessions.py\", line 191, in resolve_redirects\n",
      "    resp = self.send(prep, **send_kwargs)\n",
      "  File \"c:\\Users\\arunk\\Finance_project\\env\\lib\\site-packages\\requests\\sessions.py\", line 723, in send\n",
      "    history = [resp for resp in gen]\n",
      "  File \"c:\\Users\\arunk\\Finance_project\\env\\lib\\site-packages\\requests\\sessions.py\", line 723, in <listcomp>\n",
      "    resp = self.send(prep, **send_kwargs)\n",
      "  File \"c:\\Users\\arunk\\Finance_project\\env\\lib\\site-packages\\requests\\sessions.py\", line 723, in send\n",
      "    cnt = symbol_count_url(symbol=symbol).text.lstrip().rstrip()\n",
      "  File \"c:\\Users\\arunk\\Finance_project\\env\\lib\\site-packages\\nsepy\\commons.py\", line 167, in __call__\n",
      "    params['symbolCount'] = get_symbol_count(symbol)\n",
      "  File \"c:\\Users\\arunk\\Finance_project\\env\\lib\\site-packages\\nsepy\\urls.py\", line 44, in get_symbol_count\n",
      "    raise TooManyRedirects(\n",
      "requests.exceptions.TooManyRedirects: Exceeded 30 redirects.\n",
      "    cnt = symbol_count_url(symbol=symbol).text.lstrip().rstrip()\n",
      "  File \"c:\\Users\\arunk\\Finance_project\\env\\lib\\site-packages\\nsepy\\commons.py\", line 167, in __call__\n",
      "    history = [resp for resp in gen]\n",
      "  File \"c:\\Users\\arunk\\Finance_project\\env\\lib\\site-packages\\requests\\sessions.py\", line 191, in resolve_redirects\n",
      "    history = [resp for resp in gen]\n",
      "  File \"c:\\Users\\arunk\\Finance_project\\env\\lib\\site-packages\\requests\\sessions.py\", line 723, in <listcomp>\n",
      "    raise TooManyRedirects(\n",
      "requests.exceptions.TooManyRedirects: Exceeded 30 redirects.\n",
      "    return self.session.get(url, params=kwargs, proxies = self.proxy )\n",
      "  File \"c:\\Users\\arunk\\Finance_project\\env\\lib\\site-packages\\requests\\sessions.py\", line 600, in get\n",
      "    history = [resp for resp in gen]\n",
      "  File \"c:\\Users\\arunk\\Finance_project\\env\\lib\\site-packages\\requests\\sessions.py\", line 723, in <listcomp>\n",
      "    history = [resp for resp in gen]\n",
      "  File \"c:\\Users\\arunk\\Finance_project\\env\\lib\\site-packages\\requests\\sessions.py\", line 191, in resolve_redirects\n",
      "    return self.session.get(url, params=kwargs, proxies = self.proxy )\n",
      "  File \"c:\\Users\\arunk\\Finance_project\\env\\lib\\site-packages\\requests\\sessions.py\", line 600, in get\n",
      "    history = [resp for resp in gen]\n",
      "  File \"c:\\Users\\arunk\\Finance_project\\env\\lib\\site-packages\\requests\\sessions.py\", line 191, in resolve_redirects\n",
      "    return self.request(\"GET\", url, **kwargs)\n",
      "  File \"c:\\Users\\arunk\\Finance_project\\env\\lib\\site-packages\\requests\\sessions.py\", line 587, in request\n",
      "    raise TooManyRedirects(    return self.request(\"GET\", url, **kwargs)\n",
      "  File \"c:\\Users\\arunk\\Finance_project\\env\\lib\\site-packages\\requests\\sessions.py\", line 587, in request\n",
      "\n",
      "requests.exceptions.TooManyRedirects: Exceeded 30 redirects.\n",
      "    raise TooManyRedirects(\n",
      "requests.exceptions.TooManyRedirects: Exceeded 30 redirects.\n",
      "Exception in thread Thread-99:\n",
      "Traceback (most recent call last):\n",
      "  File \"c:\\Users\\arunk\\Finance_project\\env\\lib\\site-packages\\nsepy\\urls.py\", line 42, in get_symbol_count\n",
      "Exception in thread Thread-100:\n",
      "Traceback (most recent call last):\n",
      "  File \"c:\\Users\\arunk\\Finance_project\\env\\lib\\threading.py\", line 980, in _bootstrap_inner\n",
      "    resp = self.send(prep, **send_kwargs)\n",
      "  File \"c:\\Users\\arunk\\Finance_project\\env\\lib\\site-packages\\requests\\sessions.py\", line 723, in send\n",
      "    return symbol_count[symbol]\n",
      "KeyError: 'niftyfin'\n",
      "\n",
      "During handling of the above exception, another exception occurred:\n",
      "\n",
      "Traceback (most recent call last):\n",
      "  File \"c:\\Users\\arunk\\Finance_project\\env\\lib\\threading.py\", line 980, in _bootstrap_inner\n",
      "    resp = self.send(prep, **send_kwargs)\n",
      "  File \"c:\\Users\\arunk\\Finance_project\\env\\lib\\site-packages\\requests\\sessions.py\", line 723, in send\n",
      "Exception in thread Thread-69:\n",
      "Traceback (most recent call last):\n",
      "  File \"c:\\Users\\arunk\\Finance_project\\env\\lib\\site-packages\\nsepy\\urls.py\", line 42, in get_symbol_count\n",
      "    self.run()\n",
      "  File \"c:\\Users\\arunk\\Finance_project\\env\\lib\\site-packages\\nsepy\\commons.py\", line 132, in run\n",
      "    self.run()\n",
      "  File \"c:\\Users\\arunk\\Finance_project\\env\\lib\\site-packages\\nsepy\\commons.py\", line 132, in run\n",
      "    self.result = self._target(*self._args, **self._kwargs)\n",
      "  File \"c:\\Users\\arunk\\Finance_project\\env\\lib\\site-packages\\nsepy\\history.py\", line 138, in get_history\n",
      "    history = [resp for resp in gen]\n",
      "  File \"c:\\Users\\arunk\\Finance_project\\env\\lib\\site-packages\\requests\\sessions.py\", line 723, in <listcomp>\n",
      "    return symbol_count[symbol]\n",
      "KeyError: 'niftyfin'\n",
      "\n",
      "During handling of the above exception, another exception occurred:\n",
      "\n",
      "Traceback (most recent call last):\n",
      "  File \"c:\\Users\\arunk\\Finance_project\\env\\lib\\threading.py\", line 980, in _bootstrap_inner\n",
      "    history = [resp for resp in gen]\n",
      "  File \"c:\\Users\\arunk\\Finance_project\\env\\lib\\site-packages\\requests\\sessions.py\", line 723, in <listcomp>\n",
      "        self.run()\n",
      "  File \"c:\\Users\\arunk\\Finance_project\\env\\lib\\site-packages\\nsepy\\commons.py\", line 132, in run\n",
      "    history = [resp for resp in gen]\n",
      "  File \"c:\\Users\\arunk\\Finance_project\\env\\lib\\site-packages\\requests\\sessions.py\", line 191, in resolve_redirects\n",
      "return get_history_quanta(**kwargs)\n",
      "  File \"c:\\Users\\arunk\\Finance_project\\env\\lib\\site-packages\\nsepy\\history.py\", line 142, in get_history_quanta\n",
      "    self.result = self._target(*self._args, **self._kwargs)\n",
      "  File \"c:\\Users\\arunk\\Finance_project\\env\\lib\\site-packages\\nsepy\\history.py\", line 136, in get_history\n",
      "    history = [resp for resp in gen]\n",
      "  File \"c:\\Users\\arunk\\Finance_project\\env\\lib\\site-packages\\requests\\sessions.py\", line 191, in resolve_redirects\n",
      "    self.result = self._target(*self._args, **self._kwargs)\n",
      "  File \"c:\\Users\\arunk\\Finance_project\\env\\lib\\site-packages\\nsepy\\history.py\", line 138, in get_history\n",
      "    return pd.concat((t1.result, t2.result))\n",
      "AttributeError: 'ThreadReturns' object has no attribute 'result'\n",
      "    raise TooManyRedirects(\n",
      "requests.exceptions.TooManyRedirects: Exceeded 30 redirects.\n",
      "    raise TooManyRedirects(\n",
      "requests.exceptions.TooManyRedirects: Exceeded 30 redirects.\n",
      "    return get_history_quanta(**kwargs)\n",
      "  File \"c:\\Users\\arunk\\Finance_project\\env\\lib\\site-packages\\nsepy\\history.py\", line 142, in get_history_quanta\n",
      "    url, params, schema, headers, scaling = validate_params(**kwargs)\n",
      "  File \"c:\\Users\\arunk\\Finance_project\\env\\lib\\site-packages\\nsepy\\history.py\", line 254, in validate_params\n",
      "    url, params, schema, headers, scaling = validate_params(**kwargs)\n",
      "  File \"c:\\Users\\arunk\\Finance_project\\env\\lib\\site-packages\\nsepy\\history.py\", line 254, in validate_params\n",
      "    params['symbolCount'] = get_symbol_count(symbol)\n",
      "  File \"c:\\Users\\arunk\\Finance_project\\env\\lib\\site-packages\\nsepy\\urls.py\", line 44, in get_symbol_count\n",
      "        params['symbolCount'] = get_symbol_count(symbol)\n",
      "  File \"c:\\Users\\arunk\\Finance_project\\env\\lib\\site-packages\\nsepy\\urls.py\", line 44, in get_symbol_count\n",
      "cnt = symbol_count_url(symbol=symbol).text.lstrip().rstrip()\n",
      "  File \"c:\\Users\\arunk\\Finance_project\\env\\lib\\site-packages\\nsepy\\commons.py\", line 167, in __call__\n",
      "    return self.session.get(url, params=kwargs, proxies = self.proxy )\n",
      "  File \"c:\\Users\\arunk\\Finance_project\\env\\lib\\site-packages\\requests\\sessions.py\", line 600, in get\n",
      "    cnt = symbol_count_url(symbol=symbol).text.lstrip().rstrip()\n",
      "  File \"c:\\Users\\arunk\\Finance_project\\env\\lib\\site-packages\\nsepy\\commons.py\", line 167, in __call__\n",
      "    return self.request(\"GET\", url, **kwargs)\n",
      "  File \"c:\\Users\\arunk\\Finance_project\\env\\lib\\site-packages\\requests\\sessions.py\", line 587, in request\n",
      "    return self.session.get(url, params=kwargs, proxies = self.proxy )\n",
      "  File \"c:\\Users\\arunk\\Finance_project\\env\\lib\\site-packages\\requests\\sessions.py\", line 600, in get\n",
      "    return self.request(\"GET\", url, **kwargs)\n",
      "  File \"c:\\Users\\arunk\\Finance_project\\env\\lib\\site-packages\\requests\\sessions.py\", line 587, in request\n",
      "    resp = self.send(prep, **send_kwargs)\n",
      "  File \"c:\\Users\\arunk\\Finance_project\\env\\lib\\site-packages\\requests\\sessions.py\", line 723, in send\n",
      "    resp = self.send(prep, **send_kwargs)\n",
      "  File \"c:\\Users\\arunk\\Finance_project\\env\\lib\\site-packages\\requests\\sessions.py\", line 723, in send\n",
      "    history = [resp for resp in gen]\n",
      "  File \"c:\\Users\\arunk\\Finance_project\\env\\lib\\site-packages\\requests\\sessions.py\", line 723, in <listcomp>\n",
      "    history = [resp for resp in gen]\n",
      "  File \"c:\\Users\\arunk\\Finance_project\\env\\lib\\site-packages\\requests\\sessions.py\", line 191, in resolve_redirects\n",
      "    history = [resp for resp in gen]\n",
      "  File \"c:\\Users\\arunk\\Finance_project\\env\\lib\\site-packages\\requests\\sessions.py\", line 723, in <listcomp>\n",
      "    raise TooManyRedirects(\n",
      "requests.exceptions.TooManyRedirects: Exceeded 30 redirects.\n",
      "    Exception in thread Thread-98:\n",
      "Traceback (most recent call last):\n",
      "  File \"c:\\Users\\arunk\\Finance_project\\env\\lib\\threading.py\", line 980, in _bootstrap_inner\n",
      "history = [resp for resp in gen]\n",
      "  File \"c:\\Users\\arunk\\Finance_project\\env\\lib\\site-packages\\requests\\sessions.py\", line 191, in resolve_redirects\n",
      "    self.run()\n",
      "  File \"c:\\Users\\arunk\\Finance_project\\env\\lib\\site-packages\\nsepy\\commons.py\", line 132, in run\n",
      "    raise TooManyRedirects(\n",
      "requests.exceptions.TooManyRedirects: Exceeded 30 redirects.\n",
      "    self.result = self._target(*self._args, **self._kwargs)\n",
      "  File \"c:\\Users\\arunk\\Finance_project\\env\\lib\\site-packages\\nsepy\\history.py\", line 136, in get_history\n",
      "    return pd.concat((t1.result, t2.result))\n",
      "AttributeError: 'ThreadReturns' object has no attribute 'result'\n",
      "Exception in thread Thread-96:\n",
      "Traceback (most recent call last):\n",
      "  File \"c:\\Users\\arunk\\Finance_project\\env\\lib\\threading.py\", line 980, in _bootstrap_inner\n",
      "    self.run()\n",
      "  File \"c:\\Users\\arunk\\Finance_project\\env\\lib\\site-packages\\nsepy\\commons.py\", line 132, in run\n",
      "    self.result = self._target(*self._args, **self._kwargs)\n",
      "  File \"c:\\Users\\arunk\\Finance_project\\env\\lib\\site-packages\\nsepy\\history.py\", line 136, in get_history\n",
      "    return pd.concat((t1.result, t2.result))\n",
      "AttributeError: 'ThreadReturns' object has no attribute 'result'\n",
      "Exception in thread Thread-94:\n",
      "Traceback (most recent call last):\n",
      "  File \"c:\\Users\\arunk\\Finance_project\\env\\lib\\threading.py\", line 980, in _bootstrap_inner\n",
      "    self.run()\n",
      "  File \"c:\\Users\\arunk\\Finance_project\\env\\lib\\site-packages\\nsepy\\commons.py\", line 132, in run\n",
      "    self.result = self._target(*self._args, **self._kwargs)\n",
      "  File \"c:\\Users\\arunk\\Finance_project\\env\\lib\\site-packages\\nsepy\\history.py\", line 136, in get_history\n",
      "    return pd.concat((t1.result, t2.result))\n",
      "AttributeError: 'ThreadReturns' object has no attribute 'result'\n",
      "Exception in thread Thread-92:\n",
      "Traceback (most recent call last):\n",
      "  File \"c:\\Users\\arunk\\Finance_project\\env\\lib\\threading.py\", line 980, in _bootstrap_inner\n",
      "    self.run()\n",
      "  File \"c:\\Users\\arunk\\Finance_project\\env\\lib\\site-packages\\nsepy\\commons.py\", line 132, in run\n",
      "    self.result = self._target(*self._args, **self._kwargs)\n",
      "  File \"c:\\Users\\arunk\\Finance_project\\env\\lib\\site-packages\\nsepy\\history.py\", line 136, in get_history\n",
      "    return pd.concat((t1.result, t2.result))\n",
      "AttributeError: 'ThreadReturns' object has no attribute 'result'\n",
      "Exception in thread Thread-90:\n",
      "Traceback (most recent call last):\n",
      "  File \"c:\\Users\\arunk\\Finance_project\\env\\lib\\threading.py\", line 980, in _bootstrap_inner\n",
      "    self.run()\n",
      "  File \"c:\\Users\\arunk\\Finance_project\\env\\lib\\site-packages\\nsepy\\commons.py\", line 132, in run\n",
      "    self.result = self._target(*self._args, **self._kwargs)\n",
      "  File \"c:\\Users\\arunk\\Finance_project\\env\\lib\\site-packages\\nsepy\\history.py\", line 136, in get_history\n",
      "    return pd.concat((t1.result, t2.result))\n",
      "AttributeError: 'ThreadReturns' object has no attribute 'result'\n",
      "Exception in thread Thread-88:\n",
      "Traceback (most recent call last):\n",
      "  File \"c:\\Users\\arunk\\Finance_project\\env\\lib\\threading.py\", line 980, in _bootstrap_inner\n",
      "    self.run()\n",
      "  File \"c:\\Users\\arunk\\Finance_project\\env\\lib\\site-packages\\nsepy\\commons.py\", line 132, in run\n",
      "    self.result = self._target(*self._args, **self._kwargs)\n",
      "  File \"c:\\Users\\arunk\\Finance_project\\env\\lib\\site-packages\\nsepy\\history.py\", line 136, in get_history\n",
      "    return pd.concat((t1.result, t2.result))\n",
      "AttributeError: 'ThreadReturns' object has no attribute 'result'\n",
      "Exception in thread Thread-86:\n",
      "Traceback (most recent call last):\n",
      "  File \"c:\\Users\\arunk\\Finance_project\\env\\lib\\threading.py\", line 980, in _bootstrap_inner\n",
      "    self.run()\n",
      "  File \"c:\\Users\\arunk\\Finance_project\\env\\lib\\site-packages\\nsepy\\commons.py\", line 132, in run\n",
      "    self.result = self._target(*self._args, **self._kwargs)\n",
      "  File \"c:\\Users\\arunk\\Finance_project\\env\\lib\\site-packages\\nsepy\\history.py\", line 136, in get_history\n",
      "    return pd.concat((t1.result, t2.result))\n",
      "AttributeError: 'ThreadReturns' object has no attribute 'result'\n",
      "Exception in thread Thread-84:\n",
      "Traceback (most recent call last):\n",
      "  File \"c:\\Users\\arunk\\Finance_project\\env\\lib\\threading.py\", line 980, in _bootstrap_inner\n",
      "    self.run()\n",
      "  File \"c:\\Users\\arunk\\Finance_project\\env\\lib\\site-packages\\nsepy\\commons.py\", line 132, in run\n",
      "    self.result = self._target(*self._args, **self._kwargs)\n",
      "  File \"c:\\Users\\arunk\\Finance_project\\env\\lib\\site-packages\\nsepy\\history.py\", line 136, in get_history\n",
      "    return pd.concat((t1.result, t2.result))\n",
      "AttributeError: 'ThreadReturns' object has no attribute 'result'\n",
      "Exception in thread Thread-82:\n",
      "Traceback (most recent call last):\n",
      "  File \"c:\\Users\\arunk\\Finance_project\\env\\lib\\threading.py\", line 980, in _bootstrap_inner\n",
      "    self.run()\n",
      "  File \"c:\\Users\\arunk\\Finance_project\\env\\lib\\site-packages\\nsepy\\commons.py\", line 132, in run\n",
      "    self.result = self._target(*self._args, **self._kwargs)\n",
      "  File \"c:\\Users\\arunk\\Finance_project\\env\\lib\\site-packages\\nsepy\\history.py\", line 136, in get_history\n",
      "    return pd.concat((t1.result, t2.result))\n",
      "AttributeError: 'ThreadReturns' object has no attribute 'result'\n",
      "Exception in thread Thread-80:\n",
      "Traceback (most recent call last):\n",
      "  File \"c:\\Users\\arunk\\Finance_project\\env\\lib\\threading.py\", line 980, in _bootstrap_inner\n",
      "    self.run()\n",
      "  File \"c:\\Users\\arunk\\Finance_project\\env\\lib\\site-packages\\nsepy\\commons.py\", line 132, in run\n",
      "    self.result = self._target(*self._args, **self._kwargs)\n",
      "  File \"c:\\Users\\arunk\\Finance_project\\env\\lib\\site-packages\\nsepy\\history.py\", line 136, in get_history\n",
      "    return pd.concat((t1.result, t2.result))\n",
      "AttributeError: 'ThreadReturns' object has no attribute 'result'\n",
      "Exception in thread Thread-78:\n",
      "Traceback (most recent call last):\n",
      "  File \"c:\\Users\\arunk\\Finance_project\\env\\lib\\threading.py\", line 980, in _bootstrap_inner\n",
      "    self.run()\n",
      "  File \"c:\\Users\\arunk\\Finance_project\\env\\lib\\site-packages\\nsepy\\commons.py\", line 132, in run\n",
      "    self.result = self._target(*self._args, **self._kwargs)\n",
      "  File \"c:\\Users\\arunk\\Finance_project\\env\\lib\\site-packages\\nsepy\\history.py\", line 136, in get_history\n",
      "    return pd.concat((t1.result, t2.result))\n",
      "AttributeError: 'ThreadReturns' object has no attribute 'result'\n",
      "Exception in thread Thread-76:\n",
      "Traceback (most recent call last):\n",
      "  File \"c:\\Users\\arunk\\Finance_project\\env\\lib\\threading.py\", line 980, in _bootstrap_inner\n",
      "    self.run()\n",
      "  File \"c:\\Users\\arunk\\Finance_project\\env\\lib\\site-packages\\nsepy\\commons.py\", line 132, in run\n",
      "    self.result = self._target(*self._args, **self._kwargs)\n",
      "  File \"c:\\Users\\arunk\\Finance_project\\env\\lib\\site-packages\\nsepy\\history.py\", line 136, in get_history\n",
      "    return pd.concat((t1.result, t2.result))\n",
      "AttributeError: 'ThreadReturns' object has no attribute 'result'\n",
      "Exception in thread Thread-74:\n",
      "Traceback (most recent call last):\n",
      "  File \"c:\\Users\\arunk\\Finance_project\\env\\lib\\threading.py\", line 980, in _bootstrap_inner\n",
      "    self.run()\n",
      "  File \"c:\\Users\\arunk\\Finance_project\\env\\lib\\site-packages\\nsepy\\commons.py\", line 132, in run\n",
      "    self.result = self._target(*self._args, **self._kwargs)\n",
      "  File \"c:\\Users\\arunk\\Finance_project\\env\\lib\\site-packages\\nsepy\\history.py\", line 136, in get_history\n",
      "    return pd.concat((t1.result, t2.result))\n",
      "AttributeError: 'ThreadReturns' object has no attribute 'result'\n",
      "Exception in thread Thread-72:\n",
      "Traceback (most recent call last):\n",
      "  File \"c:\\Users\\arunk\\Finance_project\\env\\lib\\threading.py\", line 980, in _bootstrap_inner\n",
      "    self.run()\n",
      "  File \"c:\\Users\\arunk\\Finance_project\\env\\lib\\site-packages\\nsepy\\commons.py\", line 132, in run\n",
      "    self.result = self._target(*self._args, **self._kwargs)\n",
      "  File \"c:\\Users\\arunk\\Finance_project\\env\\lib\\site-packages\\nsepy\\history.py\", line 136, in get_history\n",
      "    return pd.concat((t1.result, t2.result))\n",
      "AttributeError: 'ThreadReturns' object has no attribute 'result'\n",
      "Exception in thread Thread-70:\n",
      "Traceback (most recent call last):\n",
      "  File \"c:\\Users\\arunk\\Finance_project\\env\\lib\\threading.py\", line 980, in _bootstrap_inner\n",
      "    self.run()\n",
      "  File \"c:\\Users\\arunk\\Finance_project\\env\\lib\\site-packages\\nsepy\\commons.py\", line 132, in run\n",
      "    self.result = self._target(*self._args, **self._kwargs)\n",
      "  File \"c:\\Users\\arunk\\Finance_project\\env\\lib\\site-packages\\nsepy\\history.py\", line 136, in get_history\n",
      "    return pd.concat((t1.result, t2.result))\n",
      "AttributeError: 'ThreadReturns' object has no attribute 'result'\n",
      "Exception in thread Thread-68:\n",
      "Traceback (most recent call last):\n",
      "  File \"c:\\Users\\arunk\\Finance_project\\env\\lib\\threading.py\", line 980, in _bootstrap_inner\n",
      "    self.run()\n",
      "  File \"c:\\Users\\arunk\\Finance_project\\env\\lib\\site-packages\\nsepy\\commons.py\", line 132, in run\n",
      "    self.result = self._target(*self._args, **self._kwargs)\n",
      "  File \"c:\\Users\\arunk\\Finance_project\\env\\lib\\site-packages\\nsepy\\history.py\", line 136, in get_history\n",
      "    return pd.concat((t1.result, t2.result))\n",
      "AttributeError: 'ThreadReturns' object has no attribute 'result'\n",
      "Exception in thread Thread-66:\n",
      "Traceback (most recent call last):\n",
      "  File \"c:\\Users\\arunk\\Finance_project\\env\\lib\\threading.py\", line 980, in _bootstrap_inner\n",
      "    self.run()\n",
      "  File \"c:\\Users\\arunk\\Finance_project\\env\\lib\\site-packages\\nsepy\\commons.py\", line 132, in run\n",
      "    self.result = self._target(*self._args, **self._kwargs)\n",
      "  File \"c:\\Users\\arunk\\Finance_project\\env\\lib\\site-packages\\nsepy\\history.py\", line 136, in get_history\n",
      "    return pd.concat((t1.result, t2.result))\n",
      "AttributeError: 'ThreadReturns' object has no attribute 'result'\n",
      "Exception in thread Thread-64:\n",
      "Traceback (most recent call last):\n",
      "  File \"c:\\Users\\arunk\\Finance_project\\env\\lib\\threading.py\", line 980, in _bootstrap_inner\n",
      "    self.run()\n",
      "  File \"c:\\Users\\arunk\\Finance_project\\env\\lib\\site-packages\\nsepy\\commons.py\", line 132, in run\n",
      "    self.result = self._target(*self._args, **self._kwargs)\n",
      "  File \"c:\\Users\\arunk\\Finance_project\\env\\lib\\site-packages\\nsepy\\history.py\", line 136, in get_history\n",
      "    return pd.concat((t1.result, t2.result))\n",
      "AttributeError: 'ThreadReturns' object has no attribute 'result'\n",
      "Exception in thread Thread-62:\n",
      "Traceback (most recent call last):\n",
      "  File \"c:\\Users\\arunk\\Finance_project\\env\\lib\\threading.py\", line 980, in _bootstrap_inner\n",
      "    self.run()\n",
      "  File \"c:\\Users\\arunk\\Finance_project\\env\\lib\\site-packages\\nsepy\\commons.py\", line 132, in run\n",
      "    self.result = self._target(*self._args, **self._kwargs)\n",
      "  File \"c:\\Users\\arunk\\Finance_project\\env\\lib\\site-packages\\nsepy\\history.py\", line 136, in get_history\n",
      "    return pd.concat((t1.result, t2.result))\n",
      "AttributeError: 'ThreadReturns' object has no attribute 'result'\n",
      "Exception in thread Thread-60:\n",
      "Traceback (most recent call last):\n",
      "  File \"c:\\Users\\arunk\\Finance_project\\env\\lib\\threading.py\", line 980, in _bootstrap_inner\n",
      "    self.run()\n",
      "  File \"c:\\Users\\arunk\\Finance_project\\env\\lib\\site-packages\\nsepy\\commons.py\", line 132, in run\n",
      "    self.result = self._target(*self._args, **self._kwargs)\n",
      "  File \"c:\\Users\\arunk\\Finance_project\\env\\lib\\site-packages\\nsepy\\history.py\", line 136, in get_history\n",
      "    return pd.concat((t1.result, t2.result))\n",
      "AttributeError: 'ThreadReturns' object has no attribute 'result'\n",
      "Exception in thread Thread-58:\n",
      "Traceback (most recent call last):\n",
      "  File \"c:\\Users\\arunk\\Finance_project\\env\\lib\\threading.py\", line 980, in _bootstrap_inner\n",
      "    self.run()\n",
      "  File \"c:\\Users\\arunk\\Finance_project\\env\\lib\\site-packages\\nsepy\\commons.py\", line 132, in run\n",
      "    self.result = self._target(*self._args, **self._kwargs)\n",
      "  File \"c:\\Users\\arunk\\Finance_project\\env\\lib\\site-packages\\nsepy\\history.py\", line 136, in get_history\n",
      "    return pd.concat((t1.result, t2.result))\n",
      "AttributeError: 'ThreadReturns' object has no attribute 'result'\n",
      "Exception in thread Thread-56:\n",
      "Traceback (most recent call last):\n",
      "  File \"c:\\Users\\arunk\\Finance_project\\env\\lib\\threading.py\", line 980, in _bootstrap_inner\n",
      "    self.run()\n",
      "  File \"c:\\Users\\arunk\\Finance_project\\env\\lib\\site-packages\\nsepy\\commons.py\", line 132, in run\n",
      "    self.result = self._target(*self._args, **self._kwargs)\n",
      "  File \"c:\\Users\\arunk\\Finance_project\\env\\lib\\site-packages\\nsepy\\history.py\", line 136, in get_history\n",
      "    return pd.concat((t1.result, t2.result))\n",
      "AttributeError: 'ThreadReturns' object has no attribute 'result'\n",
      "Exception in thread Thread-54:\n",
      "Traceback (most recent call last):\n",
      "  File \"c:\\Users\\arunk\\Finance_project\\env\\lib\\threading.py\", line 980, in _bootstrap_inner\n",
      "    self.run()\n",
      "  File \"c:\\Users\\arunk\\Finance_project\\env\\lib\\site-packages\\nsepy\\commons.py\", line 132, in run\n",
      "    self.result = self._target(*self._args, **self._kwargs)\n",
      "  File \"c:\\Users\\arunk\\Finance_project\\env\\lib\\site-packages\\nsepy\\history.py\", line 136, in get_history\n",
      "    return pd.concat((t1.result, t2.result))\n",
      "AttributeError: 'ThreadReturns' object has no attribute 'result'\n"
     ]
    },
    {
     "ename": "AttributeError",
     "evalue": "'ThreadReturns' object has no attribute 'result'",
     "output_type": "error",
     "traceback": [
      "\u001b[1;31m---------------------------------------------------------------------------\u001b[0m",
      "\u001b[1;31mAttributeError\u001b[0m                            Traceback (most recent call last)",
      "Cell \u001b[1;32mIn[24], line 5\u001b[0m\n\u001b[0;32m      2\u001b[0m \u001b[39mfrom\u001b[39;00m \u001b[39mnsetools\u001b[39;00m \u001b[39mimport\u001b[39;00m Nse\n\u001b[0;32m      3\u001b[0m \u001b[39mfrom\u001b[39;00m \u001b[39mdatetime\u001b[39;00m \u001b[39mimport\u001b[39;00m date\n\u001b[1;32m----> 5\u001b[0m get_history(\u001b[39m\"\u001b[39;49m\u001b[39mniftyfin\u001b[39;49m\u001b[39m\"\u001b[39;49m,min_date,max_date)\n",
      "File \u001b[1;32mc:\\Users\\arunk\\Finance_project\\env\\lib\\site-packages\\nsepy\\history.py:136\u001b[0m, in \u001b[0;36mget_history\u001b[1;34m(symbol, start, end, index, futures, option_type, expiry_date, strike_price, series)\u001b[0m\n\u001b[0;32m    134\u001b[0m     t1\u001b[39m.\u001b[39mjoin()\n\u001b[0;32m    135\u001b[0m     t2\u001b[39m.\u001b[39mjoin()\n\u001b[1;32m--> 136\u001b[0m     \u001b[39mreturn\u001b[39;00m pd\u001b[39m.\u001b[39mconcat((t1\u001b[39m.\u001b[39;49mresult, t2\u001b[39m.\u001b[39mresult))\n\u001b[0;32m    137\u001b[0m \u001b[39melse\u001b[39;00m:\n\u001b[0;32m    138\u001b[0m     \u001b[39mreturn\u001b[39;00m get_history_quanta(\u001b[39m*\u001b[39m\u001b[39m*\u001b[39mkwargs)\n",
      "\u001b[1;31mAttributeError\u001b[0m: 'ThreadReturns' object has no attribute 'result'"
     ]
    }
   ],
   "source": [
    "\n"
=======
      "[*********************100%***********************]  1 of 1 completed\n"
     ]
    },
    {
     "data": {
      "text/html": [
       "<div>\n",
       "<style scoped>\n",
       "    .dataframe tbody tr th:only-of-type {\n",
       "        vertical-align: middle;\n",
       "    }\n",
       "\n",
       "    .dataframe tbody tr th {\n",
       "        vertical-align: top;\n",
       "    }\n",
       "\n",
       "    .dataframe thead th {\n",
       "        text-align: right;\n",
       "    }\n",
       "</style>\n",
       "<table border=\"1\" class=\"dataframe\">\n",
       "  <thead>\n",
       "    <tr style=\"text-align: right;\">\n",
       "      <th></th>\n",
       "      <th>Open</th>\n",
       "      <th>High</th>\n",
       "      <th>Low</th>\n",
       "      <th>Close</th>\n",
       "      <th>Adj Close</th>\n",
       "      <th>Volume</th>\n",
       "    </tr>\n",
       "    <tr>\n",
       "      <th>Date</th>\n",
       "      <th></th>\n",
       "      <th></th>\n",
       "      <th></th>\n",
       "      <th></th>\n",
       "      <th></th>\n",
       "      <th></th>\n",
       "    </tr>\n",
       "  </thead>\n",
       "  <tbody>\n",
       "    <tr>\n",
       "      <th>2013-12-02</th>\n",
       "      <td>194.618179</td>\n",
       "      <td>200.000000</td>\n",
       "      <td>194.618179</td>\n",
       "      <td>197.872726</td>\n",
       "      <td>177.921692</td>\n",
       "      <td>15862258</td>\n",
       "    </tr>\n",
       "    <tr>\n",
       "      <th>2013-12-03</th>\n",
       "      <td>197.427277</td>\n",
       "      <td>199.945450</td>\n",
       "      <td>196.190903</td>\n",
       "      <td>197.345459</td>\n",
       "      <td>177.447617</td>\n",
       "      <td>13775069</td>\n",
       "    </tr>\n",
       "    <tr>\n",
       "      <th>2013-12-04</th>\n",
       "      <td>196.072723</td>\n",
       "      <td>196.072723</td>\n",
       "      <td>192.772720</td>\n",
       "      <td>193.863632</td>\n",
       "      <td>174.316849</td>\n",
       "      <td>16082533</td>\n",
       "    </tr>\n",
       "    <tr>\n",
       "      <th>2013-12-05</th>\n",
       "      <td>201.545456</td>\n",
       "      <td>207.363632</td>\n",
       "      <td>201.545456</td>\n",
       "      <td>206.518188</td>\n",
       "      <td>185.695480</td>\n",
       "      <td>43417099</td>\n",
       "    </tr>\n",
       "    <tr>\n",
       "      <th>2013-12-06</th>\n",
       "      <td>206.436356</td>\n",
       "      <td>208.654541</td>\n",
       "      <td>204.163635</td>\n",
       "      <td>207.981812</td>\n",
       "      <td>187.011520</td>\n",
       "      <td>18361233</td>\n",
       "    </tr>\n",
       "    <tr>\n",
       "      <th>...</th>\n",
       "      <td>...</td>\n",
       "      <td>...</td>\n",
       "      <td>...</td>\n",
       "      <td>...</td>\n",
       "      <td>...</td>\n",
       "      <td>...</td>\n",
       "    </tr>\n",
       "    <tr>\n",
       "      <th>2022-11-24</th>\n",
       "      <td>927.549988</td>\n",
       "      <td>940.650024</td>\n",
       "      <td>927.549988</td>\n",
       "      <td>938.849976</td>\n",
       "      <td>938.849976</td>\n",
       "      <td>10844395</td>\n",
       "    </tr>\n",
       "    <tr>\n",
       "      <th>2022-11-25</th>\n",
       "      <td>940.299988</td>\n",
       "      <td>942.900024</td>\n",
       "      <td>927.500000</td>\n",
       "      <td>930.299988</td>\n",
       "      <td>930.299988</td>\n",
       "      <td>9815055</td>\n",
       "    </tr>\n",
       "    <tr>\n",
       "      <th>2022-11-28</th>\n",
       "      <td>924.000000</td>\n",
       "      <td>943.799988</td>\n",
       "      <td>923.950012</td>\n",
       "      <td>937.400024</td>\n",
       "      <td>937.400024</td>\n",
       "      <td>9381474</td>\n",
       "    </tr>\n",
       "    <tr>\n",
       "      <th>2022-11-29</th>\n",
       "      <td>933.549988</td>\n",
       "      <td>949.900024</td>\n",
       "      <td>933.549988</td>\n",
       "      <td>946.750000</td>\n",
       "      <td>946.750000</td>\n",
       "      <td>13096845</td>\n",
       "    </tr>\n",
       "    <tr>\n",
       "      <th>2022-11-30</th>\n",
       "      <td>948.049988</td>\n",
       "      <td>958.200012</td>\n",
       "      <td>941.000000</td>\n",
       "      <td>952.900024</td>\n",
       "      <td>952.900024</td>\n",
       "      <td>20858573</td>\n",
       "    </tr>\n",
       "  </tbody>\n",
       "</table>\n",
       "<p>2219 rows × 6 columns</p>\n",
       "</div>"
      ],
      "text/plain": [
       "                  Open        High         Low       Close   Adj Close  \\\n",
       "Date                                                                     \n",
       "2013-12-02  194.618179  200.000000  194.618179  197.872726  177.921692   \n",
       "2013-12-03  197.427277  199.945450  196.190903  197.345459  177.447617   \n",
       "2013-12-04  196.072723  196.072723  192.772720  193.863632  174.316849   \n",
       "2013-12-05  201.545456  207.363632  201.545456  206.518188  185.695480   \n",
       "2013-12-06  206.436356  208.654541  204.163635  207.981812  187.011520   \n",
       "...                ...         ...         ...         ...         ...   \n",
       "2022-11-24  927.549988  940.650024  927.549988  938.849976  938.849976   \n",
       "2022-11-25  940.299988  942.900024  927.500000  930.299988  930.299988   \n",
       "2022-11-28  924.000000  943.799988  923.950012  937.400024  937.400024   \n",
       "2022-11-29  933.549988  949.900024  933.549988  946.750000  946.750000   \n",
       "2022-11-30  948.049988  958.200012  941.000000  952.900024  952.900024   \n",
       "\n",
       "              Volume  \n",
       "Date                  \n",
       "2013-12-02  15862258  \n",
       "2013-12-03  13775069  \n",
       "2013-12-04  16082533  \n",
       "2013-12-05  43417099  \n",
       "2013-12-06  18361233  \n",
       "...              ...  \n",
       "2022-11-24  10844395  \n",
       "2022-11-25   9815055  \n",
       "2022-11-28   9381474  \n",
       "2022-11-29  13096845  \n",
       "2022-11-30  20858573  \n",
       "\n",
       "[2219 rows x 6 columns]"
      ]
     },
     "execution_count": 22,
     "metadata": {},
     "output_type": "execute_result"
    }
   ],
   "source": [
    "import yfinance as yf\n",
    "\n",
    "# Get the data for the stock AAPL\n",
    "data = yf.download('ICICIBANK.NS','2013-12-01','2022-12-01')\n",
    "data\n"
>>>>>>> 757b49a (EDA updated with ICICI index)
   ]
  },
  {
   "cell_type": "code",
   "execution_count": 23,
   "metadata": {},
   "outputs": [
    {
     "data": {
      "image/png": "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",
      "text/plain": [
       "<Figure size 640x480 with 1 Axes>"
      ]
     },
     "metadata": {},
     "output_type": "display_data"
    }
   ],
   "source": [
    "# Import the plotting library\n",
    "import matplotlib.pyplot as plt\n",
    "%matplotlib inline\n",
    "\n",
    "# Plot the close price of the AAPL\n",
    "data['Adj Close'].plot()\n",
    "plt.show()"
   ]
  },
  {
   "cell_type": "code",
   "execution_count": null,
>>>>>>> cda04ae (Update)
   "metadata": {},
   "outputs": [
    {
     "data": {
      "text/html": [
       "<div>\n",
       "<style scoped>\n",
       "    .dataframe tbody tr th:only-of-type {\n",
       "        vertical-align: middle;\n",
       "    }\n",
       "\n",
       "    .dataframe tbody tr th {\n",
       "        vertical-align: top;\n",
       "    }\n",
       "\n",
       "    .dataframe thead th {\n",
       "        text-align: right;\n",
       "    }\n",
       "</style>\n",
       "<table border=\"1\" class=\"dataframe\">\n",
       "  <thead>\n",
       "    <tr style=\"text-align: right;\">\n",
       "      <th></th>\n",
       "      <th>date</th>\n",
       "      <th>Customer ID</th>\n",
       "      <th>Txn. Type</th>\n",
       "      <th>Close</th>\n",
       "      <th>Occupation</th>\n",
       "      <th>Risk Appetite</th>\n",
       "    </tr>\n",
       "  </thead>\n",
       "  <tbody>\n",
       "    <tr>\n",
       "      <th>0</th>\n",
       "      <td>2022-11-01</td>\n",
       "      <td>131015</td>\n",
       "      <td>P</td>\n",
       "      <td>18606.4</td>\n",
       "      <td>Salaried</td>\n",
       "      <td>High</td>\n",
       "    </tr>\n",
       "    <tr>\n",
       "      <th>1</th>\n",
       "      <td>2022-11-01</td>\n",
       "      <td>131006</td>\n",
       "      <td>P</td>\n",
       "      <td>18606.4</td>\n",
       "      <td>Salaried</td>\n",
       "      <td>High</td>\n",
       "    </tr>\n",
       "    <tr>\n",
       "      <th>2</th>\n",
       "      <td>2022-11-01</td>\n",
       "      <td>131005</td>\n",
       "      <td>P</td>\n",
       "      <td>18606.4</td>\n",
       "      <td>Salaried</td>\n",
       "      <td>Low</td>\n",
       "    </tr>\n",
       "    <tr>\n",
       "      <th>3</th>\n",
       "      <td>2022-11-01</td>\n",
       "      <td>130988</td>\n",
       "      <td>P</td>\n",
       "      <td>18606.4</td>\n",
       "      <td>Salaried</td>\n",
       "      <td>Medium</td>\n",
       "    </tr>\n",
       "    <tr>\n",
       "      <th>4</th>\n",
       "      <td>2022-11-01</td>\n",
       "      <td>130986</td>\n",
       "      <td>P</td>\n",
       "      <td>18606.4</td>\n",
       "      <td>Salaried</td>\n",
       "      <td>Low</td>\n",
       "    </tr>\n",
       "    <tr>\n",
       "      <th>...</th>\n",
       "      <td>...</td>\n",
       "      <td>...</td>\n",
       "      <td>...</td>\n",
       "      <td>...</td>\n",
       "      <td>...</td>\n",
       "      <td>...</td>\n",
       "    </tr>\n",
       "    <tr>\n",
       "      <th>639423</th>\n",
       "      <td>2014-10-01</td>\n",
       "      <td>22726</td>\n",
       "      <td>P</td>\n",
       "      <td>6298.8</td>\n",
       "      <td>Salaried</td>\n",
       "      <td>High</td>\n",
       "    </tr>\n",
       "    <tr>\n",
       "      <th>640082</th>\n",
       "      <td>2014-10-01</td>\n",
       "      <td>18359</td>\n",
       "      <td>P</td>\n",
       "      <td>6298.8</td>\n",
       "      <td>Self-Employed</td>\n",
       "      <td>Medium</td>\n",
       "    </tr>\n",
       "    <tr>\n",
       "      <th>641925</th>\n",
       "      <td>2014-10-01</td>\n",
       "      <td>8445</td>\n",
       "      <td>R</td>\n",
       "      <td>6298.8</td>\n",
       "      <td>Self-Employed</td>\n",
       "      <td>Medium</td>\n",
       "    </tr>\n",
       "    <tr>\n",
       "      <th>641960</th>\n",
       "      <td>2014-10-01</td>\n",
       "      <td>7361</td>\n",
       "      <td>P</td>\n",
       "      <td>6298.8</td>\n",
       "      <td>Self-Employed</td>\n",
       "      <td>Medium</td>\n",
       "    </tr>\n",
       "    <tr>\n",
       "      <th>642001</th>\n",
       "      <td>2014-10-01</td>\n",
       "      <td>5916</td>\n",
       "      <td>SI</td>\n",
       "      <td>6298.8</td>\n",
       "      <td>Self-Employed</td>\n",
       "      <td>Low</td>\n",
       "    </tr>\n",
       "  </tbody>\n",
       "</table>\n",
       "<p>642087 rows × 6 columns</p>\n",
       "</div>"
      ],
      "text/plain": [
       "             date  Customer ID Txn. Type    Close     Occupation Risk Appetite\n",
       "0      2022-11-01       131015         P  18606.4       Salaried          High\n",
       "1      2022-11-01       131006         P  18606.4       Salaried          High\n",
       "2      2022-11-01       131005         P  18606.4       Salaried           Low\n",
       "3      2022-11-01       130988         P  18606.4       Salaried        Medium\n",
       "4      2022-11-01       130986         P  18606.4       Salaried           Low\n",
       "...           ...          ...       ...      ...            ...           ...\n",
       "639423 2014-10-01        22726         P   6298.8       Salaried          High\n",
       "640082 2014-10-01        18359         P   6298.8  Self-Employed        Medium\n",
       "641925 2014-10-01         8445         R   6298.8  Self-Employed        Medium\n",
       "641960 2014-10-01         7361         P   6298.8  Self-Employed        Medium\n",
       "642001 2014-10-01         5916        SI   6298.8  Self-Employed           Low\n",
       "\n",
       "[642087 rows x 6 columns]"
      ]
     },
     "execution_count": 185,
     "metadata": {},
     "output_type": "execute_result"
    }
   ],
   "source": [
    "df_raw.join(cust_data.set_index(\"Customer ID\"),how='inner', on='Customer ID')"
   ]
  },
  {
   "cell_type": "code",
   "execution_count": 204,
   "metadata": {},
   "outputs": [],
   "source": [
    "\n",
    "df_raw.isnull().sum()\n",
    "df = df_raw.copy()\n",
    "\n",
    "# Renaming Columns as per fb conventions \n",
    "df.rename(columns={'date':'ds', \"Txn. Type\":'y'},inplace=True)\n",
    "transactions = ['R','P']\n",
    "\n",
    "df = df[df['y'].isin(transactions)]\n",
    "#  Cleaning\n",
    "df.drop(columns = \"Customer ID\", inplace=True)\n",
    "df.drop_duplicates()\n",
    "\n",
    "# encoding Target columns\n",
    "df.replace({'R':1,'P':0},inplace=True)"
   ]
  },
  {
   "cell_type": "code",
   "execution_count": 205,
   "metadata": {},
   "outputs": [
    {
     "data": {
      "text/html": [
       "<div>\n",
       "<style scoped>\n",
       "    .dataframe tbody tr th:only-of-type {\n",
       "        vertical-align: middle;\n",
       "    }\n",
       "\n",
       "    .dataframe tbody tr th {\n",
       "        vertical-align: top;\n",
       "    }\n",
       "\n",
       "    .dataframe thead th {\n",
       "        text-align: right;\n",
       "    }\n",
       "</style>\n",
       "<table border=\"1\" class=\"dataframe\">\n",
       "  <thead>\n",
       "    <tr style=\"text-align: right;\">\n",
       "      <th></th>\n",
       "      <th>ds</th>\n",
       "      <th>y</th>\n",
       "      <th>Close</th>\n",
       "    </tr>\n",
       "  </thead>\n",
       "  <tbody>\n",
       "    <tr>\n",
       "      <th>0</th>\n",
       "      <td>2022-11-01</td>\n",
       "      <td>0</td>\n",
       "      <td>0.947876</td>\n",
       "    </tr>\n",
       "    <tr>\n",
       "      <th>1</th>\n",
       "      <td>2022-11-01</td>\n",
       "      <td>0</td>\n",
       "      <td>0.947876</td>\n",
       "    </tr>\n",
       "    <tr>\n",
       "      <th>2</th>\n",
       "      <td>2022-11-01</td>\n",
       "      <td>0</td>\n",
       "      <td>0.947876</td>\n",
       "    </tr>\n",
       "    <tr>\n",
       "      <th>3</th>\n",
       "      <td>2022-11-01</td>\n",
       "      <td>0</td>\n",
       "      <td>0.947876</td>\n",
       "    </tr>\n",
       "    <tr>\n",
       "      <th>4</th>\n",
       "      <td>2022-11-01</td>\n",
       "      <td>0</td>\n",
       "      <td>0.947876</td>\n",
       "    </tr>\n",
       "    <tr>\n",
       "      <th>...</th>\n",
       "      <td>...</td>\n",
       "      <td>...</td>\n",
       "      <td>...</td>\n",
       "    </tr>\n",
       "    <tr>\n",
       "      <th>642080</th>\n",
       "      <td>2014-10-01</td>\n",
       "      <td>0</td>\n",
       "      <td>0.106702</td>\n",
       "    </tr>\n",
       "    <tr>\n",
       "      <th>642081</th>\n",
       "      <td>2014-10-01</td>\n",
       "      <td>0</td>\n",
       "      <td>0.106702</td>\n",
       "    </tr>\n",
       "    <tr>\n",
       "      <th>642082</th>\n",
       "      <td>2014-10-01</td>\n",
       "      <td>0</td>\n",
       "      <td>0.106702</td>\n",
       "    </tr>\n",
       "    <tr>\n",
       "      <th>642084</th>\n",
       "      <td>2014-10-01</td>\n",
       "      <td>0</td>\n",
       "      <td>0.106702</td>\n",
       "    </tr>\n",
       "    <tr>\n",
       "      <th>642085</th>\n",
       "      <td>2014-10-01</td>\n",
       "      <td>0</td>\n",
       "      <td>0.106702</td>\n",
       "    </tr>\n",
       "  </tbody>\n",
       "</table>\n",
       "<p>597971 rows × 3 columns</p>\n",
       "</div>"
      ],
      "text/plain": [
       "               ds  y     Close\n",
       "0      2022-11-01  0  0.947876\n",
       "1      2022-11-01  0  0.947876\n",
       "2      2022-11-01  0  0.947876\n",
       "3      2022-11-01  0  0.947876\n",
       "4      2022-11-01  0  0.947876\n",
       "...           ... ..       ...\n",
       "642080 2014-10-01  0  0.106702\n",
       "642081 2014-10-01  0  0.106702\n",
       "642082 2014-10-01  0  0.106702\n",
       "642084 2014-10-01  0  0.106702\n",
       "642085 2014-10-01  0  0.106702\n",
       "\n",
       "[597971 rows x 3 columns]"
      ]
     },
     "metadata": {},
     "output_type": "display_data"
    }
   ],
   "source": [
    "# copy the data\n",
    "df_min_max_scaled = df.copy()\n",
    "\n",
    "\n",
    "# Scaling\n",
    "# apply normalization techniques by Column\n",
    "column = 'Close'\n",
    "df_min_max_scaled[column] = (df_min_max_scaled[column] - df_min_max_scaled[column].min()) / (df_min_max_scaled[column].max() - df_min_max_scaled[column].min())\t\n",
    "\n",
    "# view normalized data\n",
    "display(df_min_max_scaled)\n",
    "\n",
    "# Copy df for fbprophet abd other models\n",
    "\n",
    "df_fb = df_min_max_scaled.copy()"
   ]
  },
  {
   "attachments": {},
   "cell_type": "markdown",
   "metadata": {},
   "source": [
    "## fbprophet"
   ]
  },
  {
   "cell_type": "code",
   "execution_count": 226,
   "metadata": {},
   "outputs": [],
   "source": [
    "df_fb2  = df_fb.copy(deep=True)\n",
    "df_fb2.drop(columns='Close', inplace=True)"
   ]
  },
  {
   "cell_type": "code",
   "execution_count": 228,
   "metadata": {},
   "outputs": [
    {
     "data": {
      "text/plain": [
       "ds       datetime64[ns]\n",
       "y                 int64\n",
       "Close           float64\n",
       "dtype: object"
      ]
     },
     "execution_count": 228,
     "metadata": {},
     "output_type": "execute_result"
    }
   ],
   "source": [
    "df_fb.dtypes"
   ]
  },
  {
   "cell_type": "code",
   "execution_count": 229,
   "metadata": {},
   "outputs": [],
   "source": [
    "from sklearn.model_selection import train_test_split\n",
    "X_train_fb, X_test_fb = train_test_split(df_fb, test_size=0.2)"
   ]
  },
  {
   "cell_type": "code",
   "execution_count": 224,
   "metadata": {},
   "outputs": [
    {
     "name": "stdout",
     "output_type": "stream",
     "text": [
      "(478376, 2)\n",
      "(119595, 2)\n",
      "ds    datetime64[ns]\n",
      "y              int64\n",
      "dtype: object\n",
      "[0 1]\n",
      "0    579253\n",
      "1     18718\n",
      "Name: y, dtype: int64\n"
     ]
    }
   ],
   "source": [
    "print(X_train_fb.shape)\n",
    "print(X_test_fb.shape)\n",
    "print(df_fb.dtypes)\n",
    "print(df_fb[\"y\"].unique())\n",
    "print(df_fb[\"y\"].value_counts())"
   ]
  },
  {
   "cell_type": "code",
   "execution_count": 230,
   "metadata": {},
   "outputs": [
    {
     "data": {
      "text/plain": [
       "ds       datetime64[ns]\n",
       "y                 int64\n",
       "Close           float64\n",
       "dtype: object"
      ]
     },
     "execution_count": 230,
     "metadata": {},
     "output_type": "execute_result"
    }
   ],
   "source": [
    "X_train_fb.dtypes"
   ]
  },
  {
   "cell_type": "markdown",
   "metadata": {},
   "source": [
    "##### Predict with no additional column"
   ]
  },
  {
   "cell_type": "code",
   "execution_count": 231,
   "metadata": {},
   "outputs": [
    {
     "name": "stderr",
     "output_type": "stream",
     "text": [
      "INFO:fbprophet:Disabling weekly seasonality. Run prophet with weekly_seasonality=True to override this.\n",
      "INFO:fbprophet:Disabling daily seasonality. Run prophet with daily_seasonality=True to override this.\n"
     ]
    },
    {
     "data": {
      "text/plain": [
       "<fbprophet.forecaster.Prophet at 0x1b7ab3e7a48>"
      ]
     },
     "execution_count": 231,
     "metadata": {},
     "output_type": "execute_result"
    }
   ],
   "source": [
    "from fbprophet import Prophet\n",
    "m = Prophet()\n",
    "m.fit(X_train_fb)"
   ]
  },
  {
   "cell_type": "code",
   "execution_count": 234,
   "metadata": {},
   "outputs": [
    {
     "name": "stdout",
     "output_type": "stream",
     "text": [
      "           ds      yhat  yhat_lower  yhat_upper\n",
      "0  2014-01-01  0.014656   -0.211073    0.237419\n",
      "1  2014-04-01  0.005525   -0.216286    0.225329\n",
      "2  2014-07-01  0.005147   -0.202258    0.237239\n",
      "3  2014-08-01  0.010539   -0.197719    0.226792\n",
      "4  2014-09-01  0.011746   -0.205964    0.233081\n",
      "..        ...       ...         ...         ...\n",
      "92 2022-12-22 -0.140467   -0.374919    0.094826\n",
      "93 2022-12-23 -0.126175   -0.337907    0.078854\n",
      "94 2022-12-24 -0.109645   -0.325874    0.098902\n",
      "95 2022-12-25 -0.091245   -0.313230    0.137513\n",
      "96 2022-12-26 -0.071390   -0.297555    0.144282\n",
      "\n",
      "[97 rows x 4 columns]\n"
     ]
    }
   ],
   "source": [
    "future_dates = m.make_future_dataframe(periods=25)\n",
    "future_dates['y'] = X_test_fb['y']\n",
    "forecast = m.predict(future_dates)\n",
    "print(forecast[['ds', 'yhat', 'yhat_lower', 'yhat_upper']])"
   ]
  },
  {
   "cell_type": "code",
   "execution_count": 233,
   "metadata": {},
   "outputs": [
    {
     "data": {
      "image/png": "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",
      "text/plain": [
       "<Figure size 640x480 with 1 Axes>"
      ]
     },
     "metadata": {},
     "output_type": "display_data"
    }
   ],
   "source": [
    "import matplotlib.pyplot as plt\n",
    "\n",
    "# Plot the actual data\n",
    "plt.plot(X_train_fb['ds'], X_train_fb['y'], label='Actual')\n",
    "\n",
    "# Plot the forecasted values\n",
    "plt.plot(forecast['ds'], forecast['yhat'], label='Forecast')\n",
    "\n",
    "# Plot the uncertainty interval\n",
    "plt.fill_between(forecast['ds'], forecast['yhat_upper'], forecast['yhat_lower'], alpha=0.2)\n",
    "\n",
    "# Add labels and legend\n",
    "plt.xlabel('Date')\n",
    "plt.ylabel('Value')\n",
    "plt.title('Forecast with Prophet')\n",
    "plt.legend()\n",
    "\n",
    "# Show the plot\n",
    "plt.show()\n"
   ]
  },
  {
   "cell_type": "markdown",
   "metadata": {},
   "source": [
    "##### Predict with additional feature"
   ]
  },
  {
   "cell_type": "code",
   "execution_count": null,
   "metadata": {},
   "outputs": [],
   "source": [
    "model = Prophet()\n",
    "\n",
    "# Add additional regressor columns to the model\n",
    "model.add_regressor('Close')\n",
    "\n",
    "# Fit the model to the data\n",
    "model.fit(X_train_fb)\n",
    "\n",
    "# Make a forecast for the next 30 days\n",
    "future_dates = model.make_future_dataframe(periods=30)\n"
   ]
  },
  {
   "cell_type": "code",
   "execution_count": 237,
   "metadata": {},
   "outputs": [
    {
     "name": "stdout",
     "output_type": "stream",
     "text": [
      "0.00686386447030099\n"
     ]
    }
   ],
   "source": [
    "#  Make a DataFrame with the date for which you want to predict the y value\n",
    "future_date = pd.DataFrame({'ds': X_test_fb[\"ds\"], 'Close': X_test_fb[\"Close\"]})\n",
    "\n",
    "# Predict the y value for the future date\n",
    "forecast = model.predict(future_date)\n",
    "\n",
    "# Print the predicted y value\n",
    "print(forecast['yhat'].values[0])\n"
   ]
  },
  {
   "cell_type": "code",
   "execution_count": 238,
   "metadata": {},
   "outputs": [
    {
     "name": "stdout",
     "output_type": "stream",
     "text": [
      "               ds      yhat  yhat_lower  yhat_upper\n",
      "0      2014-01-01  0.006864   -0.206611    0.239318\n",
      "1      2014-01-01  0.006864   -0.212320    0.229306\n",
      "2      2014-01-01  0.006864   -0.212011    0.225952\n",
      "3      2014-01-01  0.006864   -0.214920    0.219125\n",
      "4      2014-01-01  0.006864   -0.202191    0.224756\n",
      "...           ...       ...         ...         ...\n",
      "119590 2022-12-01  0.068316   -0.175216    0.300434\n",
      "119591 2022-12-01  0.068316   -0.148453    0.299889\n",
      "119592 2022-12-01  0.068316   -0.156512    0.290033\n",
      "119593 2022-12-01  0.068316   -0.160870    0.302420\n",
      "119594 2022-12-01  0.068316   -0.150729    0.288511\n",
      "\n",
      "[119595 rows x 4 columns]\n"
     ]
    }
   ],
   "source": [
    "print(forecast[['ds', 'yhat', 'yhat_lower', 'yhat_upper']])"
   ]
  },
  {
   "cell_type": "code",
   "execution_count": null,
   "metadata": {},
   "outputs": [],
   "source": [
    "import matplotlib.pyplot as plt\n",
    "\n",
    "# Plot the predicted values\n",
    "plt.plot(forecast['ds'], forecast['yhat'], label='Predicted')\n",
    "\n",
    "# Plot the actual values\n",
    "plt.plot(X_test_fb['ds'], X_test_fb['y'], label='Actual')\n",
    "\n",
    "plt.xlabel('Date')\n",
    "plt.ylabel('Redemption/Purchase behavior')\n",
    "plt.title('Predicted vs Actual')\n",
    "plt.legend()\n",
    "plt.show()"
   ]
  },
  {
   "cell_type": "code",
   "execution_count": null,
   "metadata": {},
   "outputs": [],
   "source": [
    "model.plot_components(forecast)\n",
    "plt.show()\n"
   ]
  },
  {
   "cell_type": "code",
   "execution_count": null,
   "metadata": {},
   "outputs": [],
   "source": [
    "from sklearn.metrics import mean_absolute_error, mean_squared_error\n",
    "\n",
    "# Compute the MAE and MSE\n",
    "mae = mean_absolute_error(X_test_fb['y'], forecast['yhat'])\n",
    "mse = mean_squared_error(X_test_fb['y'], forecast['yhat'])\n",
    "\n",
    "print('MAE:', mae)\n",
    "print('MSE:', mse)\n"
   ]
  },
  {
   "cell_type": "markdown",
   "metadata": {},
   "source": [
    "#### SVM "
   ]
  },
  {
   "cell_type": "code",
   "execution_count": 246,
   "metadata": {},
   "outputs": [
    {
     "data": {
      "text/html": [
       "<div>\n",
       "<style scoped>\n",
       "    .dataframe tbody tr th:only-of-type {\n",
       "        vertical-align: middle;\n",
       "    }\n",
       "\n",
       "    .dataframe tbody tr th {\n",
       "        vertical-align: top;\n",
       "    }\n",
       "\n",
       "    .dataframe thead th {\n",
       "        text-align: right;\n",
       "    }\n",
       "</style>\n",
       "<table border=\"1\" class=\"dataframe\">\n",
       "  <thead>\n",
       "    <tr style=\"text-align: right;\">\n",
       "      <th></th>\n",
       "      <th>ds</th>\n",
       "      <th>y</th>\n",
       "      <th>Close</th>\n",
       "    </tr>\n",
       "  </thead>\n",
       "  <tbody>\n",
       "    <tr>\n",
       "      <th>0</th>\n",
       "      <td>738460.0</td>\n",
       "      <td>0</td>\n",
       "      <td>0.947876</td>\n",
       "    </tr>\n",
       "    <tr>\n",
       "      <th>1</th>\n",
       "      <td>738460.0</td>\n",
       "      <td>0</td>\n",
       "      <td>0.947876</td>\n",
       "    </tr>\n",
       "    <tr>\n",
       "      <th>2</th>\n",
       "      <td>738460.0</td>\n",
       "      <td>0</td>\n",
       "      <td>0.947876</td>\n",
       "    </tr>\n",
       "    <tr>\n",
       "      <th>3</th>\n",
       "      <td>738460.0</td>\n",
       "      <td>0</td>\n",
       "      <td>0.947876</td>\n",
       "    </tr>\n",
       "    <tr>\n",
       "      <th>4</th>\n",
       "      <td>738460.0</td>\n",
       "      <td>0</td>\n",
       "      <td>0.947876</td>\n",
       "    </tr>\n",
       "  </tbody>\n",
       "</table>\n",
       "</div>"
      ],
      "text/plain": [
       "         ds  y     Close\n",
       "0  738460.0  0  0.947876\n",
       "1  738460.0  0  0.947876\n",
       "2  738460.0  0  0.947876\n",
       "3  738460.0  0  0.947876\n",
       "4  738460.0  0  0.947876"
      ]
     },
     "execution_count": 246,
     "metadata": {},
     "output_type": "execute_result"
    }
   ],
   "source": [
    "df_svm = df_min_max_scaled.copy()\n",
    "import matplotlib.dates as mdates\n",
    "\n",
    "# change the dates into ints for training \n",
    "dates_df = df_min_max_scaled.copy()\n",
    "# dates_df = dates_df.reset_index()\n",
    "\n",
    "# Store the original dates for plotting the predicitons\n",
    "org_dates = dates_df['ds']\n",
    "\n",
    "# convert to ints\n",
    "dates_df['ds'] = dates_df['ds'].map(mdates.date2num)\n",
    "\n",
    "dates_df.head()"
   ]
  },
  {
   "cell_type": "code",
   "execution_count": 241,
   "metadata": {},
   "outputs": [],
   "source": [
    "# df_svm['ds'] = pd.to_numeric(df_svm['ds'])"
   ]
  },
  {
   "cell_type": "code",
   "execution_count": 248,
   "metadata": {},
   "outputs": [
    {
     "data": {
      "text/html": [
       "<div>\n",
       "<style scoped>\n",
       "    .dataframe tbody tr th:only-of-type {\n",
       "        vertical-align: middle;\n",
       "    }\n",
       "\n",
       "    .dataframe tbody tr th {\n",
       "        vertical-align: top;\n",
       "    }\n",
       "\n",
       "    .dataframe thead th {\n",
       "        text-align: right;\n",
       "    }\n",
       "</style>\n",
       "<table border=\"1\" class=\"dataframe\">\n",
       "  <thead>\n",
       "    <tr style=\"text-align: right;\">\n",
       "      <th></th>\n",
       "      <th>ds</th>\n",
       "      <th>Close</th>\n",
       "    </tr>\n",
       "  </thead>\n",
       "  <tbody>\n",
       "    <tr>\n",
       "      <th>639842</th>\n",
       "      <td>735507.0</td>\n",
       "      <td>0.106702</td>\n",
       "    </tr>\n",
       "    <tr>\n",
       "      <th>599026</th>\n",
       "      <td>735842.0</td>\n",
       "      <td>0.139815</td>\n",
       "    </tr>\n",
       "    <tr>\n",
       "      <th>542163</th>\n",
       "      <td>738368.0</td>\n",
       "      <td>0.878013</td>\n",
       "    </tr>\n",
       "    <tr>\n",
       "      <th>169490</th>\n",
       "      <td>736907.0</td>\n",
       "      <td>0.468351</td>\n",
       "    </tr>\n",
       "    <tr>\n",
       "      <th>373988</th>\n",
       "      <td>737241.0</td>\n",
       "      <td>0.612250</td>\n",
       "    </tr>\n",
       "    <tr>\n",
       "      <th>...</th>\n",
       "      <td>...</td>\n",
       "      <td>...</td>\n",
       "    </tr>\n",
       "    <tr>\n",
       "      <th>351258</th>\n",
       "      <td>737822.0</td>\n",
       "      <td>0.749403</td>\n",
       "    </tr>\n",
       "    <tr>\n",
       "      <th>10044</th>\n",
       "      <td>738460.0</td>\n",
       "      <td>0.947876</td>\n",
       "    </tr>\n",
       "    <tr>\n",
       "      <th>452147</th>\n",
       "      <td>736299.0</td>\n",
       "      <td>0.191102</td>\n",
       "    </tr>\n",
       "    <tr>\n",
       "      <th>445260</th>\n",
       "      <td>738307.0</td>\n",
       "      <td>0.804069</td>\n",
       "    </tr>\n",
       "    <tr>\n",
       "      <th>615703</th>\n",
       "      <td>738187.0</td>\n",
       "      <td>0.910549</td>\n",
       "    </tr>\n",
       "  </tbody>\n",
       "</table>\n",
       "<p>119595 rows × 2 columns</p>\n",
       "</div>"
      ],
      "text/plain": [
       "              ds     Close\n",
       "639842  735507.0  0.106702\n",
       "599026  735842.0  0.139815\n",
       "542163  738368.0  0.878013\n",
       "169490  736907.0  0.468351\n",
       "373988  737241.0  0.612250\n",
       "...          ...       ...\n",
       "351258  737822.0  0.749403\n",
       "10044   738460.0  0.947876\n",
       "452147  736299.0  0.191102\n",
       "445260  738307.0  0.804069\n",
       "615703  738187.0  0.910549\n",
       "\n",
       "[119595 rows x 2 columns]"
      ]
     },
     "metadata": {},
     "output_type": "display_data"
    }
   ],
   "source": [
    "from sklearn.model_selection import train_test_split\n",
    "\n",
    "X= dates_df.drop(columns=[\"y\"], axis=1)\n",
    "y = dates_df['y']\n",
    "X_train, X_test, y_train, y_test = train_test_split(X,y,test_size=0.2,random_state=42)\n",
    "display(X_test)\n"
   ]
  },
  {
   "cell_type": "code",
   "execution_count": 251,
   "metadata": {},
   "outputs": [],
   "source": [
    "from sklearn.svm import SVR\n",
    "import numpy as np\n",
    "\n",
    "\n",
    "svr_rbf = SVR(kernel= 'rbf', C= 1e3, gamma= 0.1)\n",
    "svr_rbf.fit(X_train, y_train)\n",
    "\n",
    "plt.figure(figsize = (12,6))\n",
    "plt.plot(X_train['ds'], y, color= 'black', label= 'Data')\n",
    "plt.plot(org_dates, svr_rbf.predict(X_train['ds']), color= 'red', label= 'RBF model') \n",
    "plt.xlabel('Date')\n",
    "plt.ylabel('Tranactions Type')\n",
    "plt.legend()\n",
    "plt.show()"
=======
   "execution_count": 19,
   "metadata": {},
   "outputs": [
    {
     "name": "stdout",
     "output_type": "stream",
     "text": [
      "2013-12-01 00:00:00 2022-12-01 00:00:00\n"
     ]
    }
   ],
   "source": [
    "min_date = red_data[\"date\"].min()\n",
    "max_date = red_data[\"date\"].max()\n",
    "print(min_date,max_date)"
>>>>>>> ef51da1 (eda requirements added)
   ]
  },
  {
   "cell_type": "code",
   "execution_count": null,
   "metadata": {},
   "outputs": [],
   "source": [
    "from common.utils import mape\n",
    "# Print MAPE for training data\n",
    "print('MAPE for training data: ', mape(y_train_pred, y_train)*100, '%')\n",
    "\n",
    "print('MAPE for testing data: ', mape(y_test_pred, y_test)*100, '%')"
   ]
<<<<<<< HEAD
=======
>>>>>>> 3fab99f339b890a772515496037519492a613854
>>>>>>> 5862058068ce0eeef40f1570094cd738353c4e55
  }
 ],
 "metadata": {
  "kernelspec": {
   "display_name": "Python 3",
   "language": "python",
   "name": "python3"
  },
  "language_info": {
<<<<<<< HEAD
<<<<<<< HEAD
=======
>>>>>>> f7a0ac6 (eda requirements added)
   "codemirror_mode": {
    "name": "ipython",
    "version": 3
   },
   "file_extension": ".py",
   "mimetype": "text/x-python",
<<<<<<< HEAD
   "name": "python",
   "nbconvert_exporter": "python",
   "pygments_lexer": "ipython3",
=======
   "name": "python",
>>>>>>> 96accbe (FOLDER Structure)
=======
   "name": "python",
   "nbconvert_exporter": "python",
   "pygments_lexer": "ipython3",
<<<<<<< HEAD
<<<<<<< HEAD
   "version": "3.7.16"
=======
=======
>>>>>>> f7a0ac6 (eda requirements added)
>>>>>>> 72d93bd8b5917840363920e1ceaf3864accc6cb8
   "version": "3.9.16"
>>>>>>> ef51da1 (eda requirements added)
  },
  "orig_nbformat": 4
 },
 "nbformat": 4,
 "nbformat_minor": 2
}

{
 "cells": [
  {
   "cell_type": "code",
   "execution_count": 1,
   "metadata": {},
   "outputs": [
    {
     "data": {
      "text/plain": [
       "'C:\\\\Users\\\\arunk\\\\Finance_project'"
      ]
     },
     "execution_count": 1,
     "metadata": {},
     "output_type": "execute_result"
    }
   ],
   "source": [
    "import os \n",
    "import pandas as pd\n",
    "os.chdir(r\"C:\\Users\\arunk\\Finance_project\")\n",
    "os.getcwd()\n"
   ]
  },
  {
   "cell_type": "code",
   "execution_count": 2,
   "metadata": {},
   "outputs": [
    {
     "name": "stderr",
     "output_type": "stream",
     "text": [
      "c:\\Users\\arunk\\Finance_project\\Finance_project\\lib\\site-packages\\IPython\\core\\interactiveshell.py:3552: DtypeWarning: Columns (11) have mixed types.Specify dtype option on import or set low_memory=False.\n",
      "  exec(code_obj, self.user_global_ns, self.user_ns)\n"
     ]
    },
    {
     "name": "stdout",
     "output_type": "stream",
     "text": [
      "<class 'pandas.core.frame.DataFrame'>\n",
      "RangeIndex: 946207 entries, 0 to 946206\n",
      "Data columns (total 12 columns):\n",
      " #   Column           Non-Null Count   Dtype         \n",
      "---  ------           --------------   -----         \n",
      " 0   date             946207 non-null  datetime64[ns]\n",
      " 1   Customer ID      946207 non-null  int64         \n",
      " 2   FA ID            946207 non-null  int64         \n",
      " 3   Scheme Code      946207 non-null  int64         \n",
      " 4   Txn. No          946207 non-null  object        \n",
      " 5   Txn. Type        946207 non-null  object        \n",
      " 6   Txn. Sub Type    946207 non-null  object        \n",
      " 7   Units            946207 non-null  float64       \n",
      " 8   Purchase Amount  946207 non-null  float64       \n",
      " 9   City             943217 non-null  object        \n",
      " 10  Pin Code         945645 non-null  object        \n",
      " 11  Date of Birth    937774 non-null  object        \n",
      "dtypes: datetime64[ns](1), float64(2), int64(3), object(6)\n",
      "memory usage: 86.6+ MB\n"
     ]
    }
   ],
   "source": [
    "redeem_data = pd.read_csv(\"data/MF_Model_base.csv\",\n",
    "                 parse_dates= {\"date\" : [\"Year\",\"Month\"]})\n",
    "redeem_data.info()"
   ]
  },
  {
   "cell_type": "code",
   "execution_count": 3,
   "metadata": {},
   "outputs": [
    {
     "name": "stdout",
     "output_type": "stream",
     "text": [
      "2013-12-01 00:00:00 2022-12-01 00:00:00\n"
     ]
    }
   ],
   "source": [
    "min_date = redeem_data[\"date\"].min()\n",
    "max_date = redeem_data[\"date\"].max()\n",
    "print(min_date,max_date)\n",
    "from datetime import date, datetime"
   ]
  },
  {
   "cell_type": "code",
   "execution_count": 180,
   "metadata": {},
   "outputs": [
    {
     "data": {
      "text/html": [
       "<div>\n",
       "<style scoped>\n",
       "    .dataframe tbody tr th:only-of-type {\n",
       "        vertical-align: middle;\n",
       "    }\n",
       "\n",
       "    .dataframe tbody tr th {\n",
       "        vertical-align: top;\n",
       "    }\n",
       "\n",
       "    .dataframe thead th {\n",
       "        text-align: right;\n",
       "    }\n",
       "</style>\n",
       "<table border=\"1\" class=\"dataframe\">\n",
       "  <thead>\n",
       "    <tr style=\"text-align: right;\">\n",
       "      <th></th>\n",
       "      <th>Date</th>\n",
       "      <th>Open</th>\n",
       "      <th>High</th>\n",
       "      <th>Low</th>\n",
       "      <th>Close</th>\n",
       "    </tr>\n",
       "  </thead>\n",
       "  <tbody>\n",
       "    <tr>\n",
       "      <th>0</th>\n",
       "      <td>30 Dec 2022</td>\n",
       "      <td>19161.95</td>\n",
       "      <td>19166.70</td>\n",
       "      <td>18922.30</td>\n",
       "      <td>18981.20</td>\n",
       "    </tr>\n",
       "    <tr>\n",
       "      <th>1</th>\n",
       "      <td>29 Dec 2022</td>\n",
       "      <td>18903.15</td>\n",
       "      <td>19179.15</td>\n",
       "      <td>18796.95</td>\n",
       "      <td>19090.60</td>\n",
       "    </tr>\n",
       "    <tr>\n",
       "      <th>2</th>\n",
       "      <td>28 Dec 2022</td>\n",
       "      <td>18956.30</td>\n",
       "      <td>19042.60</td>\n",
       "      <td>18940.55</td>\n",
       "      <td>18982.85</td>\n",
       "    </tr>\n",
       "    <tr>\n",
       "      <th>3</th>\n",
       "      <td>27 Dec 2022</td>\n",
       "      <td>19002.05</td>\n",
       "      <td>19036.85</td>\n",
       "      <td>18838.30</td>\n",
       "      <td>19011.20</td>\n",
       "    </tr>\n",
       "    <tr>\n",
       "      <th>4</th>\n",
       "      <td>26 Dec 2022</td>\n",
       "      <td>18610.70</td>\n",
       "      <td>19010.65</td>\n",
       "      <td>18559.20</td>\n",
       "      <td>18928.65</td>\n",
       "    </tr>\n",
       "  </tbody>\n",
       "</table>\n",
       "</div>"
      ],
      "text/plain": [
       "          Date      Open      High       Low     Close\n",
       "0  30 Dec 2022  19161.95  19166.70  18922.30  18981.20\n",
       "1  29 Dec 2022  18903.15  19179.15  18796.95  19090.60\n",
       "2  28 Dec 2022  18956.30  19042.60  18940.55  18982.85\n",
       "3  27 Dec 2022  19002.05  19036.85  18838.30  19011.20\n",
       "4  26 Dec 2022  18610.70  19010.65  18559.20  18928.65"
      ]
     },
     "execution_count": 180,
     "metadata": {},
     "output_type": "execute_result"
    }
   ],
   "source": [
    "index_data = pd.read_csv(r\"data\\NIFTY FINANCIAL SERVICES_Data.csv\")\n",
    "index_data.head()"
   ]
  },
  {
   "cell_type": "code",
   "execution_count": 181,
   "metadata": {},
   "outputs": [
    {
     "data": {
      "text/html": [
       "<div>\n",
       "<style scoped>\n",
       "    .dataframe tbody tr th:only-of-type {\n",
       "        vertical-align: middle;\n",
       "    }\n",
       "\n",
       "    .dataframe tbody tr th {\n",
       "        vertical-align: top;\n",
       "    }\n",
       "\n",
       "    .dataframe thead th {\n",
       "        text-align: right;\n",
       "    }\n",
       "</style>\n",
       "<table border=\"1\" class=\"dataframe\">\n",
       "  <thead>\n",
       "    <tr style=\"text-align: right;\">\n",
       "      <th></th>\n",
       "      <th>Customer ID</th>\n",
       "      <th>Occupation</th>\n",
       "      <th>Risk Appetite</th>\n",
       "    </tr>\n",
       "  </thead>\n",
       "  <tbody>\n",
       "    <tr>\n",
       "      <th>0</th>\n",
       "      <td>131015</td>\n",
       "      <td>Salaried</td>\n",
       "      <td>High</td>\n",
       "    </tr>\n",
       "    <tr>\n",
       "      <th>1</th>\n",
       "      <td>131006</td>\n",
       "      <td>Salaried</td>\n",
       "      <td>High</td>\n",
       "    </tr>\n",
       "    <tr>\n",
       "      <th>2</th>\n",
       "      <td>131005</td>\n",
       "      <td>Salaried</td>\n",
       "      <td>Low</td>\n",
       "    </tr>\n",
       "    <tr>\n",
       "      <th>3</th>\n",
       "      <td>130988</td>\n",
       "      <td>Salaried</td>\n",
       "      <td>Medium</td>\n",
       "    </tr>\n",
       "    <tr>\n",
       "      <th>4</th>\n",
       "      <td>130986</td>\n",
       "      <td>Salaried</td>\n",
       "      <td>Low</td>\n",
       "    </tr>\n",
       "  </tbody>\n",
       "</table>\n",
       "</div>"
      ],
      "text/plain": [
       "   Customer ID Occupation Risk Appetite\n",
       "0       131015   Salaried          High\n",
       "1       131006   Salaried          High\n",
       "2       131005   Salaried           Low\n",
       "3       130988   Salaried        Medium\n",
       "4       130986   Salaried           Low"
      ]
     },
     "execution_count": 181,
     "metadata": {},
     "output_type": "execute_result"
    }
   ],
   "source": [
    "cust_data = pd.read_excel(r\"data\\MF Customer Details.xlsx\")\n",
    "cust_data.head()"
   ]
  },
  {
   "cell_type": "code",
   "execution_count": 182,
   "metadata": {},
   "outputs": [
    {
     "name": "stdout",
     "output_type": "stream",
     "text": [
      "date           datetime64[ns]\n",
      "Customer ID             int64\n",
      "Txn. Type              object\n",
      "dtype: object\n"
     ]
    },
    {
     "data": {
      "text/html": [
       "<div>\n",
       "<style scoped>\n",
       "    .dataframe tbody tr th:only-of-type {\n",
       "        vertical-align: middle;\n",
       "    }\n",
       "\n",
       "    .dataframe tbody tr th {\n",
       "        vertical-align: top;\n",
       "    }\n",
       "\n",
       "    .dataframe thead th {\n",
       "        text-align: right;\n",
       "    }\n",
       "</style>\n",
       "<table border=\"1\" class=\"dataframe\">\n",
       "  <thead>\n",
       "    <tr style=\"text-align: right;\">\n",
       "      <th></th>\n",
       "      <th>date</th>\n",
       "      <th>Customer ID</th>\n",
       "      <th>Txn. Type</th>\n",
       "    </tr>\n",
       "  </thead>\n",
       "  <tbody>\n",
       "    <tr>\n",
       "      <th>0</th>\n",
       "      <td>2022-11-01</td>\n",
       "      <td>131015</td>\n",
       "      <td>P</td>\n",
       "    </tr>\n",
       "    <tr>\n",
       "      <th>1</th>\n",
       "      <td>2022-11-01</td>\n",
       "      <td>131006</td>\n",
       "      <td>P</td>\n",
       "    </tr>\n",
       "  </tbody>\n",
       "</table>\n",
       "</div>"
      ],
      "text/plain": [
       "        date  Customer ID Txn. Type\n",
       "0 2022-11-01       131015         P\n",
       "1 2022-11-01       131006         P"
      ]
     },
     "execution_count": 182,
     "metadata": {},
     "output_type": "execute_result"
    }
   ],
   "source": [
    "# print(cust_data.columns)\n",
    "# print(index_data.columns)\n",
    "# print(redeem_data.columns)\n",
    "print(redeem_data.dtypes)\n",
    "# print(index_data.dtypes)\n",
    "# print(cust_data.dtypes)\n",
    "redeem_data.head(2)"
   ]
  },
  {
   "cell_type": "code",
   "execution_count": 183,
   "metadata": {},
   "outputs": [],
   "source": [
    "index_data[\"Date\"] = pd.to_datetime(index_data[\"Date\"])\n",
    "redeem_data[\"Date\"] = pd.to_datetime(redeem_data[\"date\"])"
   ]
  },
  {
   "cell_type": "code",
   "execution_count": 184,
   "metadata": {},
   "outputs": [
    {
     "data": {
      "text/plain": [
       "Index(['date', 'Customer ID', 'Txn. Type', 'Close'], dtype='object')"
      ]
     },
     "execution_count": 184,
     "metadata": {},
     "output_type": "execute_result"
    }
   ],
   "source": [
    "redeem_data = redeem_data[['date',\"Customer ID\",'Txn. Type',]]\n",
    "index_data = index_data[['Date','Close']]\n",
    "index_data.rename(columns={\"Date\":\"date\"},inplace=True)\n",
    "df_raw = pd.merge(redeem_data,index_data, how = 'inner', left_on= \"date\", right_on=\"date\")\n",
    "df_raw.columns"
   ]
  },
  {
   "cell_type": "code",
   "execution_count": 185,
   "metadata": {},
   "outputs": [
    {
     "data": {
      "text/html": [
       "<div>\n",
       "<style scoped>\n",
       "    .dataframe tbody tr th:only-of-type {\n",
       "        vertical-align: middle;\n",
       "    }\n",
       "\n",
       "    .dataframe tbody tr th {\n",
       "        vertical-align: top;\n",
       "    }\n",
       "\n",
       "    .dataframe thead th {\n",
       "        text-align: right;\n",
       "    }\n",
       "</style>\n",
       "<table border=\"1\" class=\"dataframe\">\n",
       "  <thead>\n",
       "    <tr style=\"text-align: right;\">\n",
       "      <th></th>\n",
       "      <th>date</th>\n",
       "      <th>Customer ID</th>\n",
       "      <th>Txn. Type</th>\n",
       "      <th>Close</th>\n",
       "      <th>Occupation</th>\n",
       "      <th>Risk Appetite</th>\n",
       "    </tr>\n",
       "  </thead>\n",
       "  <tbody>\n",
       "    <tr>\n",
       "      <th>0</th>\n",
       "      <td>2022-11-01</td>\n",
       "      <td>131015</td>\n",
       "      <td>P</td>\n",
       "      <td>18606.4</td>\n",
       "      <td>Salaried</td>\n",
       "      <td>High</td>\n",
       "    </tr>\n",
       "    <tr>\n",
       "      <th>1</th>\n",
       "      <td>2022-11-01</td>\n",
       "      <td>131006</td>\n",
       "      <td>P</td>\n",
       "      <td>18606.4</td>\n",
       "      <td>Salaried</td>\n",
       "      <td>High</td>\n",
       "    </tr>\n",
       "    <tr>\n",
       "      <th>2</th>\n",
       "      <td>2022-11-01</td>\n",
       "      <td>131005</td>\n",
       "      <td>P</td>\n",
       "      <td>18606.4</td>\n",
       "      <td>Salaried</td>\n",
       "      <td>Low</td>\n",
       "    </tr>\n",
       "    <tr>\n",
       "      <th>3</th>\n",
       "      <td>2022-11-01</td>\n",
       "      <td>130988</td>\n",
       "      <td>P</td>\n",
       "      <td>18606.4</td>\n",
       "      <td>Salaried</td>\n",
       "      <td>Medium</td>\n",
       "    </tr>\n",
       "    <tr>\n",
       "      <th>4</th>\n",
       "      <td>2022-11-01</td>\n",
       "      <td>130986</td>\n",
       "      <td>P</td>\n",
       "      <td>18606.4</td>\n",
       "      <td>Salaried</td>\n",
       "      <td>Low</td>\n",
       "    </tr>\n",
       "    <tr>\n",
       "      <th>...</th>\n",
       "      <td>...</td>\n",
       "      <td>...</td>\n",
       "      <td>...</td>\n",
       "      <td>...</td>\n",
       "      <td>...</td>\n",
       "      <td>...</td>\n",
       "    </tr>\n",
       "    <tr>\n",
       "      <th>639423</th>\n",
       "      <td>2014-10-01</td>\n",
       "      <td>22726</td>\n",
       "      <td>P</td>\n",
       "      <td>6298.8</td>\n",
       "      <td>Salaried</td>\n",
       "      <td>High</td>\n",
       "    </tr>\n",
       "    <tr>\n",
       "      <th>640082</th>\n",
       "      <td>2014-10-01</td>\n",
       "      <td>18359</td>\n",
       "      <td>P</td>\n",
       "      <td>6298.8</td>\n",
       "      <td>Self-Employed</td>\n",
       "      <td>Medium</td>\n",
       "    </tr>\n",
       "    <tr>\n",
       "      <th>641925</th>\n",
       "      <td>2014-10-01</td>\n",
       "      <td>8445</td>\n",
       "      <td>R</td>\n",
       "      <td>6298.8</td>\n",
       "      <td>Self-Employed</td>\n",
       "      <td>Medium</td>\n",
       "    </tr>\n",
       "    <tr>\n",
       "      <th>641960</th>\n",
       "      <td>2014-10-01</td>\n",
       "      <td>7361</td>\n",
       "      <td>P</td>\n",
       "      <td>6298.8</td>\n",
       "      <td>Self-Employed</td>\n",
       "      <td>Medium</td>\n",
       "    </tr>\n",
       "    <tr>\n",
       "      <th>642001</th>\n",
       "      <td>2014-10-01</td>\n",
       "      <td>5916</td>\n",
       "      <td>SI</td>\n",
       "      <td>6298.8</td>\n",
       "      <td>Self-Employed</td>\n",
       "      <td>Low</td>\n",
       "    </tr>\n",
       "  </tbody>\n",
       "</table>\n",
       "<p>642087 rows × 6 columns</p>\n",
       "</div>"
      ],
      "text/plain": [
       "             date  Customer ID Txn. Type    Close     Occupation Risk Appetite\n",
       "0      2022-11-01       131015         P  18606.4       Salaried          High\n",
       "1      2022-11-01       131006         P  18606.4       Salaried          High\n",
       "2      2022-11-01       131005         P  18606.4       Salaried           Low\n",
       "3      2022-11-01       130988         P  18606.4       Salaried        Medium\n",
       "4      2022-11-01       130986         P  18606.4       Salaried           Low\n",
       "...           ...          ...       ...      ...            ...           ...\n",
       "639423 2014-10-01        22726         P   6298.8       Salaried          High\n",
       "640082 2014-10-01        18359         P   6298.8  Self-Employed        Medium\n",
       "641925 2014-10-01         8445         R   6298.8  Self-Employed        Medium\n",
       "641960 2014-10-01         7361         P   6298.8  Self-Employed        Medium\n",
       "642001 2014-10-01         5916        SI   6298.8  Self-Employed           Low\n",
       "\n",
       "[642087 rows x 6 columns]"
      ]
     },
     "execution_count": 185,
     "metadata": {},
     "output_type": "execute_result"
    }
   ],
   "source": [
    "df_raw.join(cust_data.set_index(\"Customer ID\"),how='inner', on='Customer ID')"
   ]
  },
  {
   "cell_type": "code",
   "execution_count": 204,
   "metadata": {},
   "outputs": [],
   "source": [
    "\n",
    "df_raw.isnull().sum()\n",
    "df = df_raw.copy()\n",
    "\n",
    "# Renaming Columns as per fb conventions \n",
    "df.rename(columns={'date':'ds', \"Txn. Type\":'y'},inplace=True)\n",
    "transactions = ['R','P']\n",
    "\n",
    "df = df[df['y'].isin(transactions)]\n",
    "#  Cleaning\n",
    "df.drop(columns = \"Customer ID\", inplace=True)\n",
    "df.drop_duplicates()\n",
    "\n",
    "# encoding Target columns\n",
    "df.replace({'R':1,'P':0},inplace=True)"
   ]
  },
  {
   "cell_type": "code",
   "execution_count": 205,
   "metadata": {},
   "outputs": [
    {
     "data": {
      "text/html": [
       "<div>\n",
       "<style scoped>\n",
       "    .dataframe tbody tr th:only-of-type {\n",
       "        vertical-align: middle;\n",
       "    }\n",
       "\n",
       "    .dataframe tbody tr th {\n",
       "        vertical-align: top;\n",
       "    }\n",
       "\n",
       "    .dataframe thead th {\n",
       "        text-align: right;\n",
       "    }\n",
       "</style>\n",
       "<table border=\"1\" class=\"dataframe\">\n",
       "  <thead>\n",
       "    <tr style=\"text-align: right;\">\n",
       "      <th></th>\n",
       "      <th>ds</th>\n",
       "      <th>y</th>\n",
       "      <th>Close</th>\n",
       "    </tr>\n",
       "  </thead>\n",
       "  <tbody>\n",
       "    <tr>\n",
       "      <th>0</th>\n",
       "      <td>2022-11-01</td>\n",
       "      <td>0</td>\n",
       "      <td>0.947876</td>\n",
       "    </tr>\n",
       "    <tr>\n",
       "      <th>1</th>\n",
       "      <td>2022-11-01</td>\n",
       "      <td>0</td>\n",
       "      <td>0.947876</td>\n",
       "    </tr>\n",
       "    <tr>\n",
       "      <th>2</th>\n",
       "      <td>2022-11-01</td>\n",
       "      <td>0</td>\n",
       "      <td>0.947876</td>\n",
       "    </tr>\n",
       "    <tr>\n",
       "      <th>3</th>\n",
       "      <td>2022-11-01</td>\n",
       "      <td>0</td>\n",
       "      <td>0.947876</td>\n",
       "    </tr>\n",
       "    <tr>\n",
       "      <th>4</th>\n",
       "      <td>2022-11-01</td>\n",
       "      <td>0</td>\n",
       "      <td>0.947876</td>\n",
       "    </tr>\n",
       "    <tr>\n",
       "      <th>...</th>\n",
       "      <td>...</td>\n",
       "      <td>...</td>\n",
       "      <td>...</td>\n",
       "    </tr>\n",
       "    <tr>\n",
       "      <th>642080</th>\n",
       "      <td>2014-10-01</td>\n",
       "      <td>0</td>\n",
       "      <td>0.106702</td>\n",
       "    </tr>\n",
       "    <tr>\n",
       "      <th>642081</th>\n",
       "      <td>2014-10-01</td>\n",
       "      <td>0</td>\n",
       "      <td>0.106702</td>\n",
       "    </tr>\n",
       "    <tr>\n",
       "      <th>642082</th>\n",
       "      <td>2014-10-01</td>\n",
       "      <td>0</td>\n",
       "      <td>0.106702</td>\n",
       "    </tr>\n",
       "    <tr>\n",
       "      <th>642084</th>\n",
       "      <td>2014-10-01</td>\n",
       "      <td>0</td>\n",
       "      <td>0.106702</td>\n",
       "    </tr>\n",
       "    <tr>\n",
       "      <th>642085</th>\n",
       "      <td>2014-10-01</td>\n",
       "      <td>0</td>\n",
       "      <td>0.106702</td>\n",
       "    </tr>\n",
       "  </tbody>\n",
       "</table>\n",
       "<p>597971 rows × 3 columns</p>\n",
       "</div>"
      ],
      "text/plain": [
       "               ds  y     Close\n",
       "0      2022-11-01  0  0.947876\n",
       "1      2022-11-01  0  0.947876\n",
       "2      2022-11-01  0  0.947876\n",
       "3      2022-11-01  0  0.947876\n",
       "4      2022-11-01  0  0.947876\n",
       "...           ... ..       ...\n",
       "642080 2014-10-01  0  0.106702\n",
       "642081 2014-10-01  0  0.106702\n",
       "642082 2014-10-01  0  0.106702\n",
       "642084 2014-10-01  0  0.106702\n",
       "642085 2014-10-01  0  0.106702\n",
       "\n",
       "[597971 rows x 3 columns]"
      ]
     },
     "metadata": {},
     "output_type": "display_data"
    }
   ],
   "source": [
    "# copy the data\n",
    "df_min_max_scaled = df.copy()\n",
    "\n",
    "\n",
    "# Scaling\n",
    "# apply normalization techniques by Column\n",
    "column = 'Close'\n",
    "df_min_max_scaled[column] = (df_min_max_scaled[column] - df_min_max_scaled[column].min()) / (df_min_max_scaled[column].max() - df_min_max_scaled[column].min())\t\n",
    "\n",
    "# view normalized data\n",
    "display(df_min_max_scaled)\n",
    "\n",
    "# Copy df for fbprophet abd other models\n",
    "df_svm = df_min_max_scaled.copy()\n",
    "df_fb = df_min_max_scaled.copy()"
   ]
  },
  {
   "cell_type": "markdown",
   "metadata": {},
   "source": [
    "#### fbprophet"
   ]
  },
  {
   "cell_type": "code",
   "execution_count": 206,
   "metadata": {},
   "outputs": [],
   "source": [
    "df_fb2  = df_fb.copy(deep=True)\n",
    "df_fb2.drop(columns='Close', inplace=True)"
   ]
  },
  {
   "cell_type": "code",
   "execution_count": 207,
   "metadata": {},
   "outputs": [
    {
     "data": {
      "text/plain": [
       "ds       datetime64[ns]\n",
       "y                 int64\n",
       "Close           float64\n",
       "dtype: object"
      ]
     },
     "execution_count": 207,
     "metadata": {},
     "output_type": "execute_result"
    }
   ],
   "source": [
    "df_fb.dtypes"
   ]
  },
  {
   "cell_type": "code",
   "execution_count": 208,
   "metadata": {},
   "outputs": [],
   "source": [
    "from sklearn.model_selection import train_test_split\n",
    "X_train, X_test = train_test_split(df_fb2, test_size=0.2)"
   ]
  },
  {
   "cell_type": "code",
   "execution_count": 209,
   "metadata": {},
   "outputs": [
    {
     "name": "stdout",
     "output_type": "stream",
     "text": [
      "(478376, 2)\n",
      "(119595, 2)\n",
      "ds    datetime64[ns]\n",
      "y              int64\n",
      "dtype: object\n",
      "[0 1]\n",
      "0    579253\n",
      "1     18718\n",
      "Name: y, dtype: int64\n"
     ]
    }
   ],
   "source": [
    "print(X_train.shape)\n",
    "print(X_test.shape)\n",
    "print(df_fb2.dtypes)\n",
    "print(df_fb2[\"y\"].unique())\n",
    "print(df_fb2[\"y\"].value_counts())"
   ]
  },
  {
   "cell_type": "code",
   "execution_count": 210,
   "metadata": {},
   "outputs": [
    {
     "data": {
      "text/plain": [
       "ds    datetime64[ns]\n",
       "y              int64\n",
       "dtype: object"
      ]
     },
     "execution_count": 210,
     "metadata": {},
     "output_type": "execute_result"
    }
   ],
   "source": [
    "X_train.dtypes"
   ]
  },
  {
   "cell_type": "code",
   "execution_count": null,
   "metadata": {},
   "outputs": [],
   "source": [
    "from fbprophet import Prophet\n",
    "m = Prophet()\n",
    "m.fit(X_train)"
   ]
  },
  {
   "cell_type": "code",
   "execution_count": 211,
   "metadata": {},
   "outputs": [
    {
     "name": "stdout",
     "output_type": "stream",
     "text": [
      "           ds      yhat  yhat_lower  yhat_upper\n",
      "0  2014-01-01  0.016811   -0.209583    0.231415\n",
      "1  2014-04-01  0.006452   -0.210479    0.231541\n",
      "2  2014-07-01  0.006712   -0.206999    0.223722\n",
      "3  2014-08-01  0.010742   -0.215155    0.243527\n",
      "4  2014-09-01  0.013608   -0.216310    0.238029\n",
      "..        ...       ...         ...         ...\n",
      "92 2022-12-22 -0.120382   -0.339283    0.091653\n",
      "93 2022-12-23 -0.109345   -0.327266    0.113530\n",
      "94 2022-12-24 -0.095917   -0.314730    0.129914\n",
      "95 2022-12-25 -0.080387   -0.293160    0.139814\n",
      "96 2022-12-26 -0.063101   -0.268906    0.161698\n",
      "\n",
      "[97 rows x 4 columns]\n"
     ]
    }
   ],
   "source": [
    "future_dates = m.make_future_dataframe(periods=25)\n",
    "future_dates['y'] = X_test['y']\n",
    "forecast = m.predict(future_dates)\n",
    "print(forecast[['ds', 'yhat', 'yhat_lower', 'yhat_upper']])"
   ]
  },
  {
   "cell_type": "code",
   "execution_count": 212,
   "metadata": {},
   "outputs": [
    {
     "data": {
      "image/png": "[encoded data removed]",
      "text/plain": [
       "<Figure size 640x480 with 1 Axes>"
      ]
     },
     "metadata": {},
     "output_type": "display_data"
    }
   ],
   "source": [
    "import matplotlib.pyplot as plt\n",
    "\n",
    "# Plot the actual data\n",
    "plt.plot(X_train['ds'], X_train['y'], label='Actual')\n",
    "\n",
    "# Plot the forecasted values\n",
    "plt.plot(forecast['ds'], forecast['yhat'], label='Forecast')\n",
    "\n",
    "# Plot the uncertainty interval\n",
    "plt.fill_between(forecast['ds'], forecast['yhat_upper'], forecast['yhat_lower'], alpha=0.2)\n",
    "\n",
    "# Add labels and legend\n",
    "plt.xlabel('Date')\n",
    "plt.ylabel('Value')\n",
    "plt.title('Forecast with Prophet')\n",
    "plt.legend()\n",
    "\n",
    "# Show the plot\n",
    "plt.show()\n"
   ]
  },
  {
   "cell_type": "code",
   "execution_count": null,
   "metadata": {},
   "outputs": [],
   "source": [
    "## With additional columns\n",
    "\n",
    "from fbprophet import Prophet\n",
    "model = Prophet()\n",
    "model.add_regressor('Close')\n",
    "model.fit(X_train)\n",
    "future_dates = model.make_future_dataframe(periods=30)\n",
    "future_dates['Close'] = X_train['Close'].values[-1]\n",
    "forecast = model.predict(future_dates)\n",
    "print(forecast[['ds', 'yhat', 'yhat_lower', 'yhat_upper']])\n"
   ]
  },
  {
   "cell_type": "markdown",
   "metadata": {},
   "source": [
    "#### SVM "
   ]
  },
  {
   "cell_type": "code",
   "execution_count": 213,
   "metadata": {},
   "outputs": [
    {
     "data": {
      "text/html": [
       "<div>\n",
       "<style scoped>\n",
       "    .dataframe tbody tr th:only-of-type {\n",
       "        vertical-align: middle;\n",
       "    }\n",
       "\n",
       "    .dataframe tbody tr th {\n",
       "        vertical-align: top;\n",
       "    }\n",
       "\n",
       "    .dataframe thead th {\n",
       "        text-align: right;\n",
       "    }\n",
       "</style>\n",
       "<table border=\"1\" class=\"dataframe\">\n",
       "  <thead>\n",
       "    <tr style=\"text-align: right;\">\n",
       "      <th></th>\n",
       "      <th>ds</th>\n",
       "      <th>y</th>\n",
       "      <th>Close</th>\n",
       "    </tr>\n",
       "  </thead>\n",
       "  <tbody>\n",
       "    <tr>\n",
       "      <th>0</th>\n",
       "      <td>2022-11-01</td>\n",
       "      <td>0</td>\n",
       "      <td>0.947876</td>\n",
       "    </tr>\n",
       "    <tr>\n",
       "      <th>1</th>\n",
       "      <td>2022-11-01</td>\n",
       "      <td>0</td>\n",
       "      <td>0.947876</td>\n",
       "    </tr>\n",
       "    <tr>\n",
       "      <th>2</th>\n",
       "      <td>2022-11-01</td>\n",
       "      <td>0</td>\n",
       "      <td>0.947876</td>\n",
       "    </tr>\n",
       "    <tr>\n",
       "      <th>3</th>\n",
       "      <td>2022-11-01</td>\n",
       "      <td>0</td>\n",
       "      <td>0.947876</td>\n",
       "    </tr>\n",
       "    <tr>\n",
       "      <th>4</th>\n",
       "      <td>2022-11-01</td>\n",
       "      <td>0</td>\n",
       "      <td>0.947876</td>\n",
       "    </tr>\n",
       "    <tr>\n",
       "      <th>...</th>\n",
       "      <td>...</td>\n",
       "      <td>...</td>\n",
       "      <td>...</td>\n",
       "    </tr>\n",
       "    <tr>\n",
       "      <th>642080</th>\n",
       "      <td>2014-10-01</td>\n",
       "      <td>0</td>\n",
       "      <td>0.106702</td>\n",
       "    </tr>\n",
       "    <tr>\n",
       "      <th>642081</th>\n",
       "      <td>2014-10-01</td>\n",
       "      <td>0</td>\n",
       "      <td>0.106702</td>\n",
       "    </tr>\n",
       "    <tr>\n",
       "      <th>642082</th>\n",
       "      <td>2014-10-01</td>\n",
       "      <td>0</td>\n",
       "      <td>0.106702</td>\n",
       "    </tr>\n",
       "    <tr>\n",
       "      <th>642084</th>\n",
       "      <td>2014-10-01</td>\n",
       "      <td>0</td>\n",
       "      <td>0.106702</td>\n",
       "    </tr>\n",
       "    <tr>\n",
       "      <th>642085</th>\n",
       "      <td>2014-10-01</td>\n",
       "      <td>0</td>\n",
       "      <td>0.106702</td>\n",
       "    </tr>\n",
       "  </tbody>\n",
       "</table>\n",
       "<p>597971 rows × 3 columns</p>\n",
       "</div>"
      ],
      "text/plain": [
       "               ds  y     Close\n",
       "0      2022-11-01  0  0.947876\n",
       "1      2022-11-01  0  0.947876\n",
       "2      2022-11-01  0  0.947876\n",
       "3      2022-11-01  0  0.947876\n",
       "4      2022-11-01  0  0.947876\n",
       "...           ... ..       ...\n",
       "642080 2014-10-01  0  0.106702\n",
       "642081 2014-10-01  0  0.106702\n",
       "642082 2014-10-01  0  0.106702\n",
       "642084 2014-10-01  0  0.106702\n",
       "642085 2014-10-01  0  0.106702\n",
       "\n",
       "[597971 rows x 3 columns]"
      ]
     },
     "execution_count": 213,
     "metadata": {},
     "output_type": "execute_result"
    }
   ],
   "source": [
    "df_svm"
   ]
  },
  {
   "cell_type": "code",
   "execution_count": 215,
   "metadata": {},
   "outputs": [
    {
     "data": {
      "text/html": [
       "<div>\n",
       "<style scoped>\n",
       "    .dataframe tbody tr th:only-of-type {\n",
       "        vertical-align: middle;\n",
       "    }\n",
       "\n",
       "    .dataframe tbody tr th {\n",
       "        vertical-align: top;\n",
       "    }\n",
       "\n",
       "    .dataframe thead th {\n",
       "        text-align: right;\n",
       "    }\n",
       "</style>\n",
       "<table border=\"1\" class=\"dataframe\">\n",
       "  <thead>\n",
       "    <tr style=\"text-align: right;\">\n",
       "      <th></th>\n",
       "      <th>Close</th>\n",
       "    </tr>\n",
       "    <tr>\n",
       "      <th>ds</th>\n",
       "      <th></th>\n",
       "    </tr>\n",
       "  </thead>\n",
       "  <tbody>\n",
       "    <tr>\n",
       "      <th>2014-10-01</th>\n",
       "      <td>0.106702</td>\n",
       "    </tr>\n",
       "    <tr>\n",
       "      <th>2015-09-01</th>\n",
       "      <td>0.139815</td>\n",
       "    </tr>\n",
       "    <tr>\n",
       "      <th>2022-08-01</th>\n",
       "      <td>0.878013</td>\n",
       "    </tr>\n",
       "    <tr>\n",
       "      <th>2018-08-01</th>\n",
       "      <td>0.468351</td>\n",
       "    </tr>\n",
       "    <tr>\n",
       "      <th>2019-07-01</th>\n",
       "      <td>0.612250</td>\n",
       "    </tr>\n",
       "    <tr>\n",
       "      <th>...</th>\n",
       "      <td>...</td>\n",
       "    </tr>\n",
       "    <tr>\n",
       "      <th>2021-02-01</th>\n",
       "      <td>0.749403</td>\n",
       "    </tr>\n",
       "    <tr>\n",
       "      <th>2022-11-01</th>\n",
       "      <td>0.947876</td>\n",
       "    </tr>\n",
       "    <tr>\n",
       "      <th>2016-12-01</th>\n",
       "      <td>0.191102</td>\n",
       "    </tr>\n",
       "    <tr>\n",
       "      <th>2022-06-01</th>\n",
       "      <td>0.804069</td>\n",
       "    </tr>\n",
       "    <tr>\n",
       "      <th>2022-02-01</th>\n",
       "      <td>0.910549</td>\n",
       "    </tr>\n",
       "  </tbody>\n",
       "</table>\n",
       "<p>119595 rows × 1 columns</p>\n",
       "</div>"
      ],
      "text/plain": [
       "               Close\n",
       "ds                  \n",
       "2014-10-01  0.106702\n",
       "2015-09-01  0.139815\n",
       "2022-08-01  0.878013\n",
       "2018-08-01  0.468351\n",
       "2019-07-01  0.612250\n",
       "...              ...\n",
       "2021-02-01  0.749403\n",
       "2022-11-01  0.947876\n",
       "2016-12-01  0.191102\n",
       "2022-06-01  0.804069\n",
       "2022-02-01  0.910549\n",
       "\n",
       "[119595 rows x 1 columns]"
      ]
     },
     "metadata": {},
     "output_type": "display_data"
    }
   ],
   "source": [
    "from sklearn.preprocessing import MinMaxScaler\n",
    "from sklearn.model_selection import train_test_split\n",
    "\n",
    "X= df_svm.drop(columns=[\"y\"], axis=1)\n",
    "y = df_svm['y']\n",
    "X_train, X_test, y_train, y_test = train_test_split(X,y,test_size=0.2,random_state=42)\n",
    "X_train.set_index('ds',inplace=True)\n",
    "X_test.set_index('ds',inplace=True)\n",
    "\n",
    "display(X_test)\n"
   ]
  },
  {
   "cell_type": "code",
   "execution_count": 217,
   "metadata": {},
   "outputs": [
    {
     "data": {
      "text/html": [
       "<div>\n",
       "<style scoped>\n",
       "    .dataframe tbody tr th:only-of-type {\n",
       "        vertical-align: middle;\n",
       "    }\n",
       "\n",
       "    .dataframe tbody tr th {\n",
       "        vertical-align: top;\n",
       "    }\n",
       "\n",
       "    .dataframe thead th {\n",
       "        text-align: right;\n",
       "    }\n",
       "</style>\n",
       "<table border=\"1\" class=\"dataframe\">\n",
       "  <thead>\n",
       "    <tr style=\"text-align: right;\">\n",
       "      <th></th>\n",
       "      <th>ds</th>\n",
       "      <th>Close</th>\n",
       "    </tr>\n",
       "  </thead>\n",
       "  <tbody>\n",
       "    <tr>\n",
       "      <th>0</th>\n",
       "      <td>2014-10-01</td>\n",
       "      <td>0.106702</td>\n",
       "    </tr>\n",
       "    <tr>\n",
       "      <th>1</th>\n",
       "      <td>2015-09-01</td>\n",
       "      <td>0.139815</td>\n",
       "    </tr>\n",
       "    <tr>\n",
       "      <th>2</th>\n",
       "      <td>2022-08-01</td>\n",
       "      <td>0.878013</td>\n",
       "    </tr>\n",
       "    <tr>\n",
       "      <th>3</th>\n",
       "      <td>2018-08-01</td>\n",
       "      <td>0.468351</td>\n",
       "    </tr>\n",
       "    <tr>\n",
       "      <th>4</th>\n",
       "      <td>2019-07-01</td>\n",
       "      <td>0.612250</td>\n",
       "    </tr>\n",
       "    <tr>\n",
       "      <th>...</th>\n",
       "      <td>...</td>\n",
       "      <td>...</td>\n",
       "    </tr>\n",
       "    <tr>\n",
       "      <th>119590</th>\n",
       "      <td>2021-02-01</td>\n",
       "      <td>0.749403</td>\n",
       "    </tr>\n",
       "    <tr>\n",
       "      <th>119591</th>\n",
       "      <td>2022-11-01</td>\n",
       "      <td>0.947876</td>\n",
       "    </tr>\n",
       "    <tr>\n",
       "      <th>119592</th>\n",
       "      <td>2016-12-01</td>\n",
       "      <td>0.191102</td>\n",
       "    </tr>\n",
       "    <tr>\n",
       "      <th>119593</th>\n",
       "      <td>2022-06-01</td>\n",
       "      <td>0.804069</td>\n",
       "    </tr>\n",
       "    <tr>\n",
       "      <th>119594</th>\n",
       "      <td>2022-02-01</td>\n",
       "      <td>0.910549</td>\n",
       "    </tr>\n",
       "  </tbody>\n",
       "</table>\n",
       "<p>119595 rows × 2 columns</p>\n",
       "</div>"
      ],
      "text/plain": [
       "               ds     Close\n",
       "0      2014-10-01  0.106702\n",
       "1      2015-09-01  0.139815\n",
       "2      2022-08-01  0.878013\n",
       "3      2018-08-01  0.468351\n",
       "4      2019-07-01  0.612250\n",
       "...           ...       ...\n",
       "119590 2021-02-01  0.749403\n",
       "119591 2022-11-01  0.947876\n",
       "119592 2016-12-01  0.191102\n",
       "119593 2022-06-01  0.804069\n",
       "119594 2022-02-01  0.910549\n",
       "\n",
       "[119595 rows x 2 columns]"
      ]
     },
     "execution_count": 217,
     "metadata": {},
     "output_type": "execute_result"
    }
   ],
   "source": [
    "X_train.reset_index()\n",
    "X_test.reset_index()"
   ]
  },
  {
   "cell_type": "code",
   "execution_count": null,
   "metadata": {},
   "outputs": [],
   "source": []
  },
  {
   "cell_type": "code",
   "execution_count": null,
   "metadata": {},
   "outputs": [],
   "source": [
    "# Evaluate your model\n",
    "\n",
    "# Scaling the predictions\n",
    "y_train_pred = norm.inverse_transform(y_train_pred)\n",
    "y_test_pred = norm.inverse_transform(y_test_pred)\n",
    "\n",
    "print(len(y_train_pred), len(y_test_pred))\n",
    "\n",
    "# Check model performance on training and testing data \n",
    "\n",
    "train_timestamps = X_train.index\n",
    "test_timestamps = X_test.index\n",
    "\n",
    "print(len(train_timestamps), len(test_timestamps))"
   ]
  },
  {
   "cell_type": "code",
   "execution_count": null,
   "metadata": {},
   "outputs": [],
   "source": [
    "from common.utils import mape"
   ]
  },
  {
   "cell_type": "code",
   "execution_count": null,
   "metadata": {},
   "outputs": [],
   "source": [
    "plt.figure(figsize=(25,6))\n",
    "plt.plot(train_timestamps, y_train, color = 'red', linewidth=2.0, alpha = 0.6)\n",
    "plt.plot(train_timestamps, y_train_pred, color = 'blue', linewidth=0.8)\n",
    "plt.legend(['Actual','Predicted'])\n",
    "plt.xlabel('Timestamp')\n",
    "plt.title(\"Training data prediction\")\n",
    "plt.show()"
   ]
  },
  {
   "cell_type": "code",
   "execution_count": null,
   "metadata": {},
   "outputs": [],
   "source": [
    "# Print MAPE for training data\n",
    "print('MAPE for training data: ', mape(y_train_pred, y_train)*100, '%')\n",
    "\n",
    "print('MAPE for testing data: ', mape(y_test_pred, y_test)*100, '%')"
   ]
  }
 ],
 "metadata": {
  "kernelspec": {
   "display_name": "Python 3",
   "language": "python",
   "name": "python3"
  },
  "language_info": {
   "codemirror_mode": {
    "name": "ipython",
    "version": 3
   },
   "file_extension": ".py",
   "mimetype": "text/x-python",
   "name": "python",
   "nbconvert_exporter": "python",
   "pygments_lexer": "ipython3",
   "version": "3.7.16"
  },
  "orig_nbformat": 4
 },
 "nbformat": 4,
 "nbformat_minor": 2
}
